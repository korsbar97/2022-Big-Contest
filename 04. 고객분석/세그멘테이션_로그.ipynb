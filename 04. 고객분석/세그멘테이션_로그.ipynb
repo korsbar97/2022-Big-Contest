{
 "cells": [
  {
   "cell_type": "markdown",
   "id": "e8730675",
   "metadata": {
    "id": "e8730675"
   },
   "source": [
    "# Load library and data"
   ]
  },
  {
   "cell_type": "code",
   "execution_count": 2,
   "id": "3ba1fbfc",
   "metadata": {
    "id": "3ba1fbfc"
   },
   "outputs": [],
   "source": [
    "import pandas as pd\n",
    "import numpy as np\n",
    "import matplotlib.pyplot as plt\n",
    "import seaborn as sns\n",
    "\n",
    "\n",
    "%matplotlib inline"
   ]
  },
  {
   "cell_type": "code",
   "execution_count": 3,
   "id": "0f3b9e6c",
   "metadata": {
    "id": "0f3b9e6c",
    "outputId": "21ce78cd-f111-479b-ec96-e2275147fee0"
   },
   "outputs": [
    {
     "data": {
      "image/png": "[encoded data removed]",
      "text/plain": [
       "<Figure size 144x144 with 1 Axes>"
      ]
     },
     "metadata": {
      "needs_background": "light"
     },
     "output_type": "display_data"
    }
   ],
   "source": [
    "from matplotlib import font_manager, rc\n",
    "font_path = \"C:/Windows/Fonts/NGULIM.TTF\"\n",
    "font = font_manager.FontProperties(fname=font_path).get_name()\n",
    "rc('font', family=font)\n",
    "\n",
    "## Test\n",
    "plt.figure(figsize=(2,2))\n",
    "plt.text(0.3, 0.3, '한글 폰트 테스트', size=15)\n",
    "plt.show() "
   ]
  },
  {
   "cell_type": "code",
   "execution_count": 14,
   "id": "bda8f249",
   "metadata": {
    "id": "bda8f249"
   },
   "outputs": [],
   "source": [
    "# 개요 페이지\n",
    "dat = pd.read_csv(r'C:/Users/cny13/OneDrive/바탕 화면/빅콘/segmentation용 데이터/customer_log_ver2.csv')   "
   ]
  },
  {
   "cell_type": "code",
   "execution_count": 16,
   "id": "b52860ba",
   "metadata": {},
   "outputs": [
    {
     "name": "stdout",
     "output_type": "stream",
     "text": [
      "shape: (2507971, 17)\n",
      "users: 479773\n"
     ]
    }
   ],
   "source": [
    "print('shape:',dat.shape)\n",
    "print('users:',dat.user_id.nunique())"
   ]
  },
  {
   "cell_type": "code",
   "execution_count": 17,
   "id": "4d5a0bee",
   "metadata": {},
   "outputs": [
    {
     "data": {
      "text/html": [
       "<div>\n",
       "<style scoped>\n",
       "    .dataframe tbody tr th:only-of-type {\n",
       "        vertical-align: middle;\n",
       "    }\n",
       "\n",
       "    .dataframe tbody tr th {\n",
       "        vertical-align: top;\n",
       "    }\n",
       "\n",
       "    .dataframe thead th {\n",
       "        text-align: right;\n",
       "    }\n",
       "</style>\n",
       "<table border=\"1\" class=\"dataframe\">\n",
       "  <thead>\n",
       "    <tr style=\"text-align: right;\">\n",
       "      <th></th>\n",
       "      <th>user_id</th>\n",
       "      <th>date_cd</th>\n",
       "      <th>mp_os</th>\n",
       "      <th>Session</th>\n",
       "      <th>how_long</th>\n",
       "      <th>visit_cumsum</th>\n",
       "      <th>visit_rate</th>\n",
       "      <th>OpenApp</th>\n",
       "      <th>Login</th>\n",
       "      <th>StartLoanApply</th>\n",
       "      <th>ViewLoanApplyIntro</th>\n",
       "      <th>CompleteIDCertification</th>\n",
       "      <th>EndLoanApply</th>\n",
       "      <th>UseDSRCalc</th>\n",
       "      <th>UseLoanManage</th>\n",
       "      <th>UsePrepayCalc</th>\n",
       "      <th>GetCreditInfo</th>\n",
       "    </tr>\n",
       "  </thead>\n",
       "  <tbody>\n",
       "    <tr>\n",
       "      <th>80583</th>\n",
       "      <td>28520</td>\n",
       "      <td>2022-03-01</td>\n",
       "      <td>iOS</td>\n",
       "      <td>1</td>\n",
       "      <td>1</td>\n",
       "      <td>0.0</td>\n",
       "      <td>0.000000</td>\n",
       "      <td>1</td>\n",
       "      <td>1</td>\n",
       "      <td>1</td>\n",
       "      <td>1</td>\n",
       "      <td>1</td>\n",
       "      <td>1</td>\n",
       "      <td>0</td>\n",
       "      <td>0</td>\n",
       "      <td>0</td>\n",
       "      <td>0</td>\n",
       "    </tr>\n",
       "    <tr>\n",
       "      <th>1219304</th>\n",
       "      <td>428746</td>\n",
       "      <td>2022-03-01</td>\n",
       "      <td>Android</td>\n",
       "      <td>1</td>\n",
       "      <td>1</td>\n",
       "      <td>0.0</td>\n",
       "      <td>0.000000</td>\n",
       "      <td>1</td>\n",
       "      <td>1</td>\n",
       "      <td>0</td>\n",
       "      <td>0</td>\n",
       "      <td>0</td>\n",
       "      <td>0</td>\n",
       "      <td>0</td>\n",
       "      <td>1</td>\n",
       "      <td>0</td>\n",
       "      <td>1</td>\n",
       "    </tr>\n",
       "    <tr>\n",
       "      <th>379631</th>\n",
       "      <td>133305</td>\n",
       "      <td>2022-03-01</td>\n",
       "      <td>unknown</td>\n",
       "      <td>1</td>\n",
       "      <td>1</td>\n",
       "      <td>0.0</td>\n",
       "      <td>0.000000</td>\n",
       "      <td>1</td>\n",
       "      <td>1</td>\n",
       "      <td>0</td>\n",
       "      <td>0</td>\n",
       "      <td>0</td>\n",
       "      <td>0</td>\n",
       "      <td>0</td>\n",
       "      <td>0</td>\n",
       "      <td>0</td>\n",
       "      <td>1</td>\n",
       "    </tr>\n",
       "    <tr>\n",
       "      <th>1010283</th>\n",
       "      <td>355462</td>\n",
       "      <td>2022-03-01</td>\n",
       "      <td>Android</td>\n",
       "      <td>1</td>\n",
       "      <td>1</td>\n",
       "      <td>0.0</td>\n",
       "      <td>0.000000</td>\n",
       "      <td>1</td>\n",
       "      <td>1</td>\n",
       "      <td>1</td>\n",
       "      <td>1</td>\n",
       "      <td>1</td>\n",
       "      <td>1</td>\n",
       "      <td>0</td>\n",
       "      <td>0</td>\n",
       "      <td>0</td>\n",
       "      <td>0</td>\n",
       "    </tr>\n",
       "    <tr>\n",
       "      <th>240770</th>\n",
       "      <td>83383</td>\n",
       "      <td>2022-03-01</td>\n",
       "      <td>iOS</td>\n",
       "      <td>1</td>\n",
       "      <td>1</td>\n",
       "      <td>0.0</td>\n",
       "      <td>0.000000</td>\n",
       "      <td>1</td>\n",
       "      <td>1</td>\n",
       "      <td>0</td>\n",
       "      <td>0</td>\n",
       "      <td>0</td>\n",
       "      <td>0</td>\n",
       "      <td>0</td>\n",
       "      <td>0</td>\n",
       "      <td>0</td>\n",
       "      <td>0</td>\n",
       "    </tr>\n",
       "    <tr>\n",
       "      <th>...</th>\n",
       "      <td>...</td>\n",
       "      <td>...</td>\n",
       "      <td>...</td>\n",
       "      <td>...</td>\n",
       "      <td>...</td>\n",
       "      <td>...</td>\n",
       "      <td>...</td>\n",
       "      <td>...</td>\n",
       "      <td>...</td>\n",
       "      <td>...</td>\n",
       "      <td>...</td>\n",
       "      <td>...</td>\n",
       "      <td>...</td>\n",
       "      <td>...</td>\n",
       "      <td>...</td>\n",
       "      <td>...</td>\n",
       "      <td>...</td>\n",
       "    </tr>\n",
       "    <tr>\n",
       "      <th>895016</th>\n",
       "      <td>314971</td>\n",
       "      <td>2022-05-31</td>\n",
       "      <td>iOS</td>\n",
       "      <td>2</td>\n",
       "      <td>89</td>\n",
       "      <td>5.0</td>\n",
       "      <td>0.056180</td>\n",
       "      <td>1</td>\n",
       "      <td>1</td>\n",
       "      <td>1</td>\n",
       "      <td>1</td>\n",
       "      <td>1</td>\n",
       "      <td>1</td>\n",
       "      <td>0</td>\n",
       "      <td>0</td>\n",
       "      <td>0</td>\n",
       "      <td>0</td>\n",
       "    </tr>\n",
       "    <tr>\n",
       "      <th>895015</th>\n",
       "      <td>314971</td>\n",
       "      <td>2022-05-31</td>\n",
       "      <td>iOS</td>\n",
       "      <td>1</td>\n",
       "      <td>89</td>\n",
       "      <td>5.0</td>\n",
       "      <td>0.056180</td>\n",
       "      <td>1</td>\n",
       "      <td>1</td>\n",
       "      <td>1</td>\n",
       "      <td>1</td>\n",
       "      <td>1</td>\n",
       "      <td>1</td>\n",
       "      <td>0</td>\n",
       "      <td>0</td>\n",
       "      <td>0</td>\n",
       "      <td>0</td>\n",
       "    </tr>\n",
       "    <tr>\n",
       "      <th>1859678</th>\n",
       "      <td>651968</td>\n",
       "      <td>2022-05-31</td>\n",
       "      <td>iOS</td>\n",
       "      <td>1</td>\n",
       "      <td>30</td>\n",
       "      <td>2.0</td>\n",
       "      <td>0.066667</td>\n",
       "      <td>1</td>\n",
       "      <td>1</td>\n",
       "      <td>2</td>\n",
       "      <td>2</td>\n",
       "      <td>1</td>\n",
       "      <td>1</td>\n",
       "      <td>0</td>\n",
       "      <td>0</td>\n",
       "      <td>0</td>\n",
       "      <td>0</td>\n",
       "    </tr>\n",
       "    <tr>\n",
       "      <th>895007</th>\n",
       "      <td>314967</td>\n",
       "      <td>2022-05-31</td>\n",
       "      <td>iOS</td>\n",
       "      <td>3</td>\n",
       "      <td>91</td>\n",
       "      <td>7.0</td>\n",
       "      <td>0.076923</td>\n",
       "      <td>1</td>\n",
       "      <td>1</td>\n",
       "      <td>2</td>\n",
       "      <td>2</td>\n",
       "      <td>2</td>\n",
       "      <td>2</td>\n",
       "      <td>0</td>\n",
       "      <td>0</td>\n",
       "      <td>0</td>\n",
       "      <td>0</td>\n",
       "    </tr>\n",
       "    <tr>\n",
       "      <th>371055</th>\n",
       "      <td>130244</td>\n",
       "      <td>2022-05-31</td>\n",
       "      <td>Android</td>\n",
       "      <td>1</td>\n",
       "      <td>3</td>\n",
       "      <td>1.0</td>\n",
       "      <td>0.333333</td>\n",
       "      <td>1</td>\n",
       "      <td>1</td>\n",
       "      <td>0</td>\n",
       "      <td>0</td>\n",
       "      <td>0</td>\n",
       "      <td>0</td>\n",
       "      <td>0</td>\n",
       "      <td>0</td>\n",
       "      <td>0</td>\n",
       "      <td>0</td>\n",
       "    </tr>\n",
       "  </tbody>\n",
       "</table>\n",
       "<p>2507971 rows × 17 columns</p>\n",
       "</div>"
      ],
      "text/plain": [
       "         user_id    date_cd    mp_os  Session  how_long  visit_cumsum  \\\n",
       "80583      28520 2022-03-01      iOS        1         1           0.0   \n",
       "1219304   428746 2022-03-01  Android        1         1           0.0   \n",
       "379631    133305 2022-03-01  unknown        1         1           0.0   \n",
       "1010283   355462 2022-03-01  Android        1         1           0.0   \n",
       "240770     83383 2022-03-01      iOS        1         1           0.0   \n",
       "...          ...        ...      ...      ...       ...           ...   \n",
       "895016    314971 2022-05-31      iOS        2        89           5.0   \n",
       "895015    314971 2022-05-31      iOS        1        89           5.0   \n",
       "1859678   651968 2022-05-31      iOS        1        30           2.0   \n",
       "895007    314967 2022-05-31      iOS        3        91           7.0   \n",
       "371055    130244 2022-05-31  Android        1         3           1.0   \n",
       "\n",
       "         visit_rate  OpenApp  Login  StartLoanApply  ViewLoanApplyIntro  \\\n",
       "80583      0.000000        1      1               1                   1   \n",
       "1219304    0.000000        1      1               0                   0   \n",
       "379631     0.000000        1      1               0                   0   \n",
       "1010283    0.000000        1      1               1                   1   \n",
       "240770     0.000000        1      1               0                   0   \n",
       "...             ...      ...    ...             ...                 ...   \n",
       "895016     0.056180        1      1               1                   1   \n",
       "895015     0.056180        1      1               1                   1   \n",
       "1859678    0.066667        1      1               2                   2   \n",
       "895007     0.076923        1      1               2                   2   \n",
       "371055     0.333333        1      1               0                   0   \n",
       "\n",
       "         CompleteIDCertification  EndLoanApply  UseDSRCalc  UseLoanManage  \\\n",
       "80583                          1             1           0              0   \n",
       "1219304                        0             0           0              1   \n",
       "379631                         0             0           0              0   \n",
       "1010283                        1             1           0              0   \n",
       "240770                         0             0           0              0   \n",
       "...                          ...           ...         ...            ...   \n",
       "895016                         1             1           0              0   \n",
       "895015                         1             1           0              0   \n",
       "1859678                        1             1           0              0   \n",
       "895007                         2             2           0              0   \n",
       "371055                         0             0           0              0   \n",
       "\n",
       "         UsePrepayCalc  GetCreditInfo  \n",
       "80583                0              0  \n",
       "1219304              0              1  \n",
       "379631               0              1  \n",
       "1010283              0              0  \n",
       "240770               0              0  \n",
       "...                ...            ...  \n",
       "895016               0              0  \n",
       "895015               0              0  \n",
       "1859678              0              0  \n",
       "895007               0              0  \n",
       "371055               0              0  \n",
       "\n",
       "[2507971 rows x 17 columns]"
      ]
     },
     "execution_count": 17,
     "metadata": {},
     "output_type": "execute_result"
    }
   ],
   "source": [
    "#형 변환\n",
    "dat['date_cd'] = pd.to_datetime(dat['date_cd'])\n",
    "dat.sort_values('date_cd')"
   ]
  },
  {
   "cell_type": "code",
   "execution_count": 19,
   "id": "85bdd1ae",
   "metadata": {},
   "outputs": [
    {
     "data": {
      "text/plain": [
       "user_id                    0\n",
       "date_cd                    0\n",
       "mp_os                      0\n",
       "Session                    0\n",
       "how_long                   0\n",
       "visit_cumsum               0\n",
       "visit_rate                 0\n",
       "OpenApp                    0\n",
       "Login                      0\n",
       "StartLoanApply             0\n",
       "ViewLoanApplyIntro         0\n",
       "CompleteIDCertification    0\n",
       "EndLoanApply               0\n",
       "UseDSRCalc                 0\n",
       "UseLoanManage              0\n",
       "UsePrepayCalc              0\n",
       "GetCreditInfo              0\n",
       "dtype: int64"
      ]
     },
     "execution_count": 19,
     "metadata": {},
     "output_type": "execute_result"
    }
   ],
   "source": [
    "dat.isna().sum()"
   ]
  },
  {
   "cell_type": "code",
   "execution_count": null,
   "id": "b9fdc0dd",
   "metadata": {
    "id": "b9fdc0dd"
   },
   "outputs": [],
   "source": [
    "user = pd.read_csv(r'C:/Users/cny13/OneDrive/바탕 화면/빅콘/user_spec.csv')   "
   ]
  },
  {
   "cell_type": "code",
   "execution_count": null,
   "id": "3b9388b8",
   "metadata": {
    "id": "3b9388b8"
   },
   "outputs": [],
   "source": [
    "dat2 = dat.copy()\n",
    "user2 = user.copy()"
   ]
  },
  {
   "cell_type": "markdown",
   "id": "45b8f851",
   "metadata": {
    "id": "45b8f851"
   },
   "source": [
    "# 로그 파생변수 만들기"
   ]
  },
  {
   "cell_type": "code",
   "execution_count": null,
   "id": "7d6748c7",
   "metadata": {
    "id": "7d6748c7"
   },
   "outputs": [],
   "source": [
    "#행동 sum 변수 만들기\n",
    "dat2['CompleteIDCertification_sum'] = dat2.groupby('user_id')['CompleteIDCertification'].transform(sum)\n",
    "dat2['EndLoanApply_sum'] = dat2.groupby('user_id')['EndLoanApply'].transform(sum)\n",
    "dat2['GetCreditInfo_sum'] = dat2.groupby('user_id')['GetCreditInfo'].transform(sum)\n",
    "dat2['Login_sum'] = dat2.groupby('user_id')['Login'].transform(sum)\n",
    "dat2['OpenApp_sum'] = dat2.groupby('user_id')['OpenApp'].transform(sum)\n",
    "dat2['StartLoanApply_sum'] = dat2.groupby('user_id')['StartLoanApply'].transform(sum)\n",
    "dat2['UseDSRCalc_sum'] = dat2.groupby('user_id')['UseDSRCalc'].transform(sum)\n",
    "dat2['UseLoanManage_sum'] = dat2.groupby('user_id')['UseLoanManage'].transform(sum)\n",
    "dat2['UsePrepayCalc_sum'] = dat2.groupby('user_id')['UsePrepayCalc'].transform(sum)\n",
    "dat2['ViewLoanApplyIntro_sum'] = dat2.groupby('user_id')['ViewLoanApplyIntro'].transform(sum)"
   ]
  },
  {
   "cell_type": "code",
   "execution_count": null,
   "id": "488af8f2",
   "metadata": {
    "id": "488af8f2"
   },
   "outputs": [],
   "source": [
    "lst = list(user2['user_id'].unique())"
   ]
  },
  {
   "cell_type": "code",
   "execution_count": null,
   "id": "1380b94d",
   "metadata": {
    "id": "1380b94d"
   },
   "outputs": [],
   "source": [
    "yes_user = dat2.loc[dat2['user_id'].isin(lst)]\n",
    "only_log = dat2.loc[~dat2['user_id'].isin(lst)]"
   ]
  },
  {
   "cell_type": "markdown",
   "id": "39c693f1",
   "metadata": {},
   "source": [
    "# 전체 유저"
   ]
  },
  {
   "cell_type": "code",
   "execution_count": null,
   "id": "74724c5c",
   "metadata": {
    "id": "74724c5c",
    "outputId": "4d3c96a6-3964-4f1e-de26-80529967497c"
   },
   "outputs": [
    {
     "name": "stdout",
     "output_type": "stream",
     "text": [
      "63033153\n",
      "52162721\n",
      "45471804\n",
      "42858578\n",
      "39420076\n",
      "38238183\n",
      "27016089\n",
      "121758\n",
      "76678\n",
      "39538874\n"
     ]
    }
   ],
   "source": [
    "print(dat2['OpenApp_sum'].sum())\n",
    "print(dat2['Login_sum'].sum())\n",
    "print(dat2['ViewLoanApplyIntro_sum'].sum())\n",
    "print(dat2['StartLoanApply_sum'].sum())\n",
    "print(dat2['CompleteIDCertification_sum'].sum())\n",
    "print(dat2['EndLoanApply_sum'].sum())\n",
    "print(dat2['UseLoanManage_sum'].sum())\n",
    "print(dat2['UsePrepayCalc_sum'].sum())\n",
    "print(dat2['UseDSRCalc_sum'].sum())\n",
    "print(dat2['GetCreditInfo_sum'].sum())"
   ]
  },
  {
   "cell_type": "code",
   "execution_count": null,
   "id": "a7ed0540",
   "metadata": {
    "id": "a7ed0540",
    "outputId": "8a6c7504-a209-4487-838d-7ad816c48caa"
   },
   "outputs": [
    {
     "name": "stderr",
     "output_type": "stream",
     "text": [
      "/Users/kyongwonkim/opt/anaconda3/lib/python3.9/site-packages/seaborn/_decorators.py:36: FutureWarning: Pass the following variables as keyword args: x, y. From version 0.12, the only valid positional argument will be `data`, and passing other arguments without an explicit keyword will result in an error or misinterpretation.\n",
      "  warnings.warn(\n"
     ]
    },
    {
     "data": {
      "image/png": "[encoded data removed]",
      "text/plain": [
       "<Figure size 432x288 with 1 Axes>"
      ]
     },
     "metadata": {
      "needs_background": "light"
     },
     "output_type": "display_data"
    }
   ],
   "source": [
    "x = ['OpenApp_sum','Login_sum','ViewLoanApplyIntro_sum','StartLoanApply_sum','CompleteIDCertification_sum',\n",
    "     'EndLoanApply_sum', 'UseLoanManage_sum','UsePrepayCalc_sum', 'UseDSRCalc_sum', \n",
    "     'GetCreditInfo_sum']\n",
    "y = [63033153/347937914,52162721/347937914, 45471804/347937914,42858578/347937914,\n",
    "     39420076/347937914,38238183/347937914,27016089/347937914,121758/347937914,\n",
    "     76678/347937914,39538874/347937914]\n",
    "\n",
    "qualitative_colors = sns.color_palette('Set3')\n",
    "sns.set_palette(qualitative_colors)\n",
    "sns.barplot(x,y, color ='#5B97E6')\n",
    "plt.xticks(rotation = 45)\n",
    "plt.show();\n",
    "\n"
   ]
  },
  {
   "cell_type": "code",
   "execution_count": null,
   "id": "588b5911",
   "metadata": {
    "id": "588b5911",
    "outputId": "8fc05b57-b97e-49d3-eceb-074aadf6064b"
   },
   "outputs": [
    {
     "data": {
      "text/plain": [
       "347937914"
      ]
     },
     "execution_count": 19,
     "metadata": {},
     "output_type": "execute_result"
    }
   ],
   "source": [
    "y = [63033153,52162721, 45471804,42858578,39420076,38238183,27016089,121758,76678,39538874]\n",
    "sum(y)"
   ]
  },
  {
   "cell_type": "markdown",
   "id": "dfda0a86",
   "metadata": {
    "id": "dfda0a86"
   },
   "source": [
    "# only_log: 신청서를 안 쓴 유저"
   ]
  },
  {
   "cell_type": "code",
   "execution_count": null,
   "id": "8305c682",
   "metadata": {
    "id": "8305c682",
    "outputId": "49cdeeff-a7d2-4a53-c11b-7997cc0779bb",
    "scrolled": true
   },
   "outputs": [
    {
     "data": {
      "text/html": [
       "<div>\n",
       "<style scoped>\n",
       "    .dataframe tbody tr th:only-of-type {\n",
       "        vertical-align: middle;\n",
       "    }\n",
       "\n",
       "    .dataframe tbody tr th {\n",
       "        vertical-align: top;\n",
       "    }\n",
       "\n",
       "    .dataframe thead th {\n",
       "        text-align: right;\n",
       "    }\n",
       "</style>\n",
       "<table border=\"1\" class=\"dataframe\">\n",
       "  <thead>\n",
       "    <tr style=\"text-align: right;\">\n",
       "      <th></th>\n",
       "      <th>user_id</th>\n",
       "      <th>date_cd</th>\n",
       "      <th>mp_os</th>\n",
       "      <th>Session</th>\n",
       "      <th>how_long</th>\n",
       "      <th>visit_cumsum</th>\n",
       "      <th>visit_rate</th>\n",
       "      <th>OpenApp</th>\n",
       "      <th>Login</th>\n",
       "      <th>StartLoanApply</th>\n",
       "      <th>...</th>\n",
       "      <th>GetCreditInfo_sum</th>\n",
       "      <th>Login_sum</th>\n",
       "      <th>OpenApp_sum</th>\n",
       "      <th>StartLoanApply_sum</th>\n",
       "      <th>UseDSRCalc_sum</th>\n",
       "      <th>UseLoanManage_sum</th>\n",
       "      <th>UsePrepayCalc_sum</th>\n",
       "      <th>ViewLoanApplyIntro_sum</th>\n",
       "      <th>monetary2</th>\n",
       "      <th>frequency2</th>\n",
       "    </tr>\n",
       "  </thead>\n",
       "  <tbody>\n",
       "    <tr>\n",
       "      <th>32</th>\n",
       "      <td>21</td>\n",
       "      <td>2022-04-18</td>\n",
       "      <td>Android</td>\n",
       "      <td>1</td>\n",
       "      <td>1</td>\n",
       "      <td>0.0</td>\n",
       "      <td>0.000000</td>\n",
       "      <td>1</td>\n",
       "      <td>1</td>\n",
       "      <td>0</td>\n",
       "      <td>...</td>\n",
       "      <td>4</td>\n",
       "      <td>5</td>\n",
       "      <td>5</td>\n",
       "      <td>1</td>\n",
       "      <td>0</td>\n",
       "      <td>2</td>\n",
       "      <td>0</td>\n",
       "      <td>1</td>\n",
       "      <td>18</td>\n",
       "      <td>0.4</td>\n",
       "    </tr>\n",
       "    <tr>\n",
       "      <th>33</th>\n",
       "      <td>21</td>\n",
       "      <td>2022-04-20</td>\n",
       "      <td>Android</td>\n",
       "      <td>1</td>\n",
       "      <td>3</td>\n",
       "      <td>1.0</td>\n",
       "      <td>0.333333</td>\n",
       "      <td>1</td>\n",
       "      <td>1</td>\n",
       "      <td>0</td>\n",
       "      <td>...</td>\n",
       "      <td>4</td>\n",
       "      <td>5</td>\n",
       "      <td>5</td>\n",
       "      <td>1</td>\n",
       "      <td>0</td>\n",
       "      <td>2</td>\n",
       "      <td>0</td>\n",
       "      <td>1</td>\n",
       "      <td>18</td>\n",
       "      <td>0.4</td>\n",
       "    </tr>\n",
       "    <tr>\n",
       "      <th>34</th>\n",
       "      <td>21</td>\n",
       "      <td>2022-04-22</td>\n",
       "      <td>Android</td>\n",
       "      <td>1</td>\n",
       "      <td>5</td>\n",
       "      <td>2.0</td>\n",
       "      <td>0.400000</td>\n",
       "      <td>1</td>\n",
       "      <td>1</td>\n",
       "      <td>0</td>\n",
       "      <td>...</td>\n",
       "      <td>4</td>\n",
       "      <td>5</td>\n",
       "      <td>5</td>\n",
       "      <td>1</td>\n",
       "      <td>0</td>\n",
       "      <td>2</td>\n",
       "      <td>0</td>\n",
       "      <td>1</td>\n",
       "      <td>18</td>\n",
       "      <td>0.4</td>\n",
       "    </tr>\n",
       "    <tr>\n",
       "      <th>35</th>\n",
       "      <td>21</td>\n",
       "      <td>2022-05-04</td>\n",
       "      <td>Android</td>\n",
       "      <td>1</td>\n",
       "      <td>17</td>\n",
       "      <td>3.0</td>\n",
       "      <td>0.176471</td>\n",
       "      <td>1</td>\n",
       "      <td>1</td>\n",
       "      <td>1</td>\n",
       "      <td>...</td>\n",
       "      <td>4</td>\n",
       "      <td>5</td>\n",
       "      <td>5</td>\n",
       "      <td>1</td>\n",
       "      <td>0</td>\n",
       "      <td>2</td>\n",
       "      <td>0</td>\n",
       "      <td>1</td>\n",
       "      <td>18</td>\n",
       "      <td>0.4</td>\n",
       "    </tr>\n",
       "    <tr>\n",
       "      <th>36</th>\n",
       "      <td>21</td>\n",
       "      <td>2022-05-04</td>\n",
       "      <td>Android</td>\n",
       "      <td>2</td>\n",
       "      <td>17</td>\n",
       "      <td>3.0</td>\n",
       "      <td>0.176471</td>\n",
       "      <td>1</td>\n",
       "      <td>1</td>\n",
       "      <td>0</td>\n",
       "      <td>...</td>\n",
       "      <td>4</td>\n",
       "      <td>5</td>\n",
       "      <td>5</td>\n",
       "      <td>1</td>\n",
       "      <td>0</td>\n",
       "      <td>2</td>\n",
       "      <td>0</td>\n",
       "      <td>1</td>\n",
       "      <td>18</td>\n",
       "      <td>0.4</td>\n",
       "    </tr>\n",
       "  </tbody>\n",
       "</table>\n",
       "<p>5 rows × 29 columns</p>\n",
       "</div>"
      ],
      "text/plain": [
       "    user_id     date_cd    mp_os  Session  how_long  visit_cumsum  visit_rate  \\\n",
       "32       21  2022-04-18  Android        1         1           0.0    0.000000   \n",
       "33       21  2022-04-20  Android        1         3           1.0    0.333333   \n",
       "34       21  2022-04-22  Android        1         5           2.0    0.400000   \n",
       "35       21  2022-05-04  Android        1        17           3.0    0.176471   \n",
       "36       21  2022-05-04  Android        2        17           3.0    0.176471   \n",
       "\n",
       "    OpenApp  Login  StartLoanApply  ...  GetCreditInfo_sum  Login_sum  \\\n",
       "32        1      1               0  ...                  4          5   \n",
       "33        1      1               0  ...                  4          5   \n",
       "34        1      1               0  ...                  4          5   \n",
       "35        1      1               1  ...                  4          5   \n",
       "36        1      1               0  ...                  4          5   \n",
       "\n",
       "    OpenApp_sum  StartLoanApply_sum  UseDSRCalc_sum  UseLoanManage_sum  \\\n",
       "32            5                   1               0                  2   \n",
       "33            5                   1               0                  2   \n",
       "34            5                   1               0                  2   \n",
       "35            5                   1               0                  2   \n",
       "36            5                   1               0                  2   \n",
       "\n",
       "    UsePrepayCalc_sum  ViewLoanApplyIntro_sum  monetary2  frequency2  \n",
       "32                  0                       1         18         0.4  \n",
       "33                  0                       1         18         0.4  \n",
       "34                  0                       1         18         0.4  \n",
       "35                  0                       1         18         0.4  \n",
       "36                  0                       1         18         0.4  \n",
       "\n",
       "[5 rows x 29 columns]"
      ]
     },
     "execution_count": 12,
     "metadata": {},
     "output_type": "execute_result"
    }
   ],
   "source": [
    "only_log.head()"
   ]
  },
  {
   "cell_type": "code",
   "execution_count": null,
   "id": "dcc075a2",
   "metadata": {
    "id": "dcc075a2",
    "outputId": "e760a762-1799-4128-d32c-85ea477f86b4"
   },
   "outputs": [
    {
     "data": {
      "text/plain": [
       "Index(['user_id', 'date_cd', 'mp_os', 'Session', 'how_long', 'visit_cumsum',\n",
       "       'visit_rate', 'OpenApp', 'Login', 'StartLoanApply',\n",
       "       'ViewLoanApplyIntro', 'CompleteIDCertification', 'EndLoanApply',\n",
       "       'UseDSRCalc', 'UseLoanManage', 'UsePrepayCalc', 'GetCreditInfo',\n",
       "       'CompleteIDCertification_sum', 'EndLoanApply_sum', 'GetCreditInfo_sum',\n",
       "       'Login_sum', 'OpenApp_sum', 'StartLoanApply_sum', 'UseDSRCalc_sum',\n",
       "       'UseLoanManage_sum', 'UsePrepayCalc_sum', 'ViewLoanApplyIntro_sum',\n",
       "       'monetary2', 'frequency2'],\n",
       "      dtype='object')"
      ]
     },
     "execution_count": 13,
     "metadata": {},
     "output_type": "execute_result"
    }
   ],
   "source": [
    "only_log.columns"
   ]
  },
  {
   "cell_type": "code",
   "execution_count": null,
   "id": "f8f52522",
   "metadata": {
    "id": "f8f52522"
   },
   "outputs": [],
   "source": [
    "cols = ['user_id','CompleteIDCertification_sum','EndLoanApply_sum', 'GetCreditInfo_sum', 'Login_sum', 'OpenApp_sum',\n",
    "       'StartLoanApply_sum', 'UseDSRCalc_sum', 'UseLoanManage_sum',\n",
    "       'UsePrepayCalc_sum', 'ViewLoanApplyIntro_sum']\n",
    "\n",
    "temp = only_log[cols]"
   ]
  },
  {
   "cell_type": "code",
   "execution_count": null,
   "id": "0988eea8",
   "metadata": {
    "id": "0988eea8",
    "outputId": "827c0dc8-ced1-4bf7-ef12-dc02ec04c964"
   },
   "outputs": [
    {
     "name": "stdout",
     "output_type": "stream",
     "text": [
      "4724423\n",
      "4092510\n",
      "465350\n",
      "239237\n",
      "66755\n",
      "2956\n",
      "2112677\n",
      "9425\n",
      "5775\n",
      "3460765\n"
     ]
    }
   ],
   "source": [
    "print(only_log['OpenApp_sum'].sum())\n",
    "print(only_log['Login_sum'].sum())\n",
    "print(only_log['ViewLoanApplyIntro_sum'].sum())\n",
    "print(only_log['StartLoanApply_sum'].sum())\n",
    "print(only_log['CompleteIDCertification_sum'].sum())\n",
    "print(only_log['EndLoanApply_sum'].sum())\n",
    "print(only_log['UseLoanManage_sum'].sum())\n",
    "print(only_log['UsePrepayCalc_sum'].sum())\n",
    "print(only_log['UseDSRCalc_sum'].sum())\n",
    "print(only_log['GetCreditInfo_sum'].sum())\n"
   ]
  },
  {
   "cell_type": "code",
   "execution_count": null,
   "id": "8081cccf",
   "metadata": {
    "id": "8081cccf",
    "outputId": "310be324-d054-43d6-ec4d-fecb27715f70",
    "scrolled": true
   },
   "outputs": [
    {
     "name": "stderr",
     "output_type": "stream",
     "text": [
      "/Users/kyongwonkim/opt/anaconda3/lib/python3.9/site-packages/seaborn/_decorators.py:36: FutureWarning: Pass the following variables as keyword args: x, y. From version 0.12, the only valid positional argument will be `data`, and passing other arguments without an explicit keyword will result in an error or misinterpretation.\n",
      "  warnings.warn(\n"
     ]
    },
    {
     "data": {
      "image/png": "[encoded data removed]",
      "text/plain": [
       "<Figure size 432x288 with 1 Axes>"
      ]
     },
     "metadata": {
      "needs_background": "light"
     },
     "output_type": "display_data"
    }
   ],
   "source": [
    "x = ['OpenApp_sum','Login_sum','ViewLoanApplyIntro_sum','StartLoanApply_sum','CompleteIDCertification_sum',\n",
    "     'EndLoanApply_sum', 'UseLoanManage_sum','UsePrepayCalc_sum', 'UseDSRCalc_sum', \n",
    "     'GetCreditInfo_sum']\n",
    "y = [4724423/15179873, 4092510/15179873, 465350/15179873,\n",
    "     239237/15179873,66755/15179873, 2956/15179873,2112677/15179873, \n",
    "     9425/15179873, 5775/15179873,3460765/15179873 ]\n",
    "\n",
    "qualitative_colors = sns.color_palette('Set3')\n",
    "sns.set_palette(qualitative_colors)\n",
    "sns.barplot(x,y, color ='#5B97E6')\n",
    "plt.xticks(rotation = 45)\n",
    "plt.show();\n"
   ]
  },
  {
   "cell_type": "markdown",
   "id": "85eb0cf0",
   "metadata": {},
   "source": [
    "# yes_user: 신청서 쓴 유저"
   ]
  },
  {
   "cell_type": "code",
   "execution_count": null,
   "id": "dc6bc44a",
   "metadata": {
    "id": "dc6bc44a",
    "outputId": "009dd590-7be1-4861-a120-054bbe9e0e93"
   },
   "outputs": [
    {
     "name": "stdout",
     "output_type": "stream",
     "text": [
      "58308730\n",
      "48070211\n",
      "45006454\n",
      "42619341\n",
      "39353321\n",
      "38235227\n",
      "24903412\n",
      "112333\n",
      "70903\n",
      "36078109\n"
     ]
    }
   ],
   "source": [
    "print(yes_user['OpenApp_sum'].sum())\n",
    "print(yes_user['Login_sum'].sum())\n",
    "print(yes_user['ViewLoanApplyIntro_sum'].sum())\n",
    "print(yes_user['StartLoanApply_sum'].sum())\n",
    "print(yes_user['CompleteIDCertification_sum'].sum())\n",
    "print(yes_user['EndLoanApply_sum'].sum())\n",
    "print(yes_user['UseLoanManage_sum'].sum())\n",
    "print(yes_user['UsePrepayCalc_sum'].sum())\n",
    "print(yes_user['UseDSRCalc_sum'].sum())\n",
    "print(yes_user['GetCreditInfo_sum'].sum())"
   ]
  },
  {
   "cell_type": "code",
   "execution_count": null,
   "id": "7b245fd5",
   "metadata": {
    "id": "7b245fd5",
    "outputId": "c4e02881-6d8d-42f7-8996-da0a1b1386f3"
   },
   "outputs": [
    {
     "name": "stderr",
     "output_type": "stream",
     "text": [
      "/Users/kyongwonkim/opt/anaconda3/lib/python3.9/site-packages/seaborn/_decorators.py:36: FutureWarning: Pass the following variables as keyword args: x, y. From version 0.12, the only valid positional argument will be `data`, and passing other arguments without an explicit keyword will result in an error or misinterpretation.\n",
      "  warnings.warn(\n"
     ]
    },
    {
     "data": {
      "image/png": "[encoded data removed]",
      "text/plain": [
       "<Figure size 432x288 with 1 Axes>"
      ]
     },
     "metadata": {
      "needs_background": "light"
     },
     "output_type": "display_data"
    }
   ],
   "source": [
    "x = ['OpenApp_sum','Login_sum','ViewLoanApplyIntro_sum','StartLoanApply_sum','CompleteIDCertification_sum',\n",
    "     'EndLoanApply_sum', 'UseLoanManage_sum','UsePrepayCalc_sum', 'UseDSRCalc_sum', \n",
    "     'GetCreditInfo_sum']\n",
    "y = [58308730/332758041,48070211/332758041,45006454/332758041,42619341/332758041,\n",
    "     39353321/332758041,38235227/332758041,24903412/332758041,112333/332758041,\n",
    "     70903/332758041,36078109/332758041]\n",
    "\n",
    "qualitative_colors = sns.color_palette('Set3')\n",
    "sns.set_palette(qualitative_colors)\n",
    "sns.barplot(x,y, color ='#5B97E6')\n",
    "plt.xticks(rotation = 45)\n",
    "plt.show();"
   ]
  },
  {
   "cell_type": "code",
   "execution_count": null,
   "id": "817f6dda",
   "metadata": {
    "id": "817f6dda",
    "outputId": "ca3ab6da-c1d3-4e20-9e6b-9bcf65750734"
   },
   "outputs": [
    {
     "data": {
      "text/plain": [
       "332758041"
      ]
     },
     "execution_count": 22,
     "metadata": {},
     "output_type": "execute_result"
    }
   ],
   "source": [
    "y = [58308730,48070211,45006454,42619341,39353321,38235227,24903412,112333,70903,36078109]\n",
    "\n",
    "sum(y)"
   ]
  }
 ],
 "metadata": {
  "colab": {
   "provenance": []
  },
  "kernelspec": {
   "display_name": "Python 3 (ipykernel)",
   "language": "python",
   "name": "python3"
  },
  "language_info": {
   "codemirror_mode": {
    "name": "ipython",
    "version": 3
   },
   "file_extension": ".py",
   "mimetype": "text/x-python",
   "name": "python",
   "nbconvert_exporter": "python",
   "pygments_lexer": "ipython3",
   "version": "3.7.11"
  }
 },
 "nbformat": 4,
 "nbformat_minor": 5
}
