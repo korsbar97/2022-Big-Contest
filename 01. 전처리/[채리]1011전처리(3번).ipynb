{
 "cells": [
  {
   "cell_type": "code",
   "execution_count": null,
   "metadata": {
    "colab": {
     "base_uri": "https://localhost:8080/"
    },
    "id": "LSKzrXl0dDKu",
    "outputId": "66847b93-1b62-4d4b-a961-bbfc74d798d7"
   },
   "outputs": [],
   "source": [
    "#from google.colab import files\n",
    "#from google.colab import drive\n",
    "#drive.mount('/content/drive')"
   ]
  },
  {
   "cell_type": "code",
   "execution_count": 1,
   "metadata": {
    "id": "POHXJxb3dGcA"
   },
   "outputs": [],
   "source": [
    "import os\n",
    "import numpy as np\n",
    "import pandas as pd\n",
    "import datetime as dt\n",
    "import matplotlib.pyplot as plt \n",
    "import seaborn as sns"
   ]
  },
  {
   "cell_type": "code",
   "execution_count": 2,
   "metadata": {
    "id": "DsVaQxdAdGen"
   },
   "outputs": [
    {
     "name": "stderr",
     "output_type": "stream",
     "text": [
      "<ipython-input-2-91582e12417c>:2: DtypeWarning: Columns (19) have mixed types. Specify dtype option on import or set low_memory=False.\n",
      "  notna_test = pd.read_csv(r'C:\\Users\\User\\Desktop\\까마귀\\test_1011_notna.csv')\n"
     ]
    }
   ],
   "source": [
    "notna_train = pd.read_csv(r'C:\\Users\\User\\Desktop\\까마귀\\train_1011_notna.csv')\n",
    "notna_test = pd.read_csv(r'C:\\Users\\User\\Desktop\\까마귀\\test_1011_notna.csv')\n",
    "\n",
    "na_train = pd.read_csv(r'C:\\Users\\User\\Desktop\\까마귀\\train_1011_na.csv')\n",
    "na_test = pd.read_csv(r'C:\\Users\\User\\Desktop\\까마귀\\test_1011_na.csv')"
   ]
  },
  {
   "cell_type": "code",
   "execution_count": 3,
   "metadata": {},
   "outputs": [
    {
     "data": {
      "text/plain": [
       "application_id                         0\n",
       "loanapply_insert_time                  0\n",
       "bank_id                                0\n",
       "product_id                             0\n",
       "loan_limit                             0\n",
       "loan_rate                              0\n",
       "is_applied                             0\n",
       "user_id                                0\n",
       "birth_year                             0\n",
       "gender                                 0\n",
       "insert_time                            0\n",
       "credit_score                           0\n",
       "yearly_income                          0\n",
       "income_type                            0\n",
       "company_enter_month                    0\n",
       "employment_type                        0\n",
       "houseown_type                          0\n",
       "desired_amount                         0\n",
       "purpose                                0\n",
       "personal_rehabilitation_yn             0\n",
       "personal_rehabilitation_complete_yn    0\n",
       "existing_loan_cnt                      0\n",
       "existing_loan_amt                      0\n",
       "company_enter_year                     0\n",
       "dtype: int64"
      ]
     },
     "execution_count": 3,
     "metadata": {},
     "output_type": "execute_result"
    }
   ],
   "source": [
    "notna_train.isna().sum()"
   ]
  },
  {
   "cell_type": "code",
   "execution_count": 4,
   "metadata": {},
   "outputs": [
    {
     "data": {
      "text/plain": [
       "application_id                               0\n",
       "loanapply_insert_time                        0\n",
       "bank_id                                      0\n",
       "product_id                                   0\n",
       "loan_limit                                   0\n",
       "loan_rate                                    0\n",
       "is_applied                             2603137\n",
       "user_id                                      0\n",
       "birth_year                                   0\n",
       "gender                                       0\n",
       "insert_time                                  0\n",
       "credit_score                                 0\n",
       "yearly_income                                0\n",
       "income_type                                  0\n",
       "company_enter_month                          0\n",
       "employment_type                              0\n",
       "houseown_type                                0\n",
       "desired_amount                               0\n",
       "purpose                                      0\n",
       "personal_rehabilitation_yn                   0\n",
       "personal_rehabilitation_complete_yn          0\n",
       "existing_loan_cnt                            0\n",
       "existing_loan_amt                            0\n",
       "company_enter_year                           0\n",
       "dtype: int64"
      ]
     },
     "execution_count": 4,
     "metadata": {},
     "output_type": "execute_result"
    }
   ],
   "source": [
    "notna_test.isna().sum()"
   ]
  },
  {
   "cell_type": "code",
   "execution_count": 5,
   "metadata": {},
   "outputs": [
    {
     "data": {
      "text/plain": [
       "application_id                               0\n",
       "loanapply_insert_time                        0\n",
       "bank_id                                      0\n",
       "product_id                                   0\n",
       "loan_limit                                   0\n",
       "loan_rate                                    0\n",
       "is_applied                                   0\n",
       "user_id                                      0\n",
       "birth_year                               76951\n",
       "gender                                   76951\n",
       "insert_time                                  0\n",
       "credit_score                           1111041\n",
       "yearly_income                                0\n",
       "income_type                                  0\n",
       "company_enter_month                     240472\n",
       "employment_type                              0\n",
       "houseown_type                                0\n",
       "desired_amount                               0\n",
       "purpose                                      0\n",
       "personal_rehabilitation_yn                   0\n",
       "personal_rehabilitation_complete_yn          0\n",
       "existing_loan_cnt                      2143013\n",
       "existing_loan_amt                            0\n",
       "company_enter_year                      239741\n",
       "dtype: int64"
      ]
     },
     "execution_count": 5,
     "metadata": {},
     "output_type": "execute_result"
    }
   ],
   "source": [
    "na_train.isna().sum()"
   ]
  },
  {
   "cell_type": "code",
   "execution_count": 6,
   "metadata": {},
   "outputs": [
    {
     "data": {
      "text/plain": [
       "application_id                              0\n",
       "loanapply_insert_time                       0\n",
       "bank_id                                     0\n",
       "product_id                                  0\n",
       "loan_limit                                  0\n",
       "loan_rate                                   0\n",
       "is_applied                             652345\n",
       "user_id                                     0\n",
       "birth_year                              30815\n",
       "gender                                  30815\n",
       "insert_time                                 0\n",
       "credit_score                           265321\n",
       "yearly_income                               6\n",
       "income_type                                 0\n",
       "company_enter_month                     80836\n",
       "employment_type                             0\n",
       "houseown_type                               0\n",
       "desired_amount                              0\n",
       "purpose                                     0\n",
       "personal_rehabilitation_yn                  0\n",
       "personal_rehabilitation_complete_yn         0\n",
       "existing_loan_cnt                      541673\n",
       "existing_loan_amt                           0\n",
       "company_enter_year                      80112\n",
       "dtype: int64"
      ]
     },
     "execution_count": 6,
     "metadata": {},
     "output_type": "execute_result"
    }
   ],
   "source": [
    "na_test.isna().sum()"
   ]
  },
  {
   "cell_type": "code",
   "execution_count": 7,
   "metadata": {},
   "outputs": [],
   "source": [
    "# na데이터였는지 여부 변수 추가\n",
    "\n",
    "na_train['isna'] = 'Na'\n",
    "na_test['isna'] = 'Na'\n",
    "\n",
    "notna_train['isna'] = 'NotNa'\n",
    "notna_test['isna'] = 'NotNa'"
   ]
  },
  {
   "cell_type": "code",
   "execution_count": 8,
   "metadata": {},
   "outputs": [
    {
     "data": {
      "text/html": [
       "<div>\n",
       "<style scoped>\n",
       "    .dataframe tbody tr th:only-of-type {\n",
       "        vertical-align: middle;\n",
       "    }\n",
       "\n",
       "    .dataframe tbody tr th {\n",
       "        vertical-align: top;\n",
       "    }\n",
       "\n",
       "    .dataframe thead th {\n",
       "        text-align: right;\n",
       "    }\n",
       "</style>\n",
       "<table border=\"1\" class=\"dataframe\">\n",
       "  <thead>\n",
       "    <tr style=\"text-align: right;\">\n",
       "      <th></th>\n",
       "      <th>application_id</th>\n",
       "      <th>loanapply_insert_time</th>\n",
       "      <th>bank_id</th>\n",
       "      <th>product_id</th>\n",
       "      <th>loan_limit</th>\n",
       "      <th>loan_rate</th>\n",
       "      <th>is_applied</th>\n",
       "      <th>user_id</th>\n",
       "      <th>birth_year</th>\n",
       "      <th>gender</th>\n",
       "      <th>...</th>\n",
       "      <th>employment_type</th>\n",
       "      <th>houseown_type</th>\n",
       "      <th>desired_amount</th>\n",
       "      <th>purpose</th>\n",
       "      <th>personal_rehabilitation_yn</th>\n",
       "      <th>personal_rehabilitation_complete_yn</th>\n",
       "      <th>existing_loan_cnt</th>\n",
       "      <th>existing_loan_amt</th>\n",
       "      <th>company_enter_year</th>\n",
       "      <th>isna</th>\n",
       "    </tr>\n",
       "  </thead>\n",
       "  <tbody>\n",
       "    <tr>\n",
       "      <th>0</th>\n",
       "      <td>566528</td>\n",
       "      <td>2022-03-01 00:11:36</td>\n",
       "      <td>13</td>\n",
       "      <td>123</td>\n",
       "      <td>20000000.0</td>\n",
       "      <td>19.1</td>\n",
       "      <td>0.0</td>\n",
       "      <td>681184</td>\n",
       "      <td>1974.0</td>\n",
       "      <td>1.0</td>\n",
       "      <td>...</td>\n",
       "      <td>기타</td>\n",
       "      <td>전월세</td>\n",
       "      <td>1000000.0</td>\n",
       "      <td>LIVING</td>\n",
       "      <td>no_response</td>\n",
       "      <td>no_response</td>\n",
       "      <td>4.0</td>\n",
       "      <td>2.000000e+07</td>\n",
       "      <td>NaN</td>\n",
       "      <td>Na</td>\n",
       "    </tr>\n",
       "    <tr>\n",
       "      <th>1</th>\n",
       "      <td>359025</td>\n",
       "      <td>2022-03-01 00:13:13</td>\n",
       "      <td>38</td>\n",
       "      <td>134</td>\n",
       "      <td>11000000.0</td>\n",
       "      <td>6.7</td>\n",
       "      <td>1.0</td>\n",
       "      <td>604210</td>\n",
       "      <td>1996.0</td>\n",
       "      <td>0.0</td>\n",
       "      <td>...</td>\n",
       "      <td>정규직</td>\n",
       "      <td>전월세</td>\n",
       "      <td>50000000.0</td>\n",
       "      <td>LIVING</td>\n",
       "      <td>no_response</td>\n",
       "      <td>no_response</td>\n",
       "      <td>NaN</td>\n",
       "      <td>6.299001e+07</td>\n",
       "      <td>2021.0</td>\n",
       "      <td>Na</td>\n",
       "    </tr>\n",
       "    <tr>\n",
       "      <th>2</th>\n",
       "      <td>359025</td>\n",
       "      <td>2022-03-01 00:13:13</td>\n",
       "      <td>59</td>\n",
       "      <td>251</td>\n",
       "      <td>10000000.0</td>\n",
       "      <td>7.3</td>\n",
       "      <td>1.0</td>\n",
       "      <td>604210</td>\n",
       "      <td>1996.0</td>\n",
       "      <td>0.0</td>\n",
       "      <td>...</td>\n",
       "      <td>정규직</td>\n",
       "      <td>전월세</td>\n",
       "      <td>50000000.0</td>\n",
       "      <td>LIVING</td>\n",
       "      <td>no_response</td>\n",
       "      <td>no_response</td>\n",
       "      <td>NaN</td>\n",
       "      <td>6.299001e+07</td>\n",
       "      <td>2021.0</td>\n",
       "      <td>Na</td>\n",
       "    </tr>\n",
       "    <tr>\n",
       "      <th>3</th>\n",
       "      <td>359025</td>\n",
       "      <td>2022-03-01 00:13:14</td>\n",
       "      <td>25</td>\n",
       "      <td>169</td>\n",
       "      <td>5000000.0</td>\n",
       "      <td>19.9</td>\n",
       "      <td>0.0</td>\n",
       "      <td>604210</td>\n",
       "      <td>1996.0</td>\n",
       "      <td>0.0</td>\n",
       "      <td>...</td>\n",
       "      <td>정규직</td>\n",
       "      <td>전월세</td>\n",
       "      <td>50000000.0</td>\n",
       "      <td>LIVING</td>\n",
       "      <td>no_response</td>\n",
       "      <td>no_response</td>\n",
       "      <td>NaN</td>\n",
       "      <td>6.299001e+07</td>\n",
       "      <td>2021.0</td>\n",
       "      <td>Na</td>\n",
       "    </tr>\n",
       "    <tr>\n",
       "      <th>4</th>\n",
       "      <td>359025</td>\n",
       "      <td>2022-03-01 00:13:14</td>\n",
       "      <td>36</td>\n",
       "      <td>103</td>\n",
       "      <td>11000000.0</td>\n",
       "      <td>7.7</td>\n",
       "      <td>1.0</td>\n",
       "      <td>604210</td>\n",
       "      <td>1996.0</td>\n",
       "      <td>0.0</td>\n",
       "      <td>...</td>\n",
       "      <td>정규직</td>\n",
       "      <td>전월세</td>\n",
       "      <td>50000000.0</td>\n",
       "      <td>LIVING</td>\n",
       "      <td>no_response</td>\n",
       "      <td>no_response</td>\n",
       "      <td>NaN</td>\n",
       "      <td>6.299001e+07</td>\n",
       "      <td>2021.0</td>\n",
       "      <td>Na</td>\n",
       "    </tr>\n",
       "  </tbody>\n",
       "</table>\n",
       "<p>5 rows × 25 columns</p>\n",
       "</div>"
      ],
      "text/plain": [
       "   application_id loanapply_insert_time  bank_id  product_id  loan_limit  \\\n",
       "0          566528   2022-03-01 00:11:36       13         123  20000000.0   \n",
       "1          359025   2022-03-01 00:13:13       38         134  11000000.0   \n",
       "2          359025   2022-03-01 00:13:13       59         251  10000000.0   \n",
       "3          359025   2022-03-01 00:13:14       25         169   5000000.0   \n",
       "4          359025   2022-03-01 00:13:14       36         103  11000000.0   \n",
       "\n",
       "   loan_rate  is_applied  user_id  birth_year  gender  ... employment_type  \\\n",
       "0       19.1         0.0   681184      1974.0     1.0  ...              기타   \n",
       "1        6.7         1.0   604210      1996.0     0.0  ...             정규직   \n",
       "2        7.3         1.0   604210      1996.0     0.0  ...             정규직   \n",
       "3       19.9         0.0   604210      1996.0     0.0  ...             정규직   \n",
       "4        7.7         1.0   604210      1996.0     0.0  ...             정규직   \n",
       "\n",
       "   houseown_type  desired_amount purpose  personal_rehabilitation_yn  \\\n",
       "0            전월세       1000000.0  LIVING                 no_response   \n",
       "1            전월세      50000000.0  LIVING                 no_response   \n",
       "2            전월세      50000000.0  LIVING                 no_response   \n",
       "3            전월세      50000000.0  LIVING                 no_response   \n",
       "4            전월세      50000000.0  LIVING                 no_response   \n",
       "\n",
       "  personal_rehabilitation_complete_yn existing_loan_cnt  existing_loan_amt  \\\n",
       "0                         no_response               4.0       2.000000e+07   \n",
       "1                         no_response               NaN       6.299001e+07   \n",
       "2                         no_response               NaN       6.299001e+07   \n",
       "3                         no_response               NaN       6.299001e+07   \n",
       "4                         no_response               NaN       6.299001e+07   \n",
       "\n",
       "  company_enter_year isna  \n",
       "0                NaN   Na  \n",
       "1             2021.0   Na  \n",
       "2             2021.0   Na  \n",
       "3             2021.0   Na  \n",
       "4             2021.0   Na  \n",
       "\n",
       "[5 rows x 25 columns]"
      ]
     },
     "execution_count": 8,
     "metadata": {},
     "output_type": "execute_result"
    }
   ],
   "source": [
    "na_train.head()"
   ]
  },
  {
   "cell_type": "code",
   "execution_count": 9,
   "metadata": {},
   "outputs": [],
   "source": [
    "# train끼리, test끼리 합쳐서 결측처리 시작\n",
    "\n",
    "train2 = pd.concat([notna_train,na_train],axis=0).sort_values('loanapply_insert_time')\n",
    "test2 = pd.concat([notna_test,na_test],axis=0).sort_values('loanapply_insert_time')"
   ]
  },
  {
   "cell_type": "code",
   "execution_count": 10,
   "metadata": {},
   "outputs": [
    {
     "name": "stdout",
     "output_type": "stream",
     "text": [
      "train2: (10264349, 25)\n",
      "test2: (3255482, 25)\n",
      "notna_train: (7733096, 25)\n",
      "notna_test: (2603137, 25)\n",
      "na_train: (2531253, 25)\n",
      "na_test: (652345, 25)\n"
     ]
    }
   ],
   "source": [
    "print('train2:', train2.shape)\n",
    "print('test2:', test2.shape)\n",
    "\n",
    "print('notna_train:', notna_train.shape)\n",
    "print('notna_test:', notna_test.shape)\n",
    "\n",
    "print('na_train:', na_train.shape)\n",
    "print('na_test:', na_test.shape)"
   ]
  },
  {
   "cell_type": "markdown",
   "metadata": {
    "heading_collapsed": true,
    "id": "d3NtHLirN-4h"
   },
   "source": [
    "# personal_rehabilitation_yn"
   ]
  },
  {
   "cell_type": "markdown",
   "metadata": {
    "hidden": true,
    "id": "kVuZ8lxbOBdf"
   },
   "source": [
    "### train"
   ]
  },
  {
   "cell_type": "code",
   "execution_count": null,
   "metadata": {
    "colab": {
     "base_uri": "https://localhost:8080/",
     "height": 667
    },
    "hidden": true,
    "id": "fjz71aQQOBv1",
    "outputId": "00347970-e9a5-470e-8cdf-503ec2a7489a"
   },
   "outputs": [],
   "source": [
    "#loanapply_insert_time-04-18 13:38:29 이전 NA ->(no_response)으로 채우기\n",
    "#pd.set_option(\"display.max_columns\",None)\n",
    "\n",
    "train2.loc[(train2['loanapply_insert_time']<\"2022-04-18 13:38:29\"),'personal_rehabilitation_yn']=\"no_response\"\n",
    "train2[train2.loanapply_insert_time <\"2022-04-18 13:38:29\"]"
   ]
  },
  {
   "cell_type": "code",
   "execution_count": null,
   "metadata": {
    "colab": {
     "base_uri": "https://localhost:8080/",
     "height": 667
    },
    "hidden": true,
    "id": "F5mJfbaMOBy5",
    "outputId": "a4f8755d-cd6a-47c3-ee78-e2b6f81e9c9b"
   },
   "outputs": [],
   "source": [
    "#2022-04-18 13:38:29 이후 NA ->(No_response)로 채우기 \n",
    "train2.loc[(train2['loanapply_insert_time']>=\"2022-04-18 13:38:29\")&(train2['personal_rehabilitation_yn'].isna()),'personal_rehabilitation_yn']=\"no_response\"\n",
    "train2[train2.loanapply_insert_time >=\"2022-04-18 13:38:29\"]"
   ]
  },
  {
   "cell_type": "code",
   "execution_count": null,
   "metadata": {
    "colab": {
     "base_uri": "https://localhost:8080/"
    },
    "hidden": true,
    "id": "BXAORaOxTrrU",
    "outputId": "6e79d173-3de9-4857-d7e4-c5810878d601"
   },
   "outputs": [],
   "source": [
    "train2[\"personal_rehabilitation_yn\"].isna().sum()"
   ]
  },
  {
   "cell_type": "code",
   "execution_count": null,
   "metadata": {
    "hidden": true
   },
   "outputs": [],
   "source": [
    "train2.personal_rehabilitation_yn.value_counts()"
   ]
  },
  {
   "cell_type": "markdown",
   "metadata": {
    "hidden": true,
    "id": "FHPyw6qLOB8E"
   },
   "source": [
    "### test"
   ]
  },
  {
   "cell_type": "code",
   "execution_count": null,
   "metadata": {
    "colab": {
     "base_uri": "https://localhost:8080/"
    },
    "hidden": true,
    "id": "hW4ProTROCGE",
    "outputId": "8906f96f-d710-436f-8880-4303559ec625",
    "scrolled": true
   },
   "outputs": [],
   "source": [
    "test2[\"personal_rehabilitation_yn\"].isna().sum()"
   ]
  },
  {
   "cell_type": "code",
   "execution_count": null,
   "metadata": {
    "colab": {
     "base_uri": "https://localhost:8080/"
    },
    "hidden": true,
    "id": "_FwtNSEpOCIt",
    "outputId": "44a2531b-7eb4-4624-9540-836db68218e7"
   },
   "outputs": [],
   "source": [
    "#test는 모두 2022-04-18 13:38:29 이후 NA ->(No_response)로 채우기 \n",
    "test2.loc[(test2['personal_rehabilitation_yn'].isna()),'personal_rehabilitation_yn']=\"no_response\"\n",
    "\n",
    "test2[\"personal_rehabilitation_yn\"].isna().sum()"
   ]
  },
  {
   "cell_type": "code",
   "execution_count": null,
   "metadata": {
    "hidden": true
   },
   "outputs": [],
   "source": [
    "test2.personal_rehabilitation_yn.value_counts()"
   ]
  },
  {
   "cell_type": "code",
   "execution_count": null,
   "metadata": {
    "hidden": true
   },
   "outputs": [],
   "source": [
    "test2.personal_rehabilitation_yn = test2.personal_rehabilitation_yn.astype('object')"
   ]
  },
  {
   "cell_type": "code",
   "execution_count": null,
   "metadata": {
    "hidden": true
   },
   "outputs": [],
   "source": [
    "test2.personal_rehabilitation_yn.value_counts()"
   ]
  },
  {
   "cell_type": "markdown",
   "metadata": {
    "heading_collapsed": true,
    "id": "gC8xTIBGXlim"
   },
   "source": [
    "# personal_rehabilitation_complete_yn"
   ]
  },
  {
   "cell_type": "markdown",
   "metadata": {
    "hidden": true,
    "id": "ma1RKksJXmCK"
   },
   "source": [
    "### train"
   ]
  },
  {
   "cell_type": "code",
   "execution_count": null,
   "metadata": {
    "colab": {
     "base_uri": "https://localhost:8080/"
    },
    "hidden": true,
    "id": "hGyPqVyGbQWx",
    "outputId": "d858e565-bf69-440d-cb15-f838585b36fe"
   },
   "outputs": [],
   "source": [
    "train2[\"personal_rehabilitation_complete_yn\"].isna().sum()"
   ]
  },
  {
   "cell_type": "code",
   "execution_count": null,
   "metadata": {
    "colab": {
     "base_uri": "https://localhost:8080/",
     "height": 667
    },
    "hidden": true,
    "id": "OF2if7djXmQL",
    "outputId": "8b026513-0e55-4fdb-ccbc-dee458a00cc4"
   },
   "outputs": [],
   "source": [
    "# personal_rehabilitation 가 0이면(개인회생자 아님) no-rehabilitation\n",
    "\n",
    "train2.loc[(train2['personal_rehabilitation_yn']==0),'personal_rehabilitation_complete_yn']=\"no_rehabilitation\"\n",
    "train2.loc[train2['personal_rehabilitation_yn']==0]"
   ]
  },
  {
   "cell_type": "code",
   "execution_count": null,
   "metadata": {
    "colab": {
     "base_uri": "https://localhost:8080/",
     "height": 667
    },
    "hidden": true,
    "id": "pdwWWZifXmTB",
    "outputId": "ba0e495b-1f6e-456e-c912-741f9082b69e"
   },
   "outputs": [],
   "source": [
    "# personal_rehabilitation 가 no_response -> no_response\n",
    "\n",
    "train2.loc[(train2['personal_rehabilitation_yn']==\"no_response\"),'personal_rehabilitation_complete_yn']=\"no_response\"\n",
    "train2.loc[train2['personal_rehabilitation_yn']==\"no_response\"]"
   ]
  },
  {
   "cell_type": "code",
   "execution_count": null,
   "metadata": {
    "colab": {
     "base_uri": "https://localhost:8080/",
     "height": 667
    },
    "hidden": true,
    "id": "tcWMlW7saqH8",
    "outputId": "4d14e48a-3371-4e7a-e131-64c8332b4980"
   },
   "outputs": [],
   "source": [
    "# personal_rehabilitation 가 no_response -> no_response\n",
    "train2.loc[(train2['personal_rehabilitation_yn']==\"no_response\"),'personal_rehabilitation_complete_yn']=\"no_response\"\n",
    "train2.loc[train2['personal_rehabilitation_yn']==\"no_response\"]"
   ]
  },
  {
   "cell_type": "code",
   "execution_count": null,
   "metadata": {
    "colab": {
     "base_uri": "https://localhost:8080/"
    },
    "hidden": true,
    "id": "_S-WHg-EbUez",
    "outputId": "fbbef49f-d3d7-4cf6-e5db-4720999739a8"
   },
   "outputs": [],
   "source": [
    "train2[\"personal_rehabilitation_complete_yn\"].isna().sum()"
   ]
  },
  {
   "cell_type": "markdown",
   "metadata": {
    "hidden": true,
    "id": "VB-jKMHlXmiL"
   },
   "source": [
    "### test"
   ]
  },
  {
   "cell_type": "code",
   "execution_count": null,
   "metadata": {
    "colab": {
     "base_uri": "https://localhost:8080/"
    },
    "hidden": true,
    "id": "j7D4pntobVOZ",
    "outputId": "a1bbc1fb-14f8-4bc8-98ed-d2ff542a5337"
   },
   "outputs": [],
   "source": [
    "test2[\"personal_rehabilitation_complete_yn\"].isna().sum()"
   ]
  },
  {
   "cell_type": "code",
   "execution_count": null,
   "metadata": {
    "colab": {
     "base_uri": "https://localhost:8080/"
    },
    "hidden": true,
    "id": "1YEYuy9ebZYp",
    "outputId": "0ac349b7-f963-43da-c219-15c686343567"
   },
   "outputs": [],
   "source": [
    "test2[\"personal_rehabilitation_complete_yn\"].value_counts(dropna=False)"
   ]
  },
  {
   "cell_type": "code",
   "execution_count": null,
   "metadata": {
    "colab": {
     "base_uri": "https://localhost:8080/",
     "height": 667
    },
    "hidden": true,
    "id": "QZUvh41BXnye",
    "outputId": "c308aab1-1ef5-44d0-cbf4-83b99f3a1cd8"
   },
   "outputs": [],
   "source": [
    "# personal_rehabilitation 가 0이면(개인회생자 아님) no-rehabilitation\n",
    "\n",
    "test2.loc[(test2['personal_rehabilitation_yn']==0),'personal_rehabilitation_complete_yn']=\"no_rehabilitation\"\n",
    "test2.loc[test2['personal_rehabilitation_yn']==0]"
   ]
  },
  {
   "cell_type": "code",
   "execution_count": null,
   "metadata": {
    "colab": {
     "base_uri": "https://localhost:8080/",
     "height": 667
    },
    "hidden": true,
    "id": "dYCFV8PwXn1m",
    "outputId": "9ea7bdc1-b82b-49b4-eafa-57a0733150e2"
   },
   "outputs": [],
   "source": [
    "# personal_rehabilitation 가 no_response -> no_response\n",
    "test2.loc[(test2['personal_rehabilitation_yn']==\"no_response\"),'personal_rehabilitation_complete_yn']=\"no_response\"\n",
    "test2.loc[test2['personal_rehabilitation_yn']==\"no_response\"]"
   ]
  },
  {
   "cell_type": "code",
   "execution_count": null,
   "metadata": {
    "colab": {
     "base_uri": "https://localhost:8080/"
    },
    "hidden": true,
    "id": "Zp_21zuqbXHZ",
    "outputId": "78b45451-bcdb-48db-fbe3-b232bbeb7d38"
   },
   "outputs": [],
   "source": [
    "test2[\"personal_rehabilitation_complete_yn\"].isna().sum()"
   ]
  },
  {
   "cell_type": "markdown",
   "metadata": {
    "heading_collapsed": true,
    "id": "_ATO7TKjd1Os"
   },
   "source": [
    "# loan_rate 승인금리 "
   ]
  },
  {
   "cell_type": "markdown",
   "metadata": {
    "hidden": true,
    "id": "XaLDtGru30NA"
   },
   "source": [
    "### train"
   ]
  },
  {
   "cell_type": "code",
   "execution_count": null,
   "metadata": {
    "colab": {
     "base_uri": "https://localhost:8080/"
    },
    "hidden": true,
    "id": "s8GgXvCQgPQS",
    "outputId": "38429043-95fa-4dde-b85e-eec59221e18e"
   },
   "outputs": [],
   "source": [
    "train2[\"loan_rate\"].isna().sum()"
   ]
  },
  {
   "cell_type": "markdown",
   "metadata": {
    "hidden": true,
    "id": "vKftT1Nb331U"
   },
   "source": [
    "### test"
   ]
  },
  {
   "cell_type": "code",
   "execution_count": null,
   "metadata": {
    "colab": {
     "base_uri": "https://localhost:8080/"
    },
    "hidden": true,
    "id": "OyypRh5a8QMT",
    "outputId": "58c68397-a971-4e4c-cdee-9ef35f1eeae0"
   },
   "outputs": [],
   "source": [
    "test2[\"loan_rate\"].isna().sum()"
   ]
  },
  {
   "cell_type": "markdown",
   "metadata": {
    "heading_collapsed": true,
    "id": "u1lh3zxb9XJc"
   },
   "source": [
    "# loan_limit "
   ]
  },
  {
   "cell_type": "markdown",
   "metadata": {
    "hidden": true,
    "id": "SP7CrB9H9d6n"
   },
   "source": [
    "### train"
   ]
  },
  {
   "cell_type": "code",
   "execution_count": null,
   "metadata": {
    "colab": {
     "base_uri": "https://localhost:8080/"
    },
    "hidden": true,
    "id": "KF9JIRdN9VYX",
    "outputId": "4a156d6f-c8cb-4284-c291-f275276fabb8"
   },
   "outputs": [],
   "source": [
    "train2[\"loan_limit\"].isna().sum()"
   ]
  },
  {
   "cell_type": "markdown",
   "metadata": {
    "hidden": true,
    "id": "ndBo7kYxACcJ"
   },
   "source": [
    "### test"
   ]
  },
  {
   "cell_type": "code",
   "execution_count": null,
   "metadata": {
    "colab": {
     "base_uri": "https://localhost:8080/"
    },
    "hidden": true,
    "id": "9fH-8fHv_6AR",
    "outputId": "f268837e-301d-4690-cf8a-d045911958fc"
   },
   "outputs": [],
   "source": [
    "test2[\"loan_limit\"].isna().sum()"
   ]
  },
  {
   "cell_type": "markdown",
   "metadata": {
    "id": "HXo1EKinBhEE"
   },
   "source": [
    "# birth_year & company_enter_month"
   ]
  },
  {
   "cell_type": "markdown",
   "metadata": {
    "id": "OsMwvFU9BmKf"
   },
   "source": [
    "### train"
   ]
  },
  {
   "cell_type": "code",
   "execution_count": 11,
   "metadata": {},
   "outputs": [
    {
     "name": "stdout",
     "output_type": "stream",
     "text": [
      "76951\n"
     ]
    }
   ],
   "source": [
    "print(train2['birth_year'].isna().sum())"
   ]
  },
  {
   "cell_type": "code",
   "execution_count": 12,
   "metadata": {},
   "outputs": [
    {
     "data": {
      "text/plain": [
       "array([nan,  1.,  2.,  8., 18.,  3., 21.,  6.,  7.,  5., 11.,  9.,  4.,\n",
       "       14., 10., 22., 26., 19., 15., 23., 13., 16., 12., 17., 20., 33.,\n",
       "       28., 30., 36., 27., 37., 24., 48., 25., 29., 32., 34., 31., 38.,\n",
       "       35., 39., 44., 49., 42., 41., 40., 43., 53., 52., 46.])"
      ]
     },
     "execution_count": 12,
     "metadata": {},
     "output_type": "execute_result"
    }
   ],
   "source": [
    "train2['company_enter_year']=train2['company_enter_month'].apply(str).str[0:4].apply(float)\n",
    "train2['company_enter_year'].unique()\n",
    "\n",
    "train2['age'] = 2022 - train2['birth_year'] +1\n",
    "train2['working_year'] = 2022 - train2['company_enter_year']+1\n",
    "\n",
    "train2['working_year'].unique()"
   ]
  },
  {
   "cell_type": "code",
   "execution_count": 13,
   "metadata": {},
   "outputs": [
    {
     "name": "stdout",
     "output_type": "stream",
     "text": [
      "(10264349, 28)\n",
      "(302362, 28)\n",
      "(9961987, 28)\n",
      "3148\n",
      "531\n",
      "1979\n",
      "12\n"
     ]
    },
    {
     "name": "stderr",
     "output_type": "stream",
     "text": [
      "<ipython-input-13-344e2479cf09>:14: SettingWithCopyWarning: \n",
      "A value is trying to be set on a copy of a slice from a DataFrame.\n",
      "Try using .loc[row_indexer,col_indexer] = value instead\n",
      "\n",
      "See the caveats in the documentation: https://pandas.pydata.org/pandas-docs/stable/user_guide/indexing.html#returning-a-view-versus-a-copy\n",
      "  mujic[\"company_enter_month\"]=0\n"
     ]
    }
   ],
   "source": [
    "# income_type & employment_type 모두 기타(OTHERINCOME 기타)인 경우 \"무직\"_ isjob\n",
    "\n",
    "train2[\"isjob\"]=1\n",
    "condition =(train2[\"income_type\"]==\"OTHERINCOME\") & (train2[\"employment_type\"]==\"기타\") \n",
    "train2.loc[condition,\"isjob\"]=0\n",
    "\n",
    "mujic = train2.loc[train2[\"isjob\"]==0,:] #무직\n",
    "ujic=train2.loc[train2[\"isjob\"]==1,:] #유직 \n",
    "print(train2.shape)\n",
    "print(mujic.shape)\n",
    "print(ujic.shape)\n",
    "\n",
    "#무직이면 company_enter_month가 0\n",
    "mujic[\"company_enter_month\"]=0\n",
    "\n",
    "#무직인데 birth_year가 NA인 경우 -> 3148(531명)\n",
    "print(mujic[\"birth_year\"].isna().sum())\n",
    "print(mujic[mujic[\"birth_year\"].isna()].user_id.nunique())\n",
    "\n",
    "birthyear_mean= int(mujic[\"birth_year\"].mean())\n",
    "birthyear_sd= int(mujic[\"birth_year\"].std())\n",
    "\n",
    "\n",
    "print(birthyear_mean) #mean 1979\n",
    "print(birthyear_sd) #sd 12"
   ]
  },
  {
   "cell_type": "code",
   "execution_count": 14,
   "metadata": {},
   "outputs": [
    {
     "name": "stdout",
     "output_type": "stream",
     "text": [
      "531\n",
      "531\n"
     ]
    }
   ],
   "source": [
    "import random\n",
    "random.seed(34)\n",
    "birthyear=list(range(birthyear_mean-2*birthyear_sd, birthyear_mean+2*birthyear_sd))\n",
    "birthyearlist= list(random.choice(birthyear) for i in range(531))\n",
    "useridlist=list(mujic.loc[mujic[\"birth_year\"].isna(),\"user_id\"].unique())\n",
    "\n",
    "print(len(birthyearlist))\n",
    "print(len(useridlist))\n"
   ]
  },
  {
   "cell_type": "code",
   "execution_count": 15,
   "metadata": {},
   "outputs": [
    {
     "data": {
      "text/plain": [
       "[1988,\n",
       " 1977,\n",
       " 1992,\n",
       " 1956,\n",
       " 1969,\n",
       " 1956,\n",
       " 1979,\n",
       " 1978,\n",
       " 1959,\n",
       " 1982,\n",
       " 1974,\n",
       " 1976,\n",
       " 1961,\n",
       " 1992,\n",
       " 1987,\n",
       " 1964,\n",
       " 1961,\n",
       " 1972,\n",
       " 1977,\n",
       " 1994,\n",
       " 1955,\n",
       " 1964,\n",
       " 1988,\n",
       " 1960,\n",
       " 1958,\n",
       " 1978,\n",
       " 1971,\n",
       " 2002,\n",
       " 1990,\n",
       " 2000,\n",
       " 1958,\n",
       " 1979,\n",
       " 1965,\n",
       " 1992,\n",
       " 1995,\n",
       " 1974,\n",
       " 1973,\n",
       " 1979,\n",
       " 1975,\n",
       " 1968,\n",
       " 1968,\n",
       " 1983,\n",
       " 1989,\n",
       " 1966,\n",
       " 1993,\n",
       " 1963,\n",
       " 1991,\n",
       " 2000,\n",
       " 1980,\n",
       " 1989,\n",
       " 1982,\n",
       " 1970,\n",
       " 1970,\n",
       " 1998,\n",
       " 1962,\n",
       " 1992,\n",
       " 1997,\n",
       " 2002,\n",
       " 1959,\n",
       " 1983,\n",
       " 1972,\n",
       " 1981,\n",
       " 1962,\n",
       " 1992,\n",
       " 1973,\n",
       " 1967,\n",
       " 1966,\n",
       " 1980,\n",
       " 1976,\n",
       " 1983,\n",
       " 1960,\n",
       " 1988,\n",
       " 2002,\n",
       " 1985,\n",
       " 1981,\n",
       " 1984,\n",
       " 1978,\n",
       " 1963,\n",
       " 1983,\n",
       " 1972,\n",
       " 1963,\n",
       " 1969,\n",
       " 1965,\n",
       " 1973,\n",
       " 1974,\n",
       " 1959,\n",
       " 1974,\n",
       " 1988,\n",
       " 1961,\n",
       " 1992,\n",
       " 1988,\n",
       " 1974,\n",
       " 1981,\n",
       " 1969,\n",
       " 1981,\n",
       " 1974,\n",
       " 1989,\n",
       " 2001,\n",
       " 1977,\n",
       " 2002,\n",
       " 1994,\n",
       " 1984,\n",
       " 1959,\n",
       " 1959,\n",
       " 2001,\n",
       " 1958,\n",
       " 1976,\n",
       " 1981,\n",
       " 1975,\n",
       " 1966,\n",
       " 1966,\n",
       " 2002,\n",
       " 1981,\n",
       " 1976,\n",
       " 1985,\n",
       " 1978,\n",
       " 1997,\n",
       " 1972,\n",
       " 1955,\n",
       " 2000,\n",
       " 1994,\n",
       " 1995,\n",
       " 1971,\n",
       " 1987,\n",
       " 1989,\n",
       " 1958,\n",
       " 1965,\n",
       " 1972,\n",
       " 1962,\n",
       " 1987,\n",
       " 1971,\n",
       " 1960,\n",
       " 1997,\n",
       " 1990,\n",
       " 1984,\n",
       " 1964,\n",
       " 1971,\n",
       " 1996,\n",
       " 1999,\n",
       " 1964,\n",
       " 1984,\n",
       " 1966,\n",
       " 1996,\n",
       " 1978,\n",
       " 2002,\n",
       " 1979,\n",
       " 1964,\n",
       " 1962,\n",
       " 1984,\n",
       " 1975,\n",
       " 1993,\n",
       " 1966,\n",
       " 1963,\n",
       " 1972,\n",
       " 2002,\n",
       " 1983,\n",
       " 2000,\n",
       " 1990,\n",
       " 2002,\n",
       " 1993,\n",
       " 1991,\n",
       " 1989,\n",
       " 1984,\n",
       " 1956,\n",
       " 1981,\n",
       " 1984,\n",
       " 1994,\n",
       " 1986,\n",
       " 1995,\n",
       " 1980,\n",
       " 1965,\n",
       " 1964,\n",
       " 1959,\n",
       " 1980,\n",
       " 1980,\n",
       " 1988,\n",
       " 1974,\n",
       " 1965,\n",
       " 1988,\n",
       " 1984,\n",
       " 1984,\n",
       " 1968,\n",
       " 1981,\n",
       " 1992,\n",
       " 1999,\n",
       " 1974,\n",
       " 1983,\n",
       " 1997,\n",
       " 1972,\n",
       " 1990,\n",
       " 1994,\n",
       " 1962,\n",
       " 1997,\n",
       " 1970,\n",
       " 1964,\n",
       " 2001,\n",
       " 1987,\n",
       " 1995,\n",
       " 1974,\n",
       " 1997,\n",
       " 1962,\n",
       " 1972,\n",
       " 1955,\n",
       " 1962,\n",
       " 1983,\n",
       " 1986,\n",
       " 1986,\n",
       " 1989,\n",
       " 1974,\n",
       " 1970,\n",
       " 1989,\n",
       " 1988,\n",
       " 1977,\n",
       " 1961,\n",
       " 1976,\n",
       " 1976,\n",
       " 1997,\n",
       " 1974,\n",
       " 1977,\n",
       " 1998,\n",
       " 1995,\n",
       " 1957,\n",
       " 1975,\n",
       " 1974,\n",
       " 1965,\n",
       " 1979,\n",
       " 1987,\n",
       " 1984,\n",
       " 1957,\n",
       " 1955,\n",
       " 1959,\n",
       " 2002,\n",
       " 1961,\n",
       " 1991,\n",
       " 1993,\n",
       " 1993,\n",
       " 1980,\n",
       " 1961,\n",
       " 1991,\n",
       " 1971,\n",
       " 1982,\n",
       " 1993,\n",
       " 1957,\n",
       " 1965,\n",
       " 1983,\n",
       " 1980,\n",
       " 1961,\n",
       " 1995,\n",
       " 1984,\n",
       " 1996,\n",
       " 1974,\n",
       " 2002,\n",
       " 1966,\n",
       " 1957,\n",
       " 1970,\n",
       " 1988,\n",
       " 1998,\n",
       " 1999,\n",
       " 1981,\n",
       " 1977,\n",
       " 1968,\n",
       " 1975,\n",
       " 1962,\n",
       " 1984,\n",
       " 1979,\n",
       " 1966,\n",
       " 1969,\n",
       " 2000,\n",
       " 1967,\n",
       " 1959,\n",
       " 1999,\n",
       " 1990,\n",
       " 1998,\n",
       " 1969,\n",
       " 1958,\n",
       " 1998,\n",
       " 1956,\n",
       " 1971,\n",
       " 1977,\n",
       " 1969,\n",
       " 1975,\n",
       " 1987,\n",
       " 1974,\n",
       " 1978,\n",
       " 1983,\n",
       " 1965,\n",
       " 1990,\n",
       " 1974,\n",
       " 1992,\n",
       " 1984,\n",
       " 1972,\n",
       " 1992,\n",
       " 2000,\n",
       " 1987,\n",
       " 2002,\n",
       " 1994,\n",
       " 1975,\n",
       " 1977,\n",
       " 1984,\n",
       " 1970,\n",
       " 1960,\n",
       " 1958,\n",
       " 1999,\n",
       " 1964,\n",
       " 1969,\n",
       " 1977,\n",
       " 1978,\n",
       " 1985,\n",
       " 1981,\n",
       " 1962,\n",
       " 1998,\n",
       " 1968,\n",
       " 1990,\n",
       " 1985,\n",
       " 1965,\n",
       " 1971,\n",
       " 1997,\n",
       " 1963,\n",
       " 1959,\n",
       " 1986,\n",
       " 1965,\n",
       " 2000,\n",
       " 1972,\n",
       " 1992,\n",
       " 1976,\n",
       " 1990,\n",
       " 1994,\n",
       " 1964,\n",
       " 1971,\n",
       " 1979,\n",
       " 1962,\n",
       " 1978,\n",
       " 1986,\n",
       " 1983,\n",
       " 1998,\n",
       " 1972,\n",
       " 1987,\n",
       " 1960,\n",
       " 1962,\n",
       " 1980,\n",
       " 1968,\n",
       " 1992,\n",
       " 2001,\n",
       " 1996,\n",
       " 1962,\n",
       " 1966,\n",
       " 1999,\n",
       " 1991,\n",
       " 1996,\n",
       " 1959,\n",
       " 1977,\n",
       " 1993,\n",
       " 1974,\n",
       " 1955,\n",
       " 1956,\n",
       " 2000,\n",
       " 1995,\n",
       " 1956,\n",
       " 2001,\n",
       " 1974,\n",
       " 1972,\n",
       " 1971,\n",
       " 1958,\n",
       " 1968,\n",
       " 1985,\n",
       " 1966,\n",
       " 1964,\n",
       " 1989,\n",
       " 1968,\n",
       " 1994,\n",
       " 1964,\n",
       " 1988,\n",
       " 1992,\n",
       " 1964,\n",
       " 1980,\n",
       " 1996,\n",
       " 1971,\n",
       " 1975,\n",
       " 1973,\n",
       " 1968,\n",
       " 1997,\n",
       " 1975,\n",
       " 1959,\n",
       " 1999,\n",
       " 1980,\n",
       " 1974,\n",
       " 1992,\n",
       " 1999,\n",
       " 1996,\n",
       " 1989,\n",
       " 1961,\n",
       " 1962,\n",
       " 1959,\n",
       " 1974,\n",
       " 1964,\n",
       " 1985,\n",
       " 1988,\n",
       " 1986,\n",
       " 1955,\n",
       " 1992,\n",
       " 1957,\n",
       " 1977,\n",
       " 1972,\n",
       " 1980,\n",
       " 2001,\n",
       " 1960,\n",
       " 1956,\n",
       " 1968,\n",
       " 2002,\n",
       " 1962,\n",
       " 1989,\n",
       " 1956,\n",
       " 1982,\n",
       " 1994,\n",
       " 1983,\n",
       " 1981,\n",
       " 2000,\n",
       " 1962,\n",
       " 1962,\n",
       " 1960,\n",
       " 1996,\n",
       " 1998,\n",
       " 1986,\n",
       " 1997,\n",
       " 1977,\n",
       " 1999,\n",
       " 1989,\n",
       " 1995,\n",
       " 1999,\n",
       " 1969,\n",
       " 1955,\n",
       " 1960,\n",
       " 1984,\n",
       " 1972,\n",
       " 1982,\n",
       " 1987,\n",
       " 1966,\n",
       " 1982,\n",
       " 1988,\n",
       " 1969,\n",
       " 1982,\n",
       " 1994,\n",
       " 1967,\n",
       " 1963,\n",
       " 1969,\n",
       " 1958,\n",
       " 2002,\n",
       " 2002,\n",
       " 1990,\n",
       " 1997,\n",
       " 1962,\n",
       " 1981,\n",
       " 1988,\n",
       " 1964,\n",
       " 1998,\n",
       " 1968,\n",
       " 1999,\n",
       " 1970,\n",
       " 1986,\n",
       " 1999,\n",
       " 1976,\n",
       " 1962,\n",
       " 1985,\n",
       " 1955,\n",
       " 1961,\n",
       " 1978,\n",
       " 1959,\n",
       " 1996,\n",
       " 1980,\n",
       " 1976,\n",
       " 1981,\n",
       " 1979,\n",
       " 1976,\n",
       " 1991,\n",
       " 1970,\n",
       " 1958,\n",
       " 1957,\n",
       " 1977,\n",
       " 1982,\n",
       " 1977,\n",
       " 1989,\n",
       " 1996,\n",
       " 1971,\n",
       " 1961,\n",
       " 1980,\n",
       " 1985,\n",
       " 2002,\n",
       " 1981,\n",
       " 1987,\n",
       " 1973,\n",
       " 1968,\n",
       " 1958,\n",
       " 1977,\n",
       " 1998,\n",
       " 1977,\n",
       " 1995,\n",
       " 1974,\n",
       " 1970,\n",
       " 1981,\n",
       " 1979,\n",
       " 1988,\n",
       " 1977,\n",
       " 2000,\n",
       " 1990,\n",
       " 1975,\n",
       " 1998,\n",
       " 1986,\n",
       " 1968,\n",
       " 1980,\n",
       " 1971,\n",
       " 1965,\n",
       " 2002,\n",
       " 2001,\n",
       " 1969,\n",
       " 1965,\n",
       " 1961,\n",
       " 1998,\n",
       " 1999,\n",
       " 1977,\n",
       " 1969,\n",
       " 1994,\n",
       " 1966,\n",
       " 1963,\n",
       " 1973,\n",
       " 1966,\n",
       " 1964,\n",
       " 1994,\n",
       " 1991,\n",
       " 1992,\n",
       " 1999,\n",
       " 1990]"
      ]
     },
     "execution_count": 15,
     "metadata": {},
     "output_type": "execute_result"
    }
   ],
   "source": [
    "birthyearlist"
   ]
  },
  {
   "cell_type": "code",
   "execution_count": 16,
   "metadata": {},
   "outputs": [
    {
     "data": {
      "text/plain": [
       "0"
      ]
     },
     "execution_count": 16,
     "metadata": {},
     "output_type": "execute_result"
    }
   ],
   "source": [
    "diction= pd.DataFrame({\"birth_year2\": birthyearlist, \"user_id\": useridlist})\n",
    "\n",
    "mujic = pd.merge(mujic, diction,how=\"left\", on=\"user_id\")\n",
    "mujic.head()\n",
    "\n",
    "# 결측치이면 birth_year2로 대체\n",
    "mujic[\"birth_year\"].fillna(mujic[\"birth_year2\"], inplace=True)\n",
    "\n",
    "# 불필요한 열 삭제 \n",
    "del mujic['birth_year2']\n",
    "\n",
    "mujic[\"birth_year\"].isna().sum()\n",
    "\n"
   ]
  },
  {
   "cell_type": "code",
   "execution_count": 17,
   "metadata": {},
   "outputs": [
    {
     "data": {
      "text/plain": [
       "array([1974., 1971., 1980., 1997., 1982., 1958., 1973., 1969., 1993.,\n",
       "       1976., 1999., 1978., 1995., 1955., 1981., 1984., 1959., 1996.,\n",
       "       1972., 1998., 1986., 1991., 1987., 1994., 1979., 1946., 1966.,\n",
       "       1948., 1968., 1989., 1962., 1983., 2000., 1965., 1967., 1977.,\n",
       "       1952., 1951., 1970., 1988., 1957., 1975., 1932., 1963., 1964.,\n",
       "       1985., 1992., 1961., 1990., 1940., 1953., 1942., 2001., 1954.,\n",
       "       1956., 1960., 2002., 1939., 1936., 1937., 1947., 1943., 1944.,\n",
       "       1933., 1949., 1950., 1945., 1938., 1941., 2003., 1935., 1934.,\n",
       "       1930.])"
      ]
     },
     "execution_count": 17,
     "metadata": {},
     "output_type": "execute_result"
    }
   ],
   "source": [
    "mujic[\"birth_year\"].unique()"
   ]
  },
  {
   "cell_type": "code",
   "execution_count": 18,
   "metadata": {
    "id": "NREjkkBrBgch"
   },
   "outputs": [
    {
     "name": "stdout",
     "output_type": "stream",
     "text": [
      "73803\n",
      "2792\n"
     ]
    },
    {
     "name": "stderr",
     "output_type": "stream",
     "text": [
      "<ipython-input-18-d2562e52c643>:8: SettingWithCopyWarning: \n",
      "A value is trying to be set on a copy of a slice from a DataFrame.\n",
      "Try using .loc[row_indexer,col_indexer] = value instead\n",
      "\n",
      "See the caveats in the documentation: https://pandas.pydata.org/pandas-docs/stable/user_guide/indexing.html#returning-a-view-versus-a-copy\n",
      "  ujic['company_enter_year']=ujic['company_enter_month'].apply(str).str[0:4].apply(float)\n",
      "<ipython-input-18-d2562e52c643>:11: SettingWithCopyWarning: \n",
      "A value is trying to be set on a copy of a slice from a DataFrame.\n",
      "Try using .loc[row_indexer,col_indexer] = value instead\n",
      "\n",
      "See the caveats in the documentation: https://pandas.pydata.org/pandas-docs/stable/user_guide/indexing.html#returning-a-view-versus-a-copy\n",
      "  ujic['age'] = 2022 - ujic['birth_year'] +1\n",
      "<ipython-input-18-d2562e52c643>:12: SettingWithCopyWarning: \n",
      "A value is trying to be set on a copy of a slice from a DataFrame.\n",
      "Try using .loc[row_indexer,col_indexer] = value instead\n",
      "\n",
      "See the caveats in the documentation: https://pandas.pydata.org/pandas-docs/stable/user_guide/indexing.html#returning-a-view-versus-a-copy\n",
      "  ujic['working_year'] = 2022 - ujic['company_enter_year']+1\n"
     ]
    },
    {
     "data": {
      "text/html": [
       "<div>\n",
       "<style scoped>\n",
       "    .dataframe tbody tr th:only-of-type {\n",
       "        vertical-align: middle;\n",
       "    }\n",
       "\n",
       "    .dataframe tbody tr th {\n",
       "        vertical-align: top;\n",
       "    }\n",
       "\n",
       "    .dataframe thead th {\n",
       "        text-align: right;\n",
       "    }\n",
       "</style>\n",
       "<table border=\"1\" class=\"dataframe\">\n",
       "  <thead>\n",
       "    <tr style=\"text-align: right;\">\n",
       "      <th></th>\n",
       "      <th>application_id</th>\n",
       "      <th>loanapply_insert_time</th>\n",
       "      <th>bank_id</th>\n",
       "      <th>product_id</th>\n",
       "      <th>loan_limit</th>\n",
       "      <th>loan_rate</th>\n",
       "      <th>is_applied</th>\n",
       "      <th>user_id</th>\n",
       "      <th>birth_year</th>\n",
       "      <th>gender</th>\n",
       "      <th>...</th>\n",
       "      <th>purpose</th>\n",
       "      <th>personal_rehabilitation_yn</th>\n",
       "      <th>personal_rehabilitation_complete_yn</th>\n",
       "      <th>existing_loan_cnt</th>\n",
       "      <th>existing_loan_amt</th>\n",
       "      <th>company_enter_year</th>\n",
       "      <th>isna</th>\n",
       "      <th>age</th>\n",
       "      <th>working_year</th>\n",
       "      <th>isjob</th>\n",
       "    </tr>\n",
       "  </thead>\n",
       "  <tbody>\n",
       "  </tbody>\n",
       "</table>\n",
       "<p>0 rows × 28 columns</p>\n",
       "</div>"
      ],
      "text/plain": [
       "Empty DataFrame\n",
       "Columns: [application_id, loanapply_insert_time, bank_id, product_id, loan_limit, loan_rate, is_applied, user_id, birth_year, gender, insert_time, credit_score, yearly_income, income_type, company_enter_month, employment_type, houseown_type, desired_amount, purpose, personal_rehabilitation_yn, personal_rehabilitation_complete_yn, existing_loan_cnt, existing_loan_amt, company_enter_year, isna, age, working_year, isjob]\n",
       "Index: []\n",
       "\n",
       "[0 rows x 28 columns]"
      ]
     },
     "execution_count": 18,
     "metadata": {},
     "output_type": "execute_result"
    }
   ],
   "source": [
    "#유직인 경우 -73803건(2792명 )\n",
    "print(ujic['birth_year'].isna().sum()) \n",
    "print(ujic[ujic[\"birth_year\"].isna()].user_id.nunique())\n",
    "# outlier 제거\n",
    "\n",
    "# outlier제거를 위한 변수 만들기\n",
    "#입사연월에서 연도만 뺀 변수 만들기\n",
    "ujic['company_enter_year']=ujic['company_enter_month'].apply(str).str[0:4].apply(float)\n",
    "ujic['company_enter_year']\n",
    "\n",
    "ujic['age'] = 2022 - ujic['birth_year'] +1\n",
    "ujic['working_year'] = 2022 - ujic['company_enter_year']+1\n",
    "\n",
    "\n",
    "ujic.loc[(ujic['age']-ujic['working_year'])<=0] #태어나기도 전에 일한사람? 0명"
   ]
  },
  {
   "cell_type": "code",
   "execution_count": 19,
   "metadata": {},
   "outputs": [
    {
     "data": {
      "text/html": [
       "<div>\n",
       "<style scoped>\n",
       "    .dataframe tbody tr th:only-of-type {\n",
       "        vertical-align: middle;\n",
       "    }\n",
       "\n",
       "    .dataframe tbody tr th {\n",
       "        vertical-align: top;\n",
       "    }\n",
       "\n",
       "    .dataframe thead th {\n",
       "        text-align: right;\n",
       "    }\n",
       "</style>\n",
       "<table border=\"1\" class=\"dataframe\">\n",
       "  <thead>\n",
       "    <tr style=\"text-align: right;\">\n",
       "      <th></th>\n",
       "      <th>application_id</th>\n",
       "      <th>loanapply_insert_time</th>\n",
       "      <th>bank_id</th>\n",
       "      <th>product_id</th>\n",
       "      <th>loan_limit</th>\n",
       "      <th>loan_rate</th>\n",
       "      <th>is_applied</th>\n",
       "      <th>user_id</th>\n",
       "      <th>birth_year</th>\n",
       "      <th>gender</th>\n",
       "      <th>...</th>\n",
       "      <th>houseown_type</th>\n",
       "      <th>desired_amount</th>\n",
       "      <th>purpose</th>\n",
       "      <th>personal_rehabilitation_yn</th>\n",
       "      <th>personal_rehabilitation_complete_yn</th>\n",
       "      <th>existing_loan_cnt</th>\n",
       "      <th>existing_loan_amt</th>\n",
       "      <th>company_enter_year</th>\n",
       "      <th>isna</th>\n",
       "      <th>isjob</th>\n",
       "    </tr>\n",
       "  </thead>\n",
       "  <tbody>\n",
       "  </tbody>\n",
       "</table>\n",
       "<p>0 rows × 26 columns</p>\n",
       "</div>"
      ],
      "text/plain": [
       "Empty DataFrame\n",
       "Columns: [application_id, loanapply_insert_time, bank_id, product_id, loan_limit, loan_rate, is_applied, user_id, birth_year, gender, insert_time, credit_score, yearly_income, income_type, company_enter_month, employment_type, houseown_type, desired_amount, purpose, personal_rehabilitation_yn, personal_rehabilitation_complete_yn, existing_loan_cnt, existing_loan_amt, company_enter_year, isna, isjob]\n",
       "Index: []\n",
       "\n",
       "[0 rows x 26 columns]"
      ]
     },
     "execution_count": 19,
     "metadata": {},
     "output_type": "execute_result"
    }
   ],
   "source": [
    "#나이가 근속기간보다 많으면 company_enter_month  NA 처리  \n",
    "\n",
    "#ujic.loc[(ujic['age']-ujic['working_year'])<=0, \"birth_year\"]=np.nan\n",
    "ujic.loc[(ujic['age']-ujic['working_year'])<=0, \"company_enter_month\"]=np.nan\n",
    "\n",
    "del ujic['working_year']\n",
    "del ujic['age']\n",
    "\n",
    "ujic[ujic[\"company_enter_month\"]<197000.0] \n"
   ]
  },
  {
   "cell_type": "code",
   "execution_count": 20,
   "metadata": {},
   "outputs": [
    {
     "name": "stdout",
     "output_type": "stream",
     "text": [
      "0\n",
      "(9961987, 26)\n",
      "(9961987, 26)\n"
     ]
    },
    {
     "name": "stderr",
     "output_type": "stream",
     "text": [
      "<ipython-input-20-63ab13f1094e>:5: SettingWithCopyWarning: \n",
      "A value is trying to be set on a copy of a slice from a DataFrame\n",
      "\n",
      "See the caveats in the documentation: https://pandas.pydata.org/pandas-docs/stable/user_guide/indexing.html#returning-a-view-versus-a-copy\n",
      "  ujic.drop(index1, inplace=True)\n"
     ]
    }
   ],
   "source": [
    "index1=ujic[ujic[\"company_enter_month\"]<197000.0].index #application_id : 1769164 - 1942.0년 입사 : 삭제\n",
    "print(len(index1)) #11명 -> 삭제...\n",
    "\n",
    "print(ujic.shape)\n",
    "ujic.drop(index1, inplace=True)\n",
    "print(ujic.shape)"
   ]
  },
  {
   "cell_type": "code",
   "execution_count": 21,
   "metadata": {
    "colab": {
     "base_uri": "https://localhost:8080/"
    },
    "id": "RWD54OQGQELd",
    "outputId": "0898aa21-a54b-4ecc-de64-916e1d24e693"
   },
   "outputs": [
    {
     "name": "stdout",
     "output_type": "stream",
     "text": [
      "73803\n",
      "(1, 26)\n",
      "(73802, 26)\n",
      "(2468, 26)\n",
      "(9885716, 26)\n",
      "(9959518, 26)\n",
      "(2469, 26)\n"
     ]
    },
    {
     "name": "stderr",
     "output_type": "stream",
     "text": [
      "<ipython-input-21-9743a7f05c52>:19: SettingWithCopyWarning: \n",
      "A value is trying to be set on a copy of a slice from a DataFrame.\n",
      "Try using .loc[row_indexer,col_indexer] = value instead\n",
      "\n",
      "See the caveats in the documentation: https://pandas.pydata.org/pandas-docs/stable/user_guide/indexing.html#returning-a-view-versus-a-copy\n",
      "  ujic1[\"entertime\"] = ujic1[\"company_enter_year\"] - ujic1[\"birth_year\"]\n"
     ]
    },
    {
     "name": "stdout",
     "output_type": "stream",
     "text": [
      "company_enter_year    0\n",
      "entertime             0\n",
      "birth_year            0\n",
      "dtype: int64\n",
      "(9959518, 27)\n",
      "(9959518, 29)\n",
      "0\n",
      "0\n"
     ]
    }
   ],
   "source": [
    "#1) 유직인 경우 birth_year NA & company_enter_month가 NA : \n",
    "#2) 유직인 경우 birth_year NA & company_enter_month가 존재 : **이게 문제였었다 \n",
    "#3) 유직인 경우 birth_year 존재 & company_enter_month가 NA : -> 나중에 \n",
    "print(ujic['birth_year'].isna().sum()) #88482\n",
    "\n",
    "print(ujic.loc[(ujic[\"birth_year\"].isna())&(ujic[\"company_enter_month\"].isna()),:].shape) #15\n",
    "print(ujic.loc[(ujic[\"birth_year\"].isna())&(ujic[\"company_enter_month\"].notna()),:].shape) #87721\n",
    "print(ujic.loc[(ujic[\"birth_year\"].notna())&(ujic[\"company_enter_month\"].isna()),:].shape) # 2009\n",
    "print(ujic.loc[(ujic[\"birth_year\"].notna())&(ujic[\"company_enter_month\"].notna()),:].shape) #9871533\n",
    "\n",
    "#1) 유직인 경우 birth_year NA & company_enter_month가 존재 :87758\n",
    "######company_enter_year -birth year별로 태어난 후, 직장을 가질때까지 기간의 median \n",
    "#birth_year + employee_type별 입사까지 걸린 시간 : enter_time \n",
    "ujic1= ujic[ujic[\"company_enter_month\"].notna()] #company_enter_year가 존재 9960000\n",
    "ujic2= ujic[ujic[\"company_enter_month\"].isna()]  #company_enter_year가 존재하지 않음 2024\n",
    "print(ujic1.shape)\n",
    "print(ujic2.shape)\n",
    "\n",
    "ujic1[\"entertime\"] = ujic1[\"company_enter_year\"] - ujic1[\"birth_year\"]\n",
    "birthyear_df=pd.DataFrame(ujic1[ujic1[\"income_type\"]!=\"OTHERINCOME\"].groupby([\"company_enter_year\"])[\"entertime\"].median()).reset_index()\n",
    "birthyear_df[\"birth_year\"] = birthyear_df[\"company_enter_year\"]-birthyear_df[\"entertime\"]\n",
    "print(birthyear_df.isna().sum())\n",
    "\n",
    "\n",
    "print(ujic1.shape)\n",
    "ujic1= pd.merge(ujic1, birthyear_df, how=\"left\", on=[\"company_enter_year\"])\n",
    "print(ujic1.shape)\n",
    "\n",
    "#결측치 처리\n",
    "print(ujic1.birth_year_y.isna().sum())\n",
    "ujic1[\"birth_year_x\"].fillna(ujic1[\"birth_year_y\"], inplace=True)\n",
    "\n",
    "\n",
    "# 불필요한 열 삭제 \n",
    "del ujic1['entertime_x']\n",
    "del ujic1['entertime_y']\n",
    "del ujic1['birth_year_y']\n",
    "\n",
    "ujic1.rename(columns={\"birth_year_x\": \"birth_year\"}, inplace=True)\n",
    "\n",
    "print(ujic1.birth_year.isna().sum())"
   ]
  },
  {
   "cell_type": "code",
   "execution_count": 22,
   "metadata": {},
   "outputs": [
    {
     "name": "stdout",
     "output_type": "stream",
     "text": [
      "1\n",
      "1\n",
      "1982\n",
      "9\n",
      "1\n",
      "1\n",
      "0\n",
      "(9959518, 26)\n",
      "(2469, 26)\n",
      "(9961987, 26)\n",
      "application_id                               0\n",
      "loanapply_insert_time                        0\n",
      "bank_id                                      0\n",
      "product_id                                   0\n",
      "loan_limit                                   0\n",
      "loan_rate                                    0\n",
      "is_applied                                   0\n",
      "user_id                                      0\n",
      "birth_year                                   0\n",
      "gender                                   73803\n",
      "insert_time                                  0\n",
      "credit_score                           1069446\n",
      "yearly_income                                0\n",
      "income_type                                  0\n",
      "company_enter_month                       2469\n",
      "employment_type                              0\n",
      "houseown_type                                0\n",
      "desired_amount                               0\n",
      "purpose                                      0\n",
      "personal_rehabilitation_yn                   0\n",
      "personal_rehabilitation_complete_yn          0\n",
      "existing_loan_cnt                      2075233\n",
      "existing_loan_amt                            0\n",
      "company_enter_year                        2469\n",
      "isna                                         0\n",
      "isjob                                        0\n",
      "dtype: int64\n",
      "application_id                              0\n",
      "loanapply_insert_time                       0\n",
      "bank_id                                     0\n",
      "product_id                                  0\n",
      "loan_limit                                  0\n",
      "loan_rate                                   0\n",
      "is_applied                                  0\n",
      "user_id                                     0\n",
      "birth_year                                  0\n",
      "gender                                   3148\n",
      "insert_time                                 0\n",
      "credit_score                            41595\n",
      "yearly_income                               0\n",
      "income_type                                 0\n",
      "company_enter_month                         0\n",
      "employment_type                             0\n",
      "houseown_type                               0\n",
      "desired_amount                              0\n",
      "purpose                                     0\n",
      "personal_rehabilitation_yn                  0\n",
      "personal_rehabilitation_complete_yn         0\n",
      "existing_loan_cnt                       67780\n",
      "existing_loan_amt                           0\n",
      "company_enter_year                     238003\n",
      "isna                                        0\n",
      "age                                      3148\n",
      "working_year                           238003\n",
      "isjob                                       0\n",
      "dtype: int64\n"
     ]
    }
   ],
   "source": [
    "#2) company_enter_month가 na인 경우 birth_year 처리 -random \n",
    "\n",
    "# train에서 만든 birthyear_mean, birthyear_sd 생성 \n",
    "print(ujic2[\"birth_year\"].isna().sum()) #1 NA\n",
    "print(ujic2[ujic2[\"birth_year\"].isna()].user_id.nunique()) #1\n",
    "\n",
    "birthyear_mean= int(ujic[\"birth_year\"].mean())\n",
    "birthyear_sd= int(ujic[\"birth_year\"].std())\n",
    "\n",
    "print(birthyear_mean) #mean 1982\n",
    "print(birthyear_sd) #sd 9\n",
    "\n",
    "random.seed(34)\n",
    "birthyear=list(range(birthyear_mean-2*birthyear_sd, birthyear_mean+2*birthyear_sd))\n",
    "birthyearlist= list(random.choice(birthyear) for i in range(1)) ##음\n",
    "useridlist=list(ujic2.loc[ujic2[\"birth_year\"].isna(),\"user_id\"].unique())\n",
    "\n",
    "print(len(birthyearlist))\n",
    "print(len(useridlist))\n",
    "\n",
    "diction= pd.DataFrame({\"birth_year2\": birthyearlist, \"user_id\": useridlist})\n",
    "\n",
    "ujic2 = pd.merge(ujic2, diction,how=\"left\", on=\"user_id\")\n",
    "ujic2.head()\n",
    "\n",
    "# 결측치이면 birth_year2로 대체\n",
    "ujic2[\"birth_year\"].fillna(ujic2[\"birth_year2\"], inplace=True)\n",
    "\n",
    "# 불필요한 열 삭제 \n",
    "del ujic2['birth_year2']\n",
    "print(ujic2[\"birth_year\"].isna().sum())\n",
    "ujic2[\"birth_year\"].unique()\n",
    "\n",
    "#유직 합치기 \n",
    "print(ujic1.shape)\n",
    "print(ujic2.shape)\n",
    "ujic=pd.concat([ujic1, ujic2])\n",
    "print(ujic.shape)\n",
    "\n",
    "#결측치 확인 \n",
    "print(ujic.isna().sum()) #company_enter_month NA 존재 \n",
    "print(mujic.isna().sum())"
   ]
  },
  {
   "cell_type": "code",
   "execution_count": 23,
   "metadata": {},
   "outputs": [
    {
     "data": {
      "text/html": [
       "<div>\n",
       "<style scoped>\n",
       "    .dataframe tbody tr th:only-of-type {\n",
       "        vertical-align: middle;\n",
       "    }\n",
       "\n",
       "    .dataframe tbody tr th {\n",
       "        vertical-align: top;\n",
       "    }\n",
       "\n",
       "    .dataframe thead th {\n",
       "        text-align: right;\n",
       "    }\n",
       "</style>\n",
       "<table border=\"1\" class=\"dataframe\">\n",
       "  <thead>\n",
       "    <tr style=\"text-align: right;\">\n",
       "      <th></th>\n",
       "      <th>application_id</th>\n",
       "      <th>loanapply_insert_time</th>\n",
       "      <th>bank_id</th>\n",
       "      <th>product_id</th>\n",
       "      <th>loan_limit</th>\n",
       "      <th>loan_rate</th>\n",
       "      <th>is_applied</th>\n",
       "      <th>user_id</th>\n",
       "      <th>birth_year</th>\n",
       "      <th>gender</th>\n",
       "      <th>...</th>\n",
       "      <th>purpose</th>\n",
       "      <th>personal_rehabilitation_yn</th>\n",
       "      <th>personal_rehabilitation_complete_yn</th>\n",
       "      <th>existing_loan_cnt</th>\n",
       "      <th>existing_loan_amt</th>\n",
       "      <th>company_enter_year</th>\n",
       "      <th>isna</th>\n",
       "      <th>isjob</th>\n",
       "      <th>age</th>\n",
       "      <th>working_year</th>\n",
       "    </tr>\n",
       "  </thead>\n",
       "  <tbody>\n",
       "  </tbody>\n",
       "</table>\n",
       "<p>0 rows × 28 columns</p>\n",
       "</div>"
      ],
      "text/plain": [
       "Empty DataFrame\n",
       "Columns: [application_id, loanapply_insert_time, bank_id, product_id, loan_limit, loan_rate, is_applied, user_id, birth_year, gender, insert_time, credit_score, yearly_income, income_type, company_enter_month, employment_type, houseown_type, desired_amount, purpose, personal_rehabilitation_yn, personal_rehabilitation_complete_yn, existing_loan_cnt, existing_loan_amt, company_enter_year, isna, isjob, age, working_year]\n",
       "Index: []\n",
       "\n",
       "[0 rows x 28 columns]"
      ]
     },
     "execution_count": 23,
     "metadata": {},
     "output_type": "execute_result"
    }
   ],
   "source": [
    "#한번 더 checking! \n",
    "ujic['company_enter_year']=ujic['company_enter_month'].apply(str).str[0:4].apply(float)\n",
    "ujic['company_enter_year']\n",
    "\n",
    "ujic['age'] = 2022 - ujic['birth_year'] +1\n",
    "ujic['working_year'] = 2022 - ujic['company_enter_year']+1\n",
    "\n",
    "\n",
    "ujic.loc[(ujic['age']-ujic['working_year'])<=0]\n"
   ]
  },
  {
   "cell_type": "code",
   "execution_count": 24,
   "metadata": {},
   "outputs": [
    {
     "data": {
      "text/html": [
       "<div>\n",
       "<style scoped>\n",
       "    .dataframe tbody tr th:only-of-type {\n",
       "        vertical-align: middle;\n",
       "    }\n",
       "\n",
       "    .dataframe tbody tr th {\n",
       "        vertical-align: top;\n",
       "    }\n",
       "\n",
       "    .dataframe thead th {\n",
       "        text-align: right;\n",
       "    }\n",
       "</style>\n",
       "<table border=\"1\" class=\"dataframe\">\n",
       "  <thead>\n",
       "    <tr style=\"text-align: right;\">\n",
       "      <th></th>\n",
       "      <th>application_id</th>\n",
       "      <th>loanapply_insert_time</th>\n",
       "      <th>bank_id</th>\n",
       "      <th>product_id</th>\n",
       "      <th>loan_limit</th>\n",
       "      <th>loan_rate</th>\n",
       "      <th>is_applied</th>\n",
       "      <th>user_id</th>\n",
       "      <th>birth_year</th>\n",
       "      <th>gender</th>\n",
       "      <th>...</th>\n",
       "      <th>employment_type</th>\n",
       "      <th>houseown_type</th>\n",
       "      <th>desired_amount</th>\n",
       "      <th>purpose</th>\n",
       "      <th>personal_rehabilitation_yn</th>\n",
       "      <th>personal_rehabilitation_complete_yn</th>\n",
       "      <th>existing_loan_cnt</th>\n",
       "      <th>existing_loan_amt</th>\n",
       "      <th>isna</th>\n",
       "      <th>isjob</th>\n",
       "    </tr>\n",
       "  </thead>\n",
       "  <tbody>\n",
       "    <tr>\n",
       "      <th>0</th>\n",
       "      <td>180433</td>\n",
       "      <td>2022-03-01 00:12:05</td>\n",
       "      <td>19</td>\n",
       "      <td>231</td>\n",
       "      <td>16000000.0</td>\n",
       "      <td>15.0</td>\n",
       "      <td>0.0</td>\n",
       "      <td>623737</td>\n",
       "      <td>1997.0</td>\n",
       "      <td>1.0</td>\n",
       "      <td>...</td>\n",
       "      <td>일용직</td>\n",
       "      <td>기타가족소유</td>\n",
       "      <td>3000000.0</td>\n",
       "      <td>LIVING</td>\n",
       "      <td>no_response</td>\n",
       "      <td>no_response</td>\n",
       "      <td>3.0</td>\n",
       "      <td>11000000.0</td>\n",
       "      <td>NotNa</td>\n",
       "      <td>1</td>\n",
       "    </tr>\n",
       "    <tr>\n",
       "      <th>1</th>\n",
       "      <td>180433</td>\n",
       "      <td>2022-03-01 00:12:05</td>\n",
       "      <td>13</td>\n",
       "      <td>262</td>\n",
       "      <td>22000000.0</td>\n",
       "      <td>16.6</td>\n",
       "      <td>0.0</td>\n",
       "      <td>623737</td>\n",
       "      <td>1997.0</td>\n",
       "      <td>1.0</td>\n",
       "      <td>...</td>\n",
       "      <td>일용직</td>\n",
       "      <td>기타가족소유</td>\n",
       "      <td>3000000.0</td>\n",
       "      <td>LIVING</td>\n",
       "      <td>no_response</td>\n",
       "      <td>no_response</td>\n",
       "      <td>3.0</td>\n",
       "      <td>11000000.0</td>\n",
       "      <td>NotNa</td>\n",
       "      <td>1</td>\n",
       "    </tr>\n",
       "    <tr>\n",
       "      <th>2</th>\n",
       "      <td>180433</td>\n",
       "      <td>2022-03-01 00:12:06</td>\n",
       "      <td>21</td>\n",
       "      <td>196</td>\n",
       "      <td>3000000.0</td>\n",
       "      <td>10.9</td>\n",
       "      <td>1.0</td>\n",
       "      <td>623737</td>\n",
       "      <td>1997.0</td>\n",
       "      <td>1.0</td>\n",
       "      <td>...</td>\n",
       "      <td>일용직</td>\n",
       "      <td>기타가족소유</td>\n",
       "      <td>3000000.0</td>\n",
       "      <td>LIVING</td>\n",
       "      <td>no_response</td>\n",
       "      <td>no_response</td>\n",
       "      <td>3.0</td>\n",
       "      <td>11000000.0</td>\n",
       "      <td>NotNa</td>\n",
       "      <td>1</td>\n",
       "    </tr>\n",
       "    <tr>\n",
       "      <th>3</th>\n",
       "      <td>1657888</td>\n",
       "      <td>2022-03-01 00:12:06</td>\n",
       "      <td>24</td>\n",
       "      <td>263</td>\n",
       "      <td>5000000.0</td>\n",
       "      <td>15.9</td>\n",
       "      <td>0.0</td>\n",
       "      <td>752985</td>\n",
       "      <td>1997.0</td>\n",
       "      <td>1.0</td>\n",
       "      <td>...</td>\n",
       "      <td>기타</td>\n",
       "      <td>기타가족소유</td>\n",
       "      <td>3000000.0</td>\n",
       "      <td>LIVING</td>\n",
       "      <td>no_response</td>\n",
       "      <td>no_response</td>\n",
       "      <td>7.0</td>\n",
       "      <td>33000000.0</td>\n",
       "      <td>NotNa</td>\n",
       "      <td>1</td>\n",
       "    </tr>\n",
       "    <tr>\n",
       "      <th>4</th>\n",
       "      <td>1657888</td>\n",
       "      <td>2022-03-01 00:12:06</td>\n",
       "      <td>42</td>\n",
       "      <td>216</td>\n",
       "      <td>3000000.0</td>\n",
       "      <td>13.5</td>\n",
       "      <td>0.0</td>\n",
       "      <td>752985</td>\n",
       "      <td>1997.0</td>\n",
       "      <td>1.0</td>\n",
       "      <td>...</td>\n",
       "      <td>기타</td>\n",
       "      <td>기타가족소유</td>\n",
       "      <td>3000000.0</td>\n",
       "      <td>LIVING</td>\n",
       "      <td>no_response</td>\n",
       "      <td>no_response</td>\n",
       "      <td>7.0</td>\n",
       "      <td>33000000.0</td>\n",
       "      <td>NotNa</td>\n",
       "      <td>1</td>\n",
       "    </tr>\n",
       "  </tbody>\n",
       "</table>\n",
       "<p>5 rows × 25 columns</p>\n",
       "</div>"
      ],
      "text/plain": [
       "   application_id loanapply_insert_time  bank_id  product_id  loan_limit  \\\n",
       "0          180433   2022-03-01 00:12:05       19         231  16000000.0   \n",
       "1          180433   2022-03-01 00:12:05       13         262  22000000.0   \n",
       "2          180433   2022-03-01 00:12:06       21         196   3000000.0   \n",
       "3         1657888   2022-03-01 00:12:06       24         263   5000000.0   \n",
       "4         1657888   2022-03-01 00:12:06       42         216   3000000.0   \n",
       "\n",
       "   loan_rate  is_applied  user_id  birth_year  gender  ... employment_type  \\\n",
       "0       15.0         0.0   623737      1997.0     1.0  ...             일용직   \n",
       "1       16.6         0.0   623737      1997.0     1.0  ...             일용직   \n",
       "2       10.9         1.0   623737      1997.0     1.0  ...             일용직   \n",
       "3       15.9         0.0   752985      1997.0     1.0  ...              기타   \n",
       "4       13.5         0.0   752985      1997.0     1.0  ...              기타   \n",
       "\n",
       "   houseown_type  desired_amount purpose  personal_rehabilitation_yn  \\\n",
       "0         기타가족소유       3000000.0  LIVING                 no_response   \n",
       "1         기타가족소유       3000000.0  LIVING                 no_response   \n",
       "2         기타가족소유       3000000.0  LIVING                 no_response   \n",
       "3         기타가족소유       3000000.0  LIVING                 no_response   \n",
       "4         기타가족소유       3000000.0  LIVING                 no_response   \n",
       "\n",
       "  personal_rehabilitation_complete_yn existing_loan_cnt  existing_loan_amt  \\\n",
       "0                         no_response               3.0         11000000.0   \n",
       "1                         no_response               3.0         11000000.0   \n",
       "2                         no_response               3.0         11000000.0   \n",
       "3                         no_response               7.0         33000000.0   \n",
       "4                         no_response               7.0         33000000.0   \n",
       "\n",
       "    isna isjob  \n",
       "0  NotNa     1  \n",
       "1  NotNa     1  \n",
       "2  NotNa     1  \n",
       "3  NotNa     1  \n",
       "4  NotNa     1  \n",
       "\n",
       "[5 rows x 25 columns]"
      ]
     },
     "execution_count": 24,
     "metadata": {},
     "output_type": "execute_result"
    }
   ],
   "source": [
    "ujic.drop(['company_enter_year','working_year','age'],axis=1, inplace=True)\n",
    "ujic.head()"
   ]
  },
  {
   "cell_type": "code",
   "execution_count": 25,
   "metadata": {},
   "outputs": [
    {
     "name": "stdout",
     "output_type": "stream",
     "text": [
      "2469\n",
      "2469\n",
      "[2022. 2021. 2015. 2005. 2020. 2002. 2017. 2016. 2018. 2012. 2014. 2019.\n",
      " 2009. 2013. 2001. 1997. 2004. 2008. 2000. 2010. 2007. 2011. 2006. 2003.\n",
      " 1990. 1995. 1993. 1987. 1996. 1986. 1999. 1975. 1998. 1994. 1991. 1989.\n",
      " 1992. 1985. 1988. 1984. 1979. 1974. 1981. 1982. 1983. 1980. 1970. 1971.\n",
      " 1977.   nan]\n",
      "2469\n",
      "[ 2.  7. 11.  4.  1.  8. 12.  9.  3.  5. 10.  6. nan]\n",
      "birth_year            0\n",
      "entertime             0\n",
      "company_enter_year    0\n",
      "dtype: int64\n"
     ]
    },
    {
     "data": {
      "text/plain": [
       "0"
      ]
     },
     "execution_count": 25,
     "metadata": {},
     "output_type": "execute_result"
    }
   ],
   "source": [
    "## 유직인 경우 company_enter_year NA -birth_year별로 입사까지 걸린 시간\n",
    "print(ujic[\"company_enter_month\"].isna().sum()) #2733건 \n",
    "\n",
    "#company_enter_year, company_enter_onlymonth 변수 생성\n",
    "#company_enter_year\n",
    "ujic['company_enter_year']=ujic['company_enter_month'].apply(str).str[0:4].apply(float)\n",
    "ujic['company_enter_year']\n",
    "print(ujic[\"company_enter_year\"].isna().sum())\n",
    "print(ujic[\"company_enter_year\"].unique())\n",
    "\n",
    "#company_enter_onlymonth\n",
    "ujic['company_enter_onlymonth']=ujic['company_enter_month'].apply(str).str[4:6]\n",
    "\n",
    "#빈칸이면 NA\n",
    "ujic['company_enter_onlymonth'].replace('', np.nan, inplace=True)\n",
    "ujic['company_enter_onlymonth']=ujic['company_enter_onlymonth'].apply(float)\n",
    "print(ujic[\"company_enter_onlymonth\"].isna().sum())\n",
    "print(ujic[\"company_enter_onlymonth\"].unique())\n",
    "\n",
    "ujic[\"entertime\"] = ujic[\"company_enter_year\"] - ujic[\"birth_year\"]\n",
    "\n",
    "enteryear_df=pd.DataFrame(ujic.groupby([\"birth_year\"])[\"entertime\"].median()).reset_index()\n",
    "enteryear_df[\"company_enter_year\"] = enteryear_df[\"birth_year\"]+enteryear_df[\"entertime\"]\n",
    "print(enteryear_df.isna().sum())\n",
    "\n",
    "\n",
    "\n",
    "ujic= pd.merge(ujic, enteryear_df, how=\"left\", on=[\"birth_year\"])\n",
    "\n",
    "#결측치이면 company_enter_year 대체\n",
    "ujic.company_enter_year_x.fillna(ujic.company_enter_year_y, inplace=True)\n",
    "# 불필요한 열 삭제 \n",
    "del ujic['entertime_x']\n",
    "del ujic['entertime_y']\n",
    "del ujic['company_enter_year_y']\n",
    "\n",
    "ujic=ujic.rename(columns={\"company_enter_year_x\":\"company_enter_year\"})\n",
    "\n",
    "ujic[\"company_enter_year\"].isna().sum()\n",
    "\n",
    "\n"
   ]
  },
  {
   "cell_type": "code",
   "execution_count": 26,
   "metadata": {},
   "outputs": [
    {
     "name": "stdout",
     "output_type": "stream",
     "text": [
      "    company_enter_year  company_enter_onlymonth\n",
      "43              2016.0                      1.0\n",
      "    company_enter_year  company_enter_onlymonth\n",
      "45              2018.0                      1.0\n",
      "    company_enter_year  company_enter_onlymonth\n",
      "46              2019.0                      1.0\n",
      "    company_enter_year  company_enter_onlymonth\n",
      "47              2020.0                      1.0\n",
      "    company_enter_year  company_enter_onlymonth\n",
      "48              2021.0                     12.0\n",
      "(2469,)\n",
      "(2469,)\n",
      "[2019. 2020. 2021. 2016. 2018.]\n",
      "[ 1. 12.]\n",
      "0\n",
      "0\n",
      "0\n"
     ]
    }
   ],
   "source": [
    "##### company_enter_onlymonth 처리 - company_enter_year별로 company_enter_onlymonth 최빈값\n",
    "pd.set_option(\"display.max_rows\",None)\n",
    "\n",
    "#company_enter_year별로 company_enter_onlymonth 최빈값\n",
    "month=pd.DataFrame(ujic.groupby(\"company_enter_year\")[\"company_enter_onlymonth\"].apply(pd.Series.mode)).reset_index()\n",
    "month=month[[\"company_enter_year\",\"company_enter_onlymonth\"]]\n",
    "ujic.loc[ujic[\"company_enter_onlymonth\"].isna(),\"company_enter_year\"].value_counts()\n",
    "\n",
    "\n",
    "print(month.loc[month[\"company_enter_year\"]==2016 ]) #1\n",
    "print(month.loc[month[\"company_enter_year\"]==2018 ]) #1\n",
    "print(month.loc[month[\"company_enter_year\"]==2019 ]) #1\n",
    "print(month.loc[month[\"company_enter_year\"]==2020 ]) #1\n",
    "print(month.loc[month[\"company_enter_year\"]==2021 ]) #12\n",
    "\n",
    "ujic.loc[(ujic[\"company_enter_onlymonth\"].isna())&(ujic[\"company_enter_year\"]==2016),\"company_enter_onlymonth\"]=1\n",
    "ujic.loc[(ujic[\"company_enter_onlymonth\"].isna())&(ujic[\"company_enter_year\"]==2018),\"company_enter_onlymonth\"]=1\n",
    "ujic.loc[(ujic[\"company_enter_onlymonth\"].isna())&(ujic[\"company_enter_year\"]==2019),\"company_enter_onlymonth\"]=1\n",
    "ujic.loc[(ujic[\"company_enter_onlymonth\"].isna())&(ujic[\"company_enter_year\"]==2020),\"company_enter_onlymonth\"]=1\n",
    "ujic.loc[(ujic[\"company_enter_onlymonth\"].isna())&(ujic[\"company_enter_year\"]==2021),\"company_enter_onlymonth\"]=12\n",
    "\n",
    "\n",
    "ujic.loc[(ujic[\"company_enter_onlymonth\"].isna())&(ujic[\"company_enter_year\"]==0),\"company_enter_onlymonth\"] = 0\n",
    "\n",
    "\n",
    "print(ujic.loc[(ujic[\"company_enter_month\"].isna()),\"company_enter_year\"].shape)\n",
    "print(ujic.loc[(ujic[\"company_enter_month\"].isna()),\"company_enter_onlymonth\"].shape)\n",
    "\n",
    "\n",
    "print(ujic.loc[(ujic[\"company_enter_month\"].isna()),\"company_enter_year\"].unique())\n",
    "print(ujic.loc[(ujic[\"company_enter_month\"].isna()),\"company_enter_onlymonth\"].unique())\n",
    "\n",
    "\n",
    "\n",
    "#company_enter_month = company_enter_year + company_enter_onlymonth\n",
    "\n",
    "ujic.loc[(ujic[\"company_enter_month\"].isna()),\"company_enter_month\"] = ujic.loc[(ujic[\"company_enter_month\"].isna()),\"company_enter_year\"]*100 +ujic.loc[(ujic[\"company_enter_month\"].isna()),\"company_enter_onlymonth\"] \n",
    "\n",
    "print(ujic[\"company_enter_month\"].isna().sum())\n",
    "print(ujic[\"company_enter_year\"].isna().sum())\n",
    "print(ujic[\"company_enter_onlymonth\"].isna().sum())"
   ]
  },
  {
   "cell_type": "code",
   "execution_count": 27,
   "metadata": {},
   "outputs": [
    {
     "name": "stdout",
     "output_type": "stream",
     "text": [
      "(302362, 28)\n",
      "(9961987, 27)\n",
      "(10264349, 29)\n",
      "(10264349, 25)\n"
     ]
    }
   ],
   "source": [
    "print(mujic.shape)\n",
    "print(ujic.shape)\n",
    "train2=pd.concat([mujic, ujic])\n",
    "print(train2.shape)\n",
    "\n",
    "\n",
    "# 불필요한 열 삭제 \n",
    "del train2['company_enter_onlymonth']\n",
    "del train2['working_year']\n",
    "del train2['company_enter_year']\n",
    "del train2['age']\n",
    "\n",
    "print(train2.shape)\n"
   ]
  },
  {
   "cell_type": "code",
   "execution_count": 28,
   "metadata": {
    "scrolled": true
   },
   "outputs": [
    {
     "data": {
      "text/html": [
       "<div>\n",
       "<style scoped>\n",
       "    .dataframe tbody tr th:only-of-type {\n",
       "        vertical-align: middle;\n",
       "    }\n",
       "\n",
       "    .dataframe tbody tr th {\n",
       "        vertical-align: top;\n",
       "    }\n",
       "\n",
       "    .dataframe thead th {\n",
       "        text-align: right;\n",
       "    }\n",
       "</style>\n",
       "<table border=\"1\" class=\"dataframe\">\n",
       "  <thead>\n",
       "    <tr style=\"text-align: right;\">\n",
       "      <th></th>\n",
       "      <th>application_id</th>\n",
       "      <th>loanapply_insert_time</th>\n",
       "      <th>bank_id</th>\n",
       "      <th>product_id</th>\n",
       "      <th>loan_limit</th>\n",
       "      <th>loan_rate</th>\n",
       "      <th>is_applied</th>\n",
       "      <th>user_id</th>\n",
       "      <th>birth_year</th>\n",
       "      <th>gender</th>\n",
       "      <th>...</th>\n",
       "      <th>employment_type</th>\n",
       "      <th>houseown_type</th>\n",
       "      <th>desired_amount</th>\n",
       "      <th>purpose</th>\n",
       "      <th>personal_rehabilitation_yn</th>\n",
       "      <th>personal_rehabilitation_complete_yn</th>\n",
       "      <th>existing_loan_cnt</th>\n",
       "      <th>existing_loan_amt</th>\n",
       "      <th>isna</th>\n",
       "      <th>isjob</th>\n",
       "    </tr>\n",
       "  </thead>\n",
       "  <tbody>\n",
       "    <tr>\n",
       "      <th>0</th>\n",
       "      <td>566528</td>\n",
       "      <td>2022-03-01 00:11:36</td>\n",
       "      <td>13</td>\n",
       "      <td>123</td>\n",
       "      <td>20000000.0</td>\n",
       "      <td>19.1</td>\n",
       "      <td>0.0</td>\n",
       "      <td>681184</td>\n",
       "      <td>1974.0</td>\n",
       "      <td>1.0</td>\n",
       "      <td>...</td>\n",
       "      <td>기타</td>\n",
       "      <td>전월세</td>\n",
       "      <td>1000000.0</td>\n",
       "      <td>LIVING</td>\n",
       "      <td>no_response</td>\n",
       "      <td>no_response</td>\n",
       "      <td>4.0</td>\n",
       "      <td>20000000.0</td>\n",
       "      <td>Na</td>\n",
       "      <td>0</td>\n",
       "    </tr>\n",
       "    <tr>\n",
       "      <th>1</th>\n",
       "      <td>38545</td>\n",
       "      <td>2022-03-01 00:14:15</td>\n",
       "      <td>55</td>\n",
       "      <td>12</td>\n",
       "      <td>27000000.0</td>\n",
       "      <td>16.4</td>\n",
       "      <td>0.0</td>\n",
       "      <td>477093</td>\n",
       "      <td>1971.0</td>\n",
       "      <td>0.0</td>\n",
       "      <td>...</td>\n",
       "      <td>기타</td>\n",
       "      <td>기타가족소유</td>\n",
       "      <td>4000000.0</td>\n",
       "      <td>LIVING</td>\n",
       "      <td>no_response</td>\n",
       "      <td>no_response</td>\n",
       "      <td>6.0</td>\n",
       "      <td>30000000.0</td>\n",
       "      <td>NotNa</td>\n",
       "      <td>0</td>\n",
       "    </tr>\n",
       "    <tr>\n",
       "      <th>2</th>\n",
       "      <td>182468</td>\n",
       "      <td>2022-03-01 00:15:52</td>\n",
       "      <td>55</td>\n",
       "      <td>12</td>\n",
       "      <td>20000000.0</td>\n",
       "      <td>13.0</td>\n",
       "      <td>0.0</td>\n",
       "      <td>92495</td>\n",
       "      <td>1980.0</td>\n",
       "      <td>0.0</td>\n",
       "      <td>...</td>\n",
       "      <td>기타</td>\n",
       "      <td>기타가족소유</td>\n",
       "      <td>30000000.0</td>\n",
       "      <td>SWITCHLOAN</td>\n",
       "      <td>no_response</td>\n",
       "      <td>no_response</td>\n",
       "      <td>3.0</td>\n",
       "      <td>27000000.0</td>\n",
       "      <td>Na</td>\n",
       "      <td>0</td>\n",
       "    </tr>\n",
       "    <tr>\n",
       "      <th>3</th>\n",
       "      <td>182468</td>\n",
       "      <td>2022-03-01 00:15:52</td>\n",
       "      <td>35</td>\n",
       "      <td>29</td>\n",
       "      <td>3000000.0</td>\n",
       "      <td>17.9</td>\n",
       "      <td>0.0</td>\n",
       "      <td>92495</td>\n",
       "      <td>1980.0</td>\n",
       "      <td>0.0</td>\n",
       "      <td>...</td>\n",
       "      <td>기타</td>\n",
       "      <td>기타가족소유</td>\n",
       "      <td>30000000.0</td>\n",
       "      <td>SWITCHLOAN</td>\n",
       "      <td>no_response</td>\n",
       "      <td>no_response</td>\n",
       "      <td>3.0</td>\n",
       "      <td>27000000.0</td>\n",
       "      <td>Na</td>\n",
       "      <td>0</td>\n",
       "    </tr>\n",
       "    <tr>\n",
       "      <th>4</th>\n",
       "      <td>182468</td>\n",
       "      <td>2022-03-01 00:15:52</td>\n",
       "      <td>29</td>\n",
       "      <td>265</td>\n",
       "      <td>13000000.0</td>\n",
       "      <td>8.0</td>\n",
       "      <td>1.0</td>\n",
       "      <td>92495</td>\n",
       "      <td>1980.0</td>\n",
       "      <td>0.0</td>\n",
       "      <td>...</td>\n",
       "      <td>기타</td>\n",
       "      <td>기타가족소유</td>\n",
       "      <td>30000000.0</td>\n",
       "      <td>SWITCHLOAN</td>\n",
       "      <td>no_response</td>\n",
       "      <td>no_response</td>\n",
       "      <td>3.0</td>\n",
       "      <td>27000000.0</td>\n",
       "      <td>Na</td>\n",
       "      <td>0</td>\n",
       "    </tr>\n",
       "  </tbody>\n",
       "</table>\n",
       "<p>5 rows × 25 columns</p>\n",
       "</div>"
      ],
      "text/plain": [
       "   application_id loanapply_insert_time  bank_id  product_id  loan_limit  \\\n",
       "0          566528   2022-03-01 00:11:36       13         123  20000000.0   \n",
       "1           38545   2022-03-01 00:14:15       55          12  27000000.0   \n",
       "2          182468   2022-03-01 00:15:52       55          12  20000000.0   \n",
       "3          182468   2022-03-01 00:15:52       35          29   3000000.0   \n",
       "4          182468   2022-03-01 00:15:52       29         265  13000000.0   \n",
       "\n",
       "   loan_rate  is_applied  user_id  birth_year  gender  ... employment_type  \\\n",
       "0       19.1         0.0   681184      1974.0     1.0  ...              기타   \n",
       "1       16.4         0.0   477093      1971.0     0.0  ...              기타   \n",
       "2       13.0         0.0    92495      1980.0     0.0  ...              기타   \n",
       "3       17.9         0.0    92495      1980.0     0.0  ...              기타   \n",
       "4        8.0         1.0    92495      1980.0     0.0  ...              기타   \n",
       "\n",
       "   houseown_type  desired_amount     purpose  personal_rehabilitation_yn  \\\n",
       "0            전월세       1000000.0      LIVING                 no_response   \n",
       "1         기타가족소유       4000000.0      LIVING                 no_response   \n",
       "2         기타가족소유      30000000.0  SWITCHLOAN                 no_response   \n",
       "3         기타가족소유      30000000.0  SWITCHLOAN                 no_response   \n",
       "4         기타가족소유      30000000.0  SWITCHLOAN                 no_response   \n",
       "\n",
       "  personal_rehabilitation_complete_yn existing_loan_cnt  existing_loan_amt  \\\n",
       "0                         no_response               4.0         20000000.0   \n",
       "1                         no_response               6.0         30000000.0   \n",
       "2                         no_response               3.0         27000000.0   \n",
       "3                         no_response               3.0         27000000.0   \n",
       "4                         no_response               3.0         27000000.0   \n",
       "\n",
       "    isna isjob  \n",
       "0     Na     0  \n",
       "1  NotNa     0  \n",
       "2     Na     0  \n",
       "3     Na     0  \n",
       "4     Na     0  \n",
       "\n",
       "[5 rows x 25 columns]"
      ]
     },
     "execution_count": 28,
     "metadata": {},
     "output_type": "execute_result"
    }
   ],
   "source": [
    "train2.head()"
   ]
  },
  {
   "cell_type": "markdown",
   "metadata": {
    "id": "Dladz8py9svO"
   },
   "source": [
    "### test "
   ]
  },
  {
   "cell_type": "code",
   "execution_count": 29,
   "metadata": {},
   "outputs": [
    {
     "name": "stdout",
     "output_type": "stream",
     "text": [
      "30815\n"
     ]
    },
    {
     "data": {
      "text/plain": [
       "array([ 1., nan,  6.,  2.,  4.,  5., 19., 10.,  3., 11., 14.,  8.,  7.,\n",
       "       24.,  9., 12., 17., 22., 13., 28., 15., 16., 27., 21., 23., 29.,\n",
       "       26., 20., 25., 18., 33., 37., 31., 30., 35., 41., 32., 52., 36.,\n",
       "       38., 34., 39., 42., 46., 43., 53., 40., 44., 51.])"
      ]
     },
     "execution_count": 29,
     "metadata": {},
     "output_type": "execute_result"
    }
   ],
   "source": [
    "print(test2['birth_year'].isna().sum()) #36453\n",
    "\n",
    "test2['company_enter_year']=test2['company_enter_month'].apply(str).str[0:4].apply(float)\n",
    "test2['company_enter_year'].unique()\n",
    "\n",
    "test2['age'] = 2022 - test2['birth_year'] +1\n",
    "test2['working_year'] = 2022 - test2['company_enter_year']+1\n",
    "\n",
    "test2['working_year'].unique() #123년 누구냐... 하...."
   ]
  },
  {
   "cell_type": "code",
   "execution_count": 30,
   "metadata": {},
   "outputs": [
    {
     "name": "stdout",
     "output_type": "stream",
     "text": [
      "80836\n"
     ]
    }
   ],
   "source": [
    "#company_enter_year\n",
    "test2['company_enter_month']= test2['company_enter_month'].apply(str).str[0:6].apply(float)\n",
    "test2['company_enter_month'].unique()\n",
    "print(test2['company_enter_month'].isna().sum())"
   ]
  },
  {
   "cell_type": "code",
   "execution_count": 31,
   "metadata": {},
   "outputs": [
    {
     "name": "stdout",
     "output_type": "stream",
     "text": [
      "(3255482, 28)\n",
      "(96545, 28)\n",
      "(3158937, 28)\n",
      "2871\n",
      "492\n"
     ]
    },
    {
     "name": "stderr",
     "output_type": "stream",
     "text": [
      "<ipython-input-31-1589b4955331>:14: SettingWithCopyWarning: \n",
      "A value is trying to be set on a copy of a slice from a DataFrame.\n",
      "Try using .loc[row_indexer,col_indexer] = value instead\n",
      "\n",
      "See the caveats in the documentation: https://pandas.pydata.org/pandas-docs/stable/user_guide/indexing.html#returning-a-view-versus-a-copy\n",
      "  mujic[\"company_enter_month\"]=0\n"
     ]
    }
   ],
   "source": [
    "# income_type & employment_type 모두 기타(OTHERINCOME 기타)인 경우 \"무직\"_ isjob\n",
    "\n",
    "test2[\"isjob\"]=1\n",
    "condition =(test2[\"income_type\"]==\"OTHERINCOME\") & (test2[\"employment_type\"]==\"기타\") \n",
    "test2.loc[condition,\"isjob\"]=0\n",
    "\n",
    "mujic = test2.loc[test2[\"isjob\"]==0,:]\n",
    "ujic=test2.loc[test2[\"isjob\"]==1,:]\n",
    "print(test2.shape)\n",
    "print(mujic.shape)\n",
    "print(ujic.shape)\n",
    "\n",
    "#무직이면 company_enter_month가 0\n",
    "mujic[\"company_enter_month\"]=0\n",
    "\n",
    "#무직인데 birth_year가 NA인 경우 -> 2871(492)\n",
    "print(mujic[\"birth_year\"].isna().sum())\n",
    "print(mujic[mujic[\"birth_year\"].isna()].user_id.nunique())\n",
    "\n",
    "#train에서 mean 1979\n",
    "#train에서 sd 12"
   ]
  },
  {
   "cell_type": "code",
   "execution_count": 32,
   "metadata": {},
   "outputs": [
    {
     "name": "stdout",
     "output_type": "stream",
     "text": [
      "492\n",
      "492\n"
     ]
    },
    {
     "data": {
      "text/plain": [
       "0"
      ]
     },
     "execution_count": 32,
     "metadata": {},
     "output_type": "execute_result"
    }
   ],
   "source": [
    "import random\n",
    "random.seed(34)\n",
    "birthyear=list(range(1979-2*12, 1979+2*12))\n",
    "birthyearlist= list(random.choice(birthyear) for i in range(492))\n",
    "useridlist=list(mujic.loc[mujic[\"birth_year\"].isna(),\"user_id\"].unique())\n",
    "\n",
    "print(len(birthyearlist))\n",
    "print(len(useridlist))\n",
    "\n",
    "diction= pd.DataFrame({\"birth_year2\": birthyearlist, \"user_id\": useridlist})\n",
    "\n",
    "mujic = pd.merge(mujic, diction,how=\"left\", on=\"user_id\")\n",
    "mujic.head()\n",
    "\n",
    "# 결측치이면 birth_year2로 대체\n",
    "mujic[\"birth_year\"].fillna(mujic[\"birth_year2\"], inplace=True)\n",
    "\n",
    "# 불필요한 열 삭제 \n",
    "del mujic['birth_year2']\n",
    "\n",
    "mujic[\"birth_year\"].isna().sum()"
   ]
  },
  {
   "cell_type": "code",
   "execution_count": 33,
   "metadata": {},
   "outputs": [
    {
     "name": "stdout",
     "output_type": "stream",
     "text": [
      "27944\n",
      "1141\n"
     ]
    },
    {
     "name": "stderr",
     "output_type": "stream",
     "text": [
      "<ipython-input-33-96d6d1c5b421>:8: SettingWithCopyWarning: \n",
      "A value is trying to be set on a copy of a slice from a DataFrame.\n",
      "Try using .loc[row_indexer,col_indexer] = value instead\n",
      "\n",
      "See the caveats in the documentation: https://pandas.pydata.org/pandas-docs/stable/user_guide/indexing.html#returning-a-view-versus-a-copy\n",
      "  ujic['company_enter_year']=ujic['company_enter_month'].apply(str).str[0:4].apply(float)\n",
      "<ipython-input-33-96d6d1c5b421>:11: SettingWithCopyWarning: \n",
      "A value is trying to be set on a copy of a slice from a DataFrame.\n",
      "Try using .loc[row_indexer,col_indexer] = value instead\n",
      "\n",
      "See the caveats in the documentation: https://pandas.pydata.org/pandas-docs/stable/user_guide/indexing.html#returning-a-view-versus-a-copy\n",
      "  ujic['age'] = 2022 - ujic['birth_year'] +1\n",
      "<ipython-input-33-96d6d1c5b421>:12: SettingWithCopyWarning: \n",
      "A value is trying to be set on a copy of a slice from a DataFrame.\n",
      "Try using .loc[row_indexer,col_indexer] = value instead\n",
      "\n",
      "See the caveats in the documentation: https://pandas.pydata.org/pandas-docs/stable/user_guide/indexing.html#returning-a-view-versus-a-copy\n",
      "  ujic['working_year'] = 2022 - ujic['company_enter_year']+1\n"
     ]
    },
    {
     "data": {
      "text/plain": [
       "0"
      ]
     },
     "execution_count": 33,
     "metadata": {},
     "output_type": "execute_result"
    }
   ],
   "source": [
    "#유직인 경우 -27944(1141 )\n",
    "print(ujic['birth_year'].isna().sum()) \n",
    "print(ujic[ujic[\"birth_year\"].isna()].user_id.nunique())\n",
    "# outlier 제거\n",
    "\n",
    "# outlier제거를 위한 변수 만들기\n",
    "#입사연월에서 연도만 뺀 변수 만들기\n",
    "ujic['company_enter_year']=ujic['company_enter_month'].apply(str).str[0:4].apply(float)\n",
    "ujic['company_enter_year']\n",
    "\n",
    "ujic['age'] = 2022 - ujic['birth_year'] +1\n",
    "ujic['working_year'] = 2022 - ujic['company_enter_year']+1\n",
    "\n",
    "\n",
    "ujic.loc[(ujic['age']-ujic['working_year'])<=0].shape #태어나기도 전에 일한사람? 0명\n",
    "ujic.loc[(ujic['age']-ujic['working_year'])<=0].user_id.nunique()"
   ]
  },
  {
   "cell_type": "code",
   "execution_count": 34,
   "metadata": {},
   "outputs": [],
   "source": [
    "#나이가 근속기간보다 많으면 company_enter_month  NA 처리  : \n",
    "\n",
    "#ujic.loc[(ujic['age']-ujic['working_year'])<=0, \"birth_year\"]=np.nan\n",
    "ujic.loc[(ujic['age']-ujic['working_year'])<=0, \"company_enter_month\"]=np.nan\n",
    "\n",
    "del ujic['working_year']\n",
    "del ujic['age']\n",
    "\n"
   ]
  },
  {
   "cell_type": "code",
   "execution_count": 35,
   "metadata": {},
   "outputs": [
    {
     "name": "stdout",
     "output_type": "stream",
     "text": [
      "27944\n",
      "(0, 26)\n",
      "(27944, 26)\n",
      "(890, 26)\n",
      "(3130103, 26)\n",
      "(3158047, 26)\n",
      "(890, 26)\n",
      "company_enter_year    0\n",
      "entertime             0\n",
      "birth_year            0\n",
      "dtype: int64\n",
      "(3158047, 26)\n",
      "(3158047, 28)\n",
      "7\n",
      "7\n"
     ]
    }
   ],
   "source": [
    "#1) 유직인 경우 birth_year NA & company_enter_month가 NA : \n",
    "#2) 유직인 경우 birth_year NA & company_enter_month가 존재 : **이게 문제였었다 \n",
    "#3) 유직인 경우 birth_year 존재 & company_enter_month가 NA : -> 나중에 \n",
    "print(ujic['birth_year'].isna().sum()) #34142\n",
    "\n",
    "print(ujic.loc[(ujic[\"birth_year\"].isna())&(ujic[\"company_enter_month\"].isna()),:].shape) #0\n",
    "print(ujic.loc[(ujic[\"birth_year\"].isna())&(ujic[\"company_enter_month\"].notna()),:].shape) #34142\n",
    "print(ujic.loc[(ujic[\"birth_year\"].notna())&(ujic[\"company_enter_month\"].isna()),:].shape) # 166\n",
    "print(ujic.loc[(ujic[\"birth_year\"].notna())&(ujic[\"company_enter_month\"].notna()),:].shape) #3124629\n",
    "\n",
    "\n",
    "#1) 유직인 경우 birth_year NA & company_enter_month가 존재 :\n",
    "######company_enter_year -birth year별로 태어난 후, 직장을 가질때까지 기간의 median \n",
    "\n",
    "#birth_year + employee_type별 입사까지 걸린 시간 : enter_time\n",
    "ujic1= ujic[ujic[\"company_enter_month\"].notna()] \n",
    "ujic2= ujic[ujic[\"company_enter_month\"].isna()]\n",
    "print(ujic1.shape) #3158771\n",
    "print(ujic2.shape) #166\n",
    "\n",
    "#birthyear_df: train에서 생성한 것 \n",
    "print(birthyear_df.isna().sum())\n",
    "\n",
    "\n",
    "print(ujic1.shape)\n",
    "ujic1= pd.merge(ujic1, birthyear_df, how=\"left\", on=[\"company_enter_year\"])\n",
    "print(ujic1.shape)\n",
    "\n",
    "#결측치 처리\n",
    "print(ujic1.birth_year_y.isna().sum())\n",
    "ujic1[\"birth_year_x\"].fillna(ujic1[\"birth_year_y\"], inplace=True)\n",
    "\n",
    "\n",
    "# 불필요한 열 삭제 \n",
    "del ujic1['entertime']\n",
    "del ujic1['birth_year_y']\n",
    "\n",
    "ujic1.rename(columns={\"birth_year_x\": \"birth_year\"}, inplace=True)\n",
    "\n",
    "print(ujic1.birth_year.isna().sum())"
   ]
  },
  {
   "cell_type": "code",
   "execution_count": 36,
   "metadata": {},
   "outputs": [
    {
     "name": "stdout",
     "output_type": "stream",
     "text": [
      "1960.9569892473119\n"
     ]
    }
   ],
   "source": [
    "#ujic1.loc[ujic1['birth_year'].isna()] #1972 입사\n",
    "print((ujic1.loc[ujic1['company_enter_year']==1970,'birth_year'].mean()+\n",
    "      ujic1.loc[ujic1['company_enter_year']==1971,'birth_year'].mean()+ \n",
    "      ujic1.loc[ujic1['company_enter_year']==1977,'birth_year'].mean()+\n",
    "      ujic1.loc[ujic1['company_enter_year']==1979,'birth_year'].mean())/4)"
   ]
  },
  {
   "cell_type": "code",
   "execution_count": 37,
   "metadata": {},
   "outputs": [
    {
     "name": "stdout",
     "output_type": "stream",
     "text": [
      "0\n"
     ]
    }
   ],
   "source": [
    "ujic1[\"birth_year\"].fillna(1960.0, inplace=True) # #1972.0입사  -> birthyear를 1960\n",
    "\n",
    "print(ujic1[\"birth_year\"].isna().sum())"
   ]
  },
  {
   "cell_type": "code",
   "execution_count": 38,
   "metadata": {},
   "outputs": [
    {
     "name": "stdout",
     "output_type": "stream",
     "text": [
      "0\n",
      "0\n",
      "(3158047, 26)\n",
      "(890, 26)\n",
      "(3158937, 26)\n",
      "application_id                               0\n",
      "loanapply_insert_time                        0\n",
      "bank_id                                      0\n",
      "product_id                                   0\n",
      "loan_limit                                   0\n",
      "loan_rate                                    0\n",
      "is_applied                             3158937\n",
      "user_id                                      0\n",
      "birth_year                                   0\n",
      "gender                                   27944\n",
      "insert_time                                  0\n",
      "credit_score                            255665\n",
      "yearly_income                                0\n",
      "income_type                                  0\n",
      "company_enter_month                        890\n",
      "employment_type                              0\n",
      "houseown_type                                0\n",
      "desired_amount                               0\n",
      "purpose                                      0\n",
      "personal_rehabilitation_yn                   0\n",
      "personal_rehabilitation_complete_yn          0\n",
      "existing_loan_cnt                       518565\n",
      "existing_loan_amt                            0\n",
      "company_enter_year                         890\n",
      "isna                                         0\n",
      "isjob                                        0\n",
      "dtype: int64\n",
      "application_id                             0\n",
      "loanapply_insert_time                      0\n",
      "bank_id                                    0\n",
      "product_id                                 0\n",
      "loan_limit                                 0\n",
      "loan_rate                                  0\n",
      "is_applied                             96545\n",
      "user_id                                    0\n",
      "birth_year                                 0\n",
      "gender                                  2871\n",
      "insert_time                                0\n",
      "credit_score                            9656\n",
      "yearly_income                              6\n",
      "income_type                                0\n",
      "company_enter_month                        0\n",
      "employment_type                            0\n",
      "houseown_type                              0\n",
      "desired_amount                             0\n",
      "purpose                                    0\n",
      "personal_rehabilitation_yn                 0\n",
      "personal_rehabilitation_complete_yn        0\n",
      "existing_loan_cnt                      23108\n",
      "existing_loan_amt                          0\n",
      "company_enter_year                     79946\n",
      "isna                                       0\n",
      "age                                     2871\n",
      "working_year                           79946\n",
      "isjob                                      0\n",
      "dtype: int64\n"
     ]
    }
   ],
   "source": [
    "#2) company_enter_month가 na인 경우 birth_year 처리 -random \n",
    "\n",
    "# train에서 만든 birthyear_mean, birthyear_sd 생성 \n",
    "print(ujic2[\"birth_year\"].isna().sum()) #0 \n",
    "print(ujic2[ujic2[\"birth_year\"].isna()].user_id.nunique()) #0\n",
    "\n",
    "\n",
    "#유직 합치기 \n",
    "print(ujic1.shape)\n",
    "print(ujic2.shape)\n",
    "ujic=pd.concat([ujic1, ujic2])\n",
    "print(ujic.shape)\n",
    "\n",
    "#결측치 확인 \n",
    "print(ujic.isna().sum()) #company_enter_month  \n",
    "print(mujic.isna().sum())"
   ]
  },
  {
   "cell_type": "code",
   "execution_count": 39,
   "metadata": {},
   "outputs": [
    {
     "data": {
      "text/html": [
       "<div>\n",
       "<style scoped>\n",
       "    .dataframe tbody tr th:only-of-type {\n",
       "        vertical-align: middle;\n",
       "    }\n",
       "\n",
       "    .dataframe tbody tr th {\n",
       "        vertical-align: top;\n",
       "    }\n",
       "\n",
       "    .dataframe thead th {\n",
       "        text-align: right;\n",
       "    }\n",
       "</style>\n",
       "<table border=\"1\" class=\"dataframe\">\n",
       "  <thead>\n",
       "    <tr style=\"text-align: right;\">\n",
       "      <th></th>\n",
       "      <th>application_id</th>\n",
       "      <th>loanapply_insert_time</th>\n",
       "      <th>bank_id</th>\n",
       "      <th>product_id</th>\n",
       "      <th>loan_limit</th>\n",
       "      <th>loan_rate</th>\n",
       "      <th>is_applied</th>\n",
       "      <th>user_id</th>\n",
       "      <th>birth_year</th>\n",
       "      <th>gender</th>\n",
       "      <th>...</th>\n",
       "      <th>purpose</th>\n",
       "      <th>personal_rehabilitation_yn</th>\n",
       "      <th>personal_rehabilitation_complete_yn</th>\n",
       "      <th>existing_loan_cnt</th>\n",
       "      <th>existing_loan_amt</th>\n",
       "      <th>company_enter_year</th>\n",
       "      <th>isna</th>\n",
       "      <th>isjob</th>\n",
       "      <th>age</th>\n",
       "      <th>working_year</th>\n",
       "    </tr>\n",
       "  </thead>\n",
       "  <tbody>\n",
       "  </tbody>\n",
       "</table>\n",
       "<p>0 rows × 28 columns</p>\n",
       "</div>"
      ],
      "text/plain": [
       "Empty DataFrame\n",
       "Columns: [application_id, loanapply_insert_time, bank_id, product_id, loan_limit, loan_rate, is_applied, user_id, birth_year, gender, insert_time, credit_score, yearly_income, income_type, company_enter_month, employment_type, houseown_type, desired_amount, purpose, personal_rehabilitation_yn, personal_rehabilitation_complete_yn, existing_loan_cnt, existing_loan_amt, company_enter_year, isna, isjob, age, working_year]\n",
       "Index: []\n",
       "\n",
       "[0 rows x 28 columns]"
      ]
     },
     "execution_count": 39,
     "metadata": {},
     "output_type": "execute_result"
    }
   ],
   "source": [
    "#한번 더 checking! \n",
    "ujic['company_enter_year']=ujic['company_enter_month'].apply(str).str[0:4].apply(float)\n",
    "ujic['company_enter_year']\n",
    "\n",
    "ujic['age'] = 2022 - ujic['birth_year'] +1\n",
    "ujic['working_year'] = 2022 - ujic['company_enter_year']+1\n",
    "\n",
    "\n",
    "ujic.loc[(ujic['age']-ujic['working_year'])<=0]\n",
    "\n"
   ]
  },
  {
   "cell_type": "code",
   "execution_count": 40,
   "metadata": {},
   "outputs": [
    {
     "data": {
      "text/html": [
       "<div>\n",
       "<style scoped>\n",
       "    .dataframe tbody tr th:only-of-type {\n",
       "        vertical-align: middle;\n",
       "    }\n",
       "\n",
       "    .dataframe tbody tr th {\n",
       "        vertical-align: top;\n",
       "    }\n",
       "\n",
       "    .dataframe thead th {\n",
       "        text-align: right;\n",
       "    }\n",
       "</style>\n",
       "<table border=\"1\" class=\"dataframe\">\n",
       "  <thead>\n",
       "    <tr style=\"text-align: right;\">\n",
       "      <th></th>\n",
       "      <th>application_id</th>\n",
       "      <th>loanapply_insert_time</th>\n",
       "      <th>bank_id</th>\n",
       "      <th>product_id</th>\n",
       "      <th>loan_limit</th>\n",
       "      <th>loan_rate</th>\n",
       "      <th>is_applied</th>\n",
       "      <th>user_id</th>\n",
       "      <th>birth_year</th>\n",
       "      <th>gender</th>\n",
       "      <th>...</th>\n",
       "      <th>employment_type</th>\n",
       "      <th>houseown_type</th>\n",
       "      <th>desired_amount</th>\n",
       "      <th>purpose</th>\n",
       "      <th>personal_rehabilitation_yn</th>\n",
       "      <th>personal_rehabilitation_complete_yn</th>\n",
       "      <th>existing_loan_cnt</th>\n",
       "      <th>existing_loan_amt</th>\n",
       "      <th>isna</th>\n",
       "      <th>isjob</th>\n",
       "    </tr>\n",
       "  </thead>\n",
       "  <tbody>\n",
       "    <tr>\n",
       "      <th>0</th>\n",
       "      <td>506292</td>\n",
       "      <td>2022-06-01 00:12:24</td>\n",
       "      <td>27</td>\n",
       "      <td>148</td>\n",
       "      <td>13000000.0</td>\n",
       "      <td>7.2</td>\n",
       "      <td>NaN</td>\n",
       "      <td>669202</td>\n",
       "      <td>1981.0</td>\n",
       "      <td>1.0</td>\n",
       "      <td>...</td>\n",
       "      <td>정규직</td>\n",
       "      <td>기타가족소유</td>\n",
       "      <td>16000000.0</td>\n",
       "      <td>LIVING</td>\n",
       "      <td>0.0</td>\n",
       "      <td>no_rehabilitation</td>\n",
       "      <td>1.0</td>\n",
       "      <td>6.299001e+07</td>\n",
       "      <td>NotNa</td>\n",
       "      <td>1</td>\n",
       "    </tr>\n",
       "    <tr>\n",
       "      <th>1</th>\n",
       "      <td>506292</td>\n",
       "      <td>2022-06-01 00:12:24</td>\n",
       "      <td>19</td>\n",
       "      <td>231</td>\n",
       "      <td>24000000.0</td>\n",
       "      <td>15.6</td>\n",
       "      <td>NaN</td>\n",
       "      <td>669202</td>\n",
       "      <td>1981.0</td>\n",
       "      <td>1.0</td>\n",
       "      <td>...</td>\n",
       "      <td>정규직</td>\n",
       "      <td>기타가족소유</td>\n",
       "      <td>16000000.0</td>\n",
       "      <td>LIVING</td>\n",
       "      <td>0.0</td>\n",
       "      <td>no_rehabilitation</td>\n",
       "      <td>1.0</td>\n",
       "      <td>6.299001e+07</td>\n",
       "      <td>NotNa</td>\n",
       "      <td>1</td>\n",
       "    </tr>\n",
       "    <tr>\n",
       "      <th>2</th>\n",
       "      <td>506292</td>\n",
       "      <td>2022-06-01 00:12:24</td>\n",
       "      <td>59</td>\n",
       "      <td>251</td>\n",
       "      <td>11000000.0</td>\n",
       "      <td>6.8</td>\n",
       "      <td>NaN</td>\n",
       "      <td>669202</td>\n",
       "      <td>1981.0</td>\n",
       "      <td>1.0</td>\n",
       "      <td>...</td>\n",
       "      <td>정규직</td>\n",
       "      <td>기타가족소유</td>\n",
       "      <td>16000000.0</td>\n",
       "      <td>LIVING</td>\n",
       "      <td>0.0</td>\n",
       "      <td>no_rehabilitation</td>\n",
       "      <td>1.0</td>\n",
       "      <td>6.299001e+07</td>\n",
       "      <td>NotNa</td>\n",
       "      <td>1</td>\n",
       "    </tr>\n",
       "    <tr>\n",
       "      <th>3</th>\n",
       "      <td>506292</td>\n",
       "      <td>2022-06-01 00:12:25</td>\n",
       "      <td>56</td>\n",
       "      <td>5</td>\n",
       "      <td>2000000.0</td>\n",
       "      <td>18.5</td>\n",
       "      <td>NaN</td>\n",
       "      <td>669202</td>\n",
       "      <td>1981.0</td>\n",
       "      <td>1.0</td>\n",
       "      <td>...</td>\n",
       "      <td>정규직</td>\n",
       "      <td>기타가족소유</td>\n",
       "      <td>16000000.0</td>\n",
       "      <td>LIVING</td>\n",
       "      <td>0.0</td>\n",
       "      <td>no_rehabilitation</td>\n",
       "      <td>1.0</td>\n",
       "      <td>6.299001e+07</td>\n",
       "      <td>NotNa</td>\n",
       "      <td>1</td>\n",
       "    </tr>\n",
       "    <tr>\n",
       "      <th>4</th>\n",
       "      <td>506292</td>\n",
       "      <td>2022-06-01 00:12:34</td>\n",
       "      <td>19</td>\n",
       "      <td>127</td>\n",
       "      <td>13000000.0</td>\n",
       "      <td>9.5</td>\n",
       "      <td>NaN</td>\n",
       "      <td>669202</td>\n",
       "      <td>1981.0</td>\n",
       "      <td>1.0</td>\n",
       "      <td>...</td>\n",
       "      <td>정규직</td>\n",
       "      <td>기타가족소유</td>\n",
       "      <td>16000000.0</td>\n",
       "      <td>LIVING</td>\n",
       "      <td>0.0</td>\n",
       "      <td>no_rehabilitation</td>\n",
       "      <td>1.0</td>\n",
       "      <td>6.299001e+07</td>\n",
       "      <td>NotNa</td>\n",
       "      <td>1</td>\n",
       "    </tr>\n",
       "  </tbody>\n",
       "</table>\n",
       "<p>5 rows × 25 columns</p>\n",
       "</div>"
      ],
      "text/plain": [
       "   application_id loanapply_insert_time  bank_id  product_id  loan_limit  \\\n",
       "0          506292   2022-06-01 00:12:24       27         148  13000000.0   \n",
       "1          506292   2022-06-01 00:12:24       19         231  24000000.0   \n",
       "2          506292   2022-06-01 00:12:24       59         251  11000000.0   \n",
       "3          506292   2022-06-01 00:12:25       56           5   2000000.0   \n",
       "4          506292   2022-06-01 00:12:34       19         127  13000000.0   \n",
       "\n",
       "   loan_rate  is_applied  user_id  birth_year  gender  ... employment_type  \\\n",
       "0        7.2         NaN   669202      1981.0     1.0  ...             정규직   \n",
       "1       15.6         NaN   669202      1981.0     1.0  ...             정규직   \n",
       "2        6.8         NaN   669202      1981.0     1.0  ...             정규직   \n",
       "3       18.5         NaN   669202      1981.0     1.0  ...             정규직   \n",
       "4        9.5         NaN   669202      1981.0     1.0  ...             정규직   \n",
       "\n",
       "   houseown_type  desired_amount purpose  personal_rehabilitation_yn  \\\n",
       "0         기타가족소유      16000000.0  LIVING                         0.0   \n",
       "1         기타가족소유      16000000.0  LIVING                         0.0   \n",
       "2         기타가족소유      16000000.0  LIVING                         0.0   \n",
       "3         기타가족소유      16000000.0  LIVING                         0.0   \n",
       "4         기타가족소유      16000000.0  LIVING                         0.0   \n",
       "\n",
       "  personal_rehabilitation_complete_yn existing_loan_cnt  existing_loan_amt  \\\n",
       "0                   no_rehabilitation               1.0       6.299001e+07   \n",
       "1                   no_rehabilitation               1.0       6.299001e+07   \n",
       "2                   no_rehabilitation               1.0       6.299001e+07   \n",
       "3                   no_rehabilitation               1.0       6.299001e+07   \n",
       "4                   no_rehabilitation               1.0       6.299001e+07   \n",
       "\n",
       "    isna isjob  \n",
       "0  NotNa     1  \n",
       "1  NotNa     1  \n",
       "2  NotNa     1  \n",
       "3  NotNa     1  \n",
       "4  NotNa     1  \n",
       "\n",
       "[5 rows x 25 columns]"
      ]
     },
     "execution_count": 40,
     "metadata": {},
     "output_type": "execute_result"
    }
   ],
   "source": [
    "ujic.drop(['company_enter_year','working_year','age'],axis=1, inplace=True)\n",
    "ujic.head()"
   ]
  },
  {
   "cell_type": "code",
   "execution_count": 41,
   "metadata": {
    "scrolled": true
   },
   "outputs": [
    {
     "name": "stdout",
     "output_type": "stream",
     "text": [
      "890\n",
      "890\n",
      "[2022. 2017. 2021. 2019. 2018. 2004. 2013. 2020. 2012. 2009. 2015. 1999.\n",
      " 2016. 2014. 2011. 2006. 2001. 2010. 1995. 2008. 2007. 1996. 2002. 2000.\n",
      " 1994. 1997. 2003. 1998. 2005. 1990. 1986. 1992. 1993. 1988. 1982. 1991.\n",
      " 1971. 1987. 1985. 1989. 1984. 1981. 1977. 1980. 1970. 1983. 1979. 1972.\n",
      "   nan]\n",
      "890\n",
      "[ 1. 10.  3.  8.  7.  9.  2.  5. 12.  4. 11.  6. nan]\n",
      "birth_year            0\n",
      "entertime             0\n",
      "company_enter_year    0\n",
      "dtype: int64\n"
     ]
    },
    {
     "data": {
      "text/plain": [
       "0"
      ]
     },
     "execution_count": 41,
     "metadata": {},
     "output_type": "execute_result"
    }
   ],
   "source": [
    "## 유직인 경우 company_enter_year NA -birth_year + employee_type별 입사까지 걸린 시간\n",
    "print(ujic[\"company_enter_month\"].isna().sum()) #2733건 \n",
    "\n",
    "#company_enter_year, company_enter_onlymonth 변수 생성\n",
    "#company_enter_year\n",
    "ujic['company_enter_year']=ujic['company_enter_month'].apply(str).str[0:4].apply(float)\n",
    "ujic['company_enter_year']\n",
    "print(ujic[\"company_enter_year\"].isna().sum())\n",
    "print(ujic[\"company_enter_year\"].unique())\n",
    "\n",
    "#company_enter_onlymonth\n",
    "ujic['company_enter_onlymonth']=ujic['company_enter_month'].apply(str).str[4:6]\n",
    "#빈칸이면 NA\n",
    "ujic['company_enter_onlymonth'].replace('', np.nan, inplace=True)\n",
    "ujic['company_enter_onlymonth']=ujic['company_enter_onlymonth'].apply(float)\n",
    "print(ujic[\"company_enter_onlymonth\"].isna().sum())\n",
    "print(ujic[\"company_enter_onlymonth\"].unique())\n",
    "\n",
    "ujic[\"entertime\"] = ujic[\"company_enter_year\"] - ujic[\"birth_year\"]\n",
    "\n",
    "\n",
    "\n",
    "print(enteryear_df.isna().sum())\n",
    "\n",
    "\n",
    "\n",
    "ujic= pd.merge(ujic, enteryear_df, how=\"left\", on=[\"birth_year\"])\n",
    "\n",
    "#결측치이면 company_enter_year 대체\n",
    "ujic.company_enter_year_x.fillna(ujic.company_enter_year_y, inplace=True)\n",
    "# 불필요한 열 삭제 \n",
    "del ujic['entertime_x']\n",
    "del ujic['entertime_y']\n",
    "del ujic['company_enter_year_y']\n",
    "\n",
    "ujic=ujic.rename(columns={\"company_enter_year_x\":\"company_enter_year\"})\n",
    "\n",
    "ujic[\"company_enter_year\"].isna().sum()\n",
    "\n",
    "\n",
    "\n"
   ]
  },
  {
   "cell_type": "code",
   "execution_count": 42,
   "metadata": {},
   "outputs": [
    {
     "name": "stdout",
     "output_type": "stream",
     "text": [
      "2019.0    327\n",
      "2021.0    300\n",
      "2020.0    263\n",
      "Name: company_enter_year, dtype: int64\n",
      "    company_enter_year  company_enter_onlymonth\n",
      "46              2019.0                      1.0\n",
      "    company_enter_year  company_enter_onlymonth\n",
      "47              2020.0                      1.0\n",
      "    company_enter_year  company_enter_onlymonth\n",
      "48              2021.0                     12.0\n"
     ]
    }
   ],
   "source": [
    "print(ujic.loc[ujic[\"company_enter_onlymonth\"].isna(),\"company_enter_year\"].value_counts())\n",
    "print(month.loc[month[\"company_enter_year\"]==2019 ]) #1\n",
    "print(month.loc[month[\"company_enter_year\"]==2020 ]) #1\n",
    "print(month.loc[month[\"company_enter_year\"]==2021 ]) #12\n",
    "\n"
   ]
  },
  {
   "cell_type": "code",
   "execution_count": 43,
   "metadata": {},
   "outputs": [
    {
     "name": "stdout",
     "output_type": "stream",
     "text": [
      "2019.0    327\n",
      "2021.0    300\n",
      "2020.0    263\n",
      "Name: company_enter_year, dtype: int64\n",
      "    company_enter_year  company_enter_onlymonth\n",
      "46              2019.0                      1.0\n",
      "    company_enter_year  company_enter_onlymonth\n",
      "47              2020.0                      1.0\n",
      "    company_enter_year  company_enter_onlymonth\n",
      "48              2021.0                     12.0\n",
      "(890,)\n",
      "(890,)\n",
      "[2019. 2020. 2021.]\n",
      "[ 1. 12.]\n",
      "0\n",
      "0\n",
      "0\n"
     ]
    }
   ],
   "source": [
    "##### company_enter_onlymonth 처리 - company_enter_year별로 company_enter_onlymonth 최빈값\n",
    "\n",
    "\n",
    "#company_enter_year별로 company_enter_onlymonth 최빈값\n",
    "print(ujic.loc[ujic[\"company_enter_onlymonth\"].isna(),\"company_enter_year\"].value_counts())\n",
    "\n",
    "\n",
    "print(month.loc[month[\"company_enter_year\"]==2019 ]) #1\n",
    "print(month.loc[month[\"company_enter_year\"]==2020 ]) #1\n",
    "print(month.loc[month[\"company_enter_year\"]==2021 ]) #12\n",
    "\n",
    "\n",
    "ujic.loc[(ujic[\"company_enter_onlymonth\"].isna())&(ujic[\"company_enter_year\"]==2019),\"company_enter_onlymonth\"]=1\n",
    "ujic.loc[(ujic[\"company_enter_onlymonth\"].isna())&(ujic[\"company_enter_year\"]==2020),\"company_enter_onlymonth\"]=1\n",
    "ujic.loc[(ujic[\"company_enter_onlymonth\"].isna())&(ujic[\"company_enter_year\"]==2021),\"company_enter_onlymonth\"]=12\n",
    "\n",
    "ujic.loc[(ujic[\"company_enter_onlymonth\"].isna())&(ujic[\"company_enter_year\"]==0),\"company_enter_onlymonth\"] = 0\n",
    "\n",
    "\n",
    "print(ujic.loc[(ujic[\"company_enter_month\"].isna()),\"company_enter_year\"].shape)\n",
    "print(ujic.loc[(ujic[\"company_enter_month\"].isna()),\"company_enter_onlymonth\"].shape)\n",
    "\n",
    "\n",
    "print(ujic.loc[(ujic[\"company_enter_month\"].isna()),\"company_enter_year\"].unique())\n",
    "print(ujic.loc[(ujic[\"company_enter_month\"].isna()),\"company_enter_onlymonth\"].unique())\n",
    "\n",
    "\n",
    "\n",
    "#company_enter_month = company_enter_year + company_enter_onlymonth\n",
    "\n",
    "ujic.loc[(ujic[\"company_enter_month\"].isna()),\"company_enter_month\"] = ujic.loc[(ujic[\"company_enter_month\"].isna()),\"company_enter_year\"]*100 +ujic.loc[(ujic[\"company_enter_month\"].isna()),\"company_enter_onlymonth\"] \n",
    "\n",
    "print(ujic[\"company_enter_month\"].isna().sum())\n",
    "print(ujic[\"company_enter_year\"].isna().sum())\n",
    "print(ujic[\"company_enter_onlymonth\"].isna().sum())"
   ]
  },
  {
   "cell_type": "code",
   "execution_count": 44,
   "metadata": {},
   "outputs": [
    {
     "name": "stdout",
     "output_type": "stream",
     "text": [
      "(96545, 28)\n",
      "(3158937, 27)\n",
      "(3255482, 29)\n"
     ]
    }
   ],
   "source": [
    "print(mujic.shape)\n",
    "print(ujic.shape)\n",
    "test2=pd.concat([mujic, ujic])\n",
    "print(test2.shape)\n",
    "\n"
   ]
  },
  {
   "cell_type": "code",
   "execution_count": 45,
   "metadata": {},
   "outputs": [
    {
     "name": "stdout",
     "output_type": "stream",
     "text": [
      "(3255482, 25)\n"
     ]
    }
   ],
   "source": [
    "# 불필요한 열 삭제 \n",
    "del test2['company_enter_onlymonth']\n",
    "del test2['working_year']\n",
    "del test2['company_enter_year']\n",
    "del test2['age']\n",
    "\n",
    "print(test2.shape)\n",
    "\n"
   ]
  },
  {
   "cell_type": "code",
   "execution_count": 46,
   "metadata": {},
   "outputs": [
    {
     "name": "stdout",
     "output_type": "stream",
     "text": [
      "(0, 25)\n",
      "(0, 25)\n"
     ]
    }
   ],
   "source": [
    "print(train2.loc[(train2['birth_year'].isna()) | (train2['company_enter_month'].isna())].shape)\n",
    "print(test2.loc[(test2['birth_year'].isna()) | (test2['company_enter_month'].isna())].shape)"
   ]
  },
  {
   "cell_type": "markdown",
   "metadata": {
    "id": "0SVgszDsB38P"
   },
   "source": [
    "# gender "
   ]
  },
  {
   "cell_type": "markdown",
   "metadata": {
    "id": "GnmmKgche1OQ"
   },
   "source": [
    "### train "
   ]
  },
  {
   "cell_type": "code",
   "execution_count": 47,
   "metadata": {
    "colab": {
     "base_uri": "https://localhost:8080/"
    },
    "id": "GlUgTs0m_gtJ",
    "outputId": "9f3f8f8a-6b6b-4e74-af5c-d40b4b61a46d"
   },
   "outputs": [
    {
     "data": {
      "text/plain": [
       "76951"
      ]
     },
     "execution_count": 47,
     "metadata": {},
     "output_type": "execute_result"
    }
   ],
   "source": [
    "#최빈값으로 대체(:1(남성))\n",
    "\n",
    "train2[\"gender\"].isna().sum()"
   ]
  },
  {
   "cell_type": "code",
   "execution_count": 48,
   "metadata": {
    "colab": {
     "base_uri": "https://localhost:8080/"
    },
    "id": "K5tSGJuKe0qS",
    "outputId": "a75c309b-b963-4805-e1cf-212697cbf6b8"
   },
   "outputs": [
    {
     "data": {
      "text/plain": [
       "0"
      ]
     },
     "execution_count": 48,
     "metadata": {},
     "output_type": "execute_result"
    }
   ],
   "source": [
    "train2['gender'] = train2[\"gender\"].fillna(1)\n",
    "train2[\"gender\"].isna().sum()"
   ]
  },
  {
   "cell_type": "markdown",
   "metadata": {
    "id": "Wby7YJdstI3r"
   },
   "source": [
    "### test"
   ]
  },
  {
   "cell_type": "code",
   "execution_count": 49,
   "metadata": {
    "colab": {
     "base_uri": "https://localhost:8080/"
    },
    "id": "OWFix84ze_43",
    "outputId": "80544b79-13f4-4300-ceb9-9337da066b41"
   },
   "outputs": [
    {
     "data": {
      "text/plain": [
       "30815"
      ]
     },
     "execution_count": 49,
     "metadata": {},
     "output_type": "execute_result"
    }
   ],
   "source": [
    "test2[\"gender\"].isna().sum()"
   ]
  },
  {
   "cell_type": "code",
   "execution_count": 50,
   "metadata": {
    "colab": {
     "base_uri": "https://localhost:8080/"
    },
    "id": "MRg1YBFufHzB",
    "outputId": "be0394eb-2bd8-4010-b913-01b656d23df8"
   },
   "outputs": [
    {
     "data": {
      "text/plain": [
       "0"
      ]
     },
     "execution_count": 50,
     "metadata": {},
     "output_type": "execute_result"
    }
   ],
   "source": [
    "test2['gender'] = test2[\"gender\"].fillna(1)\n",
    "test2[\"gender\"].isna().sum()"
   ]
  },
  {
   "cell_type": "markdown",
   "metadata": {
    "id": "Vu6gOsjSkdRn"
   },
   "source": [
    "# existing_loan_cnt"
   ]
  },
  {
   "cell_type": "markdown",
   "metadata": {
    "id": "ymLDJnIjlMMe"
   },
   "source": [
    "### train"
   ]
  },
  {
   "cell_type": "code",
   "execution_count": 51,
   "metadata": {
    "colab": {
     "base_uri": "https://localhost:8080/"
    },
    "id": "dTrvBxoHlLWr",
    "outputId": "6c737c30-d0d2-480f-f4f2-a0f271523d0a"
   },
   "outputs": [
    {
     "name": "stdout",
     "output_type": "stream",
     "text": [
      "2143013\n",
      "0\n",
      "0.0      2143013\n",
      "1.0      2101627\n",
      "2.0      1395723\n",
      "3.0      1324776\n",
      "4.0      1010652\n",
      "5.0       735717\n",
      "6.0       505467\n",
      "7.0       330817\n",
      "8.0       226525\n",
      "9.0       153968\n",
      "10.0       92670\n",
      "11.0       69464\n",
      "12.0       45243\n",
      "13.0       34437\n",
      "14.0       21477\n",
      "15.0       16127\n",
      "16.0       13207\n",
      "17.0        8238\n",
      "18.0        5833\n",
      "20.0        4278\n",
      "19.0        3789\n",
      "21.0        3494\n",
      "22.0        2689\n",
      "24.0        2074\n",
      "23.0        1996\n",
      "25.0        1810\n",
      "26.0        1177\n",
      "29.0         917\n",
      "32.0         870\n",
      "28.0         723\n",
      "27.0         648\n",
      "33.0         553\n",
      "35.0         518\n",
      "31.0         500\n",
      "34.0         360\n",
      "44.0         245\n",
      "42.0         221\n",
      "30.0         171\n",
      "36.0         159\n",
      "61.0         138\n",
      "39.0         128\n",
      "37.0         128\n",
      "45.0         122\n",
      "48.0         104\n",
      "46.0          97\n",
      "38.0          85\n",
      "51.0          83\n",
      "54.0          82\n",
      "55.0          79\n",
      "47.0          75\n",
      "43.0          73\n",
      "50.0          70\n",
      "178.0         69\n",
      "40.0          60\n",
      "72.0          60\n",
      "75.0          59\n",
      "41.0          59\n",
      "60.0          58\n",
      "53.0          56\n",
      "156.0         55\n",
      "81.0          42\n",
      "89.0          41\n",
      "70.0          32\n",
      "52.0          31\n",
      "59.0          31\n",
      "79.0          31\n",
      "157.0         29\n",
      "117.0         23\n",
      "103.0         22\n",
      "63.0          22\n",
      "62.0          19\n",
      "97.0          16\n",
      "69.0          13\n",
      "109.0         12\n",
      "57.0          10\n",
      "107.0          8\n",
      "74.0           8\n",
      "58.0           6\n",
      "128.0          6\n",
      "73.0           6\n",
      "65.0           5\n",
      "67.0           5\n",
      "85.0           4\n",
      "106.0          4\n",
      "125.0          3\n",
      "56.0           3\n",
      "66.0           2\n",
      "76.0           2\n",
      "Name: existing_loan_cnt, dtype: int64\n"
     ]
    }
   ],
   "source": [
    "#기대출건수가 NA이면 기대출건수를 0으로 처리 \n",
    "print(train2[\"existing_loan_cnt\"].isna().sum())\n",
    "\n",
    "train2['existing_loan_cnt'] = train2[\"existing_loan_cnt\"].fillna(0.0)\n",
    "print(train2[\"existing_loan_cnt\"].isna().sum())\n",
    "print(train2[\"existing_loan_cnt\"].value_counts())"
   ]
  },
  {
   "cell_type": "markdown",
   "metadata": {
    "id": "iRWWAFNslOW5"
   },
   "source": [
    "### test"
   ]
  },
  {
   "cell_type": "code",
   "execution_count": 52,
   "metadata": {
    "colab": {
     "base_uri": "https://localhost:8080/"
    },
    "id": "xUYuSWQIlOzG",
    "outputId": "f6c49784-795a-4599-a943-fa87fd0bb735"
   },
   "outputs": [
    {
     "name": "stdout",
     "output_type": "stream",
     "text": [
      "541673\n",
      "0\n",
      "1.0      741470\n",
      "0.0      541673\n",
      "2.0      483800\n",
      "3.0      442095\n",
      "4.0      333796\n",
      "5.0      234155\n",
      "6.0      154031\n",
      "7.0      106249\n",
      "8.0       69864\n",
      "9.0       45025\n",
      "10.0      28481\n",
      "11.0      20057\n",
      "12.0      15141\n",
      "13.0       9927\n",
      "14.0       6727\n",
      "15.0       4835\n",
      "16.0       4280\n",
      "17.0       2335\n",
      "18.0       1821\n",
      "19.0       1633\n",
      "20.0       1215\n",
      "23.0        882\n",
      "21.0        860\n",
      "22.0        786\n",
      "24.0        631\n",
      "25.0        445\n",
      "28.0        387\n",
      "26.0        356\n",
      "29.0        327\n",
      "31.0        175\n",
      "33.0        170\n",
      "32.0        168\n",
      "34.0        158\n",
      "27.0        144\n",
      "36.0        134\n",
      "30.0        110\n",
      "35.0         99\n",
      "37.0         85\n",
      "44.0         79\n",
      "50.0         74\n",
      "86.0         63\n",
      "45.0         61\n",
      "43.0         56\n",
      "54.0         51\n",
      "89.0         44\n",
      "53.0         42\n",
      "42.0         38\n",
      "41.0         33\n",
      "72.0         33\n",
      "84.0         32\n",
      "156.0        31\n",
      "63.0         29\n",
      "47.0         28\n",
      "38.0         27\n",
      "40.0         22\n",
      "60.0         21\n",
      "57.0         19\n",
      "76.0         18\n",
      "39.0         18\n",
      "103.0        18\n",
      "48.0         16\n",
      "96.0         14\n",
      "49.0         14\n",
      "61.0         14\n",
      "85.0          9\n",
      "109.0         9\n",
      "51.0          7\n",
      "97.0          7\n",
      "58.0          6\n",
      "106.0         6\n",
      "66.0          5\n",
      "229.0         4\n",
      "46.0          4\n",
      "52.0          2\n",
      "69.0          1\n",
      "Name: existing_loan_cnt, dtype: int64\n"
     ]
    }
   ],
   "source": [
    "#기대출건수가 NA이면 기대출건수를 0으로 처리 \n",
    "print(test2[\"existing_loan_cnt\"].isna().sum())\n",
    "\n",
    "test2['existing_loan_cnt'] = test2[\"existing_loan_cnt\"].fillna(0)\n",
    "print(test2[\"existing_loan_cnt\"].isna().sum())\n",
    "print(test2[\"existing_loan_cnt\"].value_counts())"
   ]
  },
  {
   "cell_type": "markdown",
   "metadata": {
    "id": "asAZRu8Ep-vI"
   },
   "source": [
    "# existing_loan_amt"
   ]
  },
  {
   "cell_type": "markdown",
   "metadata": {
    "id": "KQXgPwT7qAwH"
   },
   "source": [
    "### train"
   ]
  },
  {
   "cell_type": "code",
   "execution_count": 53,
   "metadata": {
    "colab": {
     "base_uri": "https://localhost:8080/"
    },
    "id": "SZiM4sz6p4sa",
    "outputId": "4e1c2fee-5186-4845-d83a-7b62d857d233"
   },
   "outputs": [
    {
     "name": "stdout",
     "output_type": "stream",
     "text": [
      "0\n",
      "0\n",
      "Series([], Name: existing_loan_cnt, dtype: int64)\n"
     ]
    }
   ],
   "source": [
    "#기대출건수가 0이면 둘다 0으로 처리\n",
    "\n",
    "train2.loc[train2['existing_loan_cnt'] ==0, 'existing_loan_amt'] = 0\n",
    "print(train2.existing_loan_amt.isna().sum())\n",
    "print(train2.existing_loan_cnt.isna().sum())\n",
    "\n",
    "print(train2.loc[train2['existing_loan_amt'].isna(), 'existing_loan_cnt'].value_counts())\n"
   ]
  },
  {
   "cell_type": "code",
   "execution_count": 54,
   "metadata": {
    "colab": {
     "base_uri": "https://localhost:8080/"
    },
    "id": "Yccd0w2BqMIG",
    "outputId": "fda4e1e4-103c-4764-b976-1714e4bdc05c"
   },
   "outputs": [
    {
     "name": "stdout",
     "output_type": "stream",
     "text": [
      "62993195.566220835\n",
      "0\n",
      "0\n"
     ]
    }
   ],
   "source": [
    "#existing_loan_amt 대체하기\n",
    "\n",
    "print(train2['existing_loan_amt'].mean())\n",
    "\n",
    "\n",
    "train2.loc[train2['existing_loan_amt'] != train2['existing_loan_amt'], 'existing_loan_amt'] = 62993195.566220835\n",
    "\n",
    "print(train2['existing_loan_amt'].isna().sum())\n",
    "print(train2['existing_loan_cnt'].isna().sum())\n"
   ]
  },
  {
   "cell_type": "markdown",
   "metadata": {
    "id": "yEwIEG4wqJ-e"
   },
   "source": [
    "### test"
   ]
  },
  {
   "cell_type": "code",
   "execution_count": 55,
   "metadata": {
    "colab": {
     "base_uri": "https://localhost:8080/"
    },
    "id": "sZS2AjRoqLKV",
    "outputId": "3dbf9690-2aab-4152-de4a-f9f5dcdb8cb7"
   },
   "outputs": [
    {
     "name": "stdout",
     "output_type": "stream",
     "text": [
      "0\n",
      "0\n",
      "Series([], Name: existing_loan_cnt, dtype: int64)\n"
     ]
    }
   ],
   "source": [
    "#기대출건수가 0이면 둘다 0으로 처리\n",
    "\n",
    "test2.loc[test2['existing_loan_cnt'] ==0, 'existing_loan_amt'] = 0\n",
    "print(test2.existing_loan_amt.isna().sum())\n",
    "print(test2.existing_loan_cnt.isna().sum())\n",
    "\n",
    "print(test2.loc[test2['existing_loan_amt'].isna(), 'existing_loan_cnt'].value_counts())\n"
   ]
  },
  {
   "cell_type": "code",
   "execution_count": 56,
   "metadata": {
    "colab": {
     "base_uri": "https://localhost:8080/"
    },
    "id": "VNK-_EF8qLmF",
    "outputId": "aef5b2a3-0625-43b5-8755-984bc8f741ad"
   },
   "outputs": [
    {
     "name": "stdout",
     "output_type": "stream",
     "text": [
      "0\n",
      "0\n"
     ]
    }
   ],
   "source": [
    "#existing_loan_amt 대체하기\n",
    "\n",
    "test2.loc[test2['existing_loan_amt'] != test2['existing_loan_amt'], 'existing_loan_amt'] = 62993195.566220835\n",
    "\n",
    "print(test2['existing_loan_amt'].isna().sum())\n",
    "print(test2['existing_loan_cnt'].isna().sum())"
   ]
  },
  {
   "cell_type": "markdown",
   "metadata": {},
   "source": [
    "# yearly_income"
   ]
  },
  {
   "cell_type": "markdown",
   "metadata": {},
   "source": [
    "### test"
   ]
  },
  {
   "cell_type": "code",
   "execution_count": 57,
   "metadata": {},
   "outputs": [
    {
     "name": "stdout",
     "output_type": "stream",
     "text": [
      "0\n",
      "6\n"
     ]
    },
    {
     "data": {
      "text/html": [
       "<div>\n",
       "<style scoped>\n",
       "    .dataframe tbody tr th:only-of-type {\n",
       "        vertical-align: middle;\n",
       "    }\n",
       "\n",
       "    .dataframe tbody tr th {\n",
       "        vertical-align: top;\n",
       "    }\n",
       "\n",
       "    .dataframe thead th {\n",
       "        text-align: right;\n",
       "    }\n",
       "</style>\n",
       "<table border=\"1\" class=\"dataframe\">\n",
       "  <thead>\n",
       "    <tr style=\"text-align: right;\">\n",
       "      <th></th>\n",
       "      <th>application_id</th>\n",
       "      <th>loanapply_insert_time</th>\n",
       "      <th>bank_id</th>\n",
       "      <th>product_id</th>\n",
       "      <th>loan_limit</th>\n",
       "      <th>loan_rate</th>\n",
       "      <th>is_applied</th>\n",
       "      <th>user_id</th>\n",
       "      <th>birth_year</th>\n",
       "      <th>gender</th>\n",
       "      <th>insert_time</th>\n",
       "      <th>credit_score</th>\n",
       "      <th>yearly_income</th>\n",
       "      <th>income_type</th>\n",
       "      <th>company_enter_month</th>\n",
       "      <th>employment_type</th>\n",
       "      <th>houseown_type</th>\n",
       "      <th>desired_amount</th>\n",
       "      <th>purpose</th>\n",
       "      <th>personal_rehabilitation_yn</th>\n",
       "      <th>personal_rehabilitation_complete_yn</th>\n",
       "      <th>existing_loan_cnt</th>\n",
       "      <th>existing_loan_amt</th>\n",
       "      <th>isna</th>\n",
       "      <th>isjob</th>\n",
       "    </tr>\n",
       "  </thead>\n",
       "  <tbody>\n",
       "    <tr>\n",
       "      <th>96239</th>\n",
       "      <td>341149</td>\n",
       "      <td>2022-06-30 21:32:19</td>\n",
       "      <td>38</td>\n",
       "      <td>113</td>\n",
       "      <td>5000000.0</td>\n",
       "      <td>19.5</td>\n",
       "      <td>NaN</td>\n",
       "      <td>670502</td>\n",
       "      <td>1981.0</td>\n",
       "      <td>1.0</td>\n",
       "      <td>2022-06-30 21:32:18</td>\n",
       "      <td>930.0</td>\n",
       "      <td>NaN</td>\n",
       "      <td>OTHERINCOME</td>\n",
       "      <td>0.0</td>\n",
       "      <td>기타</td>\n",
       "      <td>기타가족소유</td>\n",
       "      <td>6000000.0</td>\n",
       "      <td>BUSINESS</td>\n",
       "      <td>0.0</td>\n",
       "      <td>no_rehabilitation</td>\n",
       "      <td>1.0</td>\n",
       "      <td>3000000.0</td>\n",
       "      <td>Na</td>\n",
       "      <td>0</td>\n",
       "    </tr>\n",
       "    <tr>\n",
       "      <th>96240</th>\n",
       "      <td>341149</td>\n",
       "      <td>2022-06-30 21:32:19</td>\n",
       "      <td>29</td>\n",
       "      <td>265</td>\n",
       "      <td>10000000.0</td>\n",
       "      <td>9.1</td>\n",
       "      <td>NaN</td>\n",
       "      <td>670502</td>\n",
       "      <td>1981.0</td>\n",
       "      <td>1.0</td>\n",
       "      <td>2022-06-30 21:32:18</td>\n",
       "      <td>930.0</td>\n",
       "      <td>NaN</td>\n",
       "      <td>OTHERINCOME</td>\n",
       "      <td>0.0</td>\n",
       "      <td>기타</td>\n",
       "      <td>기타가족소유</td>\n",
       "      <td>6000000.0</td>\n",
       "      <td>BUSINESS</td>\n",
       "      <td>0.0</td>\n",
       "      <td>no_rehabilitation</td>\n",
       "      <td>1.0</td>\n",
       "      <td>3000000.0</td>\n",
       "      <td>Na</td>\n",
       "      <td>0</td>\n",
       "    </tr>\n",
       "    <tr>\n",
       "      <th>96241</th>\n",
       "      <td>341149</td>\n",
       "      <td>2022-06-30 21:32:19</td>\n",
       "      <td>57</td>\n",
       "      <td>71</td>\n",
       "      <td>23000000.0</td>\n",
       "      <td>15.4</td>\n",
       "      <td>NaN</td>\n",
       "      <td>670502</td>\n",
       "      <td>1981.0</td>\n",
       "      <td>1.0</td>\n",
       "      <td>2022-06-30 21:32:18</td>\n",
       "      <td>930.0</td>\n",
       "      <td>NaN</td>\n",
       "      <td>OTHERINCOME</td>\n",
       "      <td>0.0</td>\n",
       "      <td>기타</td>\n",
       "      <td>기타가족소유</td>\n",
       "      <td>6000000.0</td>\n",
       "      <td>BUSINESS</td>\n",
       "      <td>0.0</td>\n",
       "      <td>no_rehabilitation</td>\n",
       "      <td>1.0</td>\n",
       "      <td>3000000.0</td>\n",
       "      <td>Na</td>\n",
       "      <td>0</td>\n",
       "    </tr>\n",
       "    <tr>\n",
       "      <th>96242</th>\n",
       "      <td>341149</td>\n",
       "      <td>2022-06-30 21:32:19</td>\n",
       "      <td>14</td>\n",
       "      <td>128</td>\n",
       "      <td>15000000.0</td>\n",
       "      <td>12.5</td>\n",
       "      <td>NaN</td>\n",
       "      <td>670502</td>\n",
       "      <td>1981.0</td>\n",
       "      <td>1.0</td>\n",
       "      <td>2022-06-30 21:32:18</td>\n",
       "      <td>930.0</td>\n",
       "      <td>NaN</td>\n",
       "      <td>OTHERINCOME</td>\n",
       "      <td>0.0</td>\n",
       "      <td>기타</td>\n",
       "      <td>기타가족소유</td>\n",
       "      <td>6000000.0</td>\n",
       "      <td>BUSINESS</td>\n",
       "      <td>0.0</td>\n",
       "      <td>no_rehabilitation</td>\n",
       "      <td>1.0</td>\n",
       "      <td>3000000.0</td>\n",
       "      <td>Na</td>\n",
       "      <td>0</td>\n",
       "    </tr>\n",
       "    <tr>\n",
       "      <th>96243</th>\n",
       "      <td>341149</td>\n",
       "      <td>2022-06-30 21:32:19</td>\n",
       "      <td>13</td>\n",
       "      <td>262</td>\n",
       "      <td>35000000.0</td>\n",
       "      <td>16.4</td>\n",
       "      <td>NaN</td>\n",
       "      <td>670502</td>\n",
       "      <td>1981.0</td>\n",
       "      <td>1.0</td>\n",
       "      <td>2022-06-30 21:32:18</td>\n",
       "      <td>930.0</td>\n",
       "      <td>NaN</td>\n",
       "      <td>OTHERINCOME</td>\n",
       "      <td>0.0</td>\n",
       "      <td>기타</td>\n",
       "      <td>기타가족소유</td>\n",
       "      <td>6000000.0</td>\n",
       "      <td>BUSINESS</td>\n",
       "      <td>0.0</td>\n",
       "      <td>no_rehabilitation</td>\n",
       "      <td>1.0</td>\n",
       "      <td>3000000.0</td>\n",
       "      <td>Na</td>\n",
       "      <td>0</td>\n",
       "    </tr>\n",
       "    <tr>\n",
       "      <th>96244</th>\n",
       "      <td>341149</td>\n",
       "      <td>2022-06-30 21:32:20</td>\n",
       "      <td>64</td>\n",
       "      <td>254</td>\n",
       "      <td>45000000.0</td>\n",
       "      <td>10.3</td>\n",
       "      <td>NaN</td>\n",
       "      <td>670502</td>\n",
       "      <td>1981.0</td>\n",
       "      <td>1.0</td>\n",
       "      <td>2022-06-30 21:32:18</td>\n",
       "      <td>930.0</td>\n",
       "      <td>NaN</td>\n",
       "      <td>OTHERINCOME</td>\n",
       "      <td>0.0</td>\n",
       "      <td>기타</td>\n",
       "      <td>기타가족소유</td>\n",
       "      <td>6000000.0</td>\n",
       "      <td>BUSINESS</td>\n",
       "      <td>0.0</td>\n",
       "      <td>no_rehabilitation</td>\n",
       "      <td>1.0</td>\n",
       "      <td>3000000.0</td>\n",
       "      <td>Na</td>\n",
       "      <td>0</td>\n",
       "    </tr>\n",
       "  </tbody>\n",
       "</table>\n",
       "</div>"
      ],
      "text/plain": [
       "       application_id loanapply_insert_time  bank_id  product_id  loan_limit  \\\n",
       "96239          341149   2022-06-30 21:32:19       38         113   5000000.0   \n",
       "96240          341149   2022-06-30 21:32:19       29         265  10000000.0   \n",
       "96241          341149   2022-06-30 21:32:19       57          71  23000000.0   \n",
       "96242          341149   2022-06-30 21:32:19       14         128  15000000.0   \n",
       "96243          341149   2022-06-30 21:32:19       13         262  35000000.0   \n",
       "96244          341149   2022-06-30 21:32:20       64         254  45000000.0   \n",
       "\n",
       "       loan_rate  is_applied  user_id  birth_year  gender  \\\n",
       "96239       19.5         NaN   670502      1981.0     1.0   \n",
       "96240        9.1         NaN   670502      1981.0     1.0   \n",
       "96241       15.4         NaN   670502      1981.0     1.0   \n",
       "96242       12.5         NaN   670502      1981.0     1.0   \n",
       "96243       16.4         NaN   670502      1981.0     1.0   \n",
       "96244       10.3         NaN   670502      1981.0     1.0   \n",
       "\n",
       "               insert_time  credit_score  yearly_income  income_type  \\\n",
       "96239  2022-06-30 21:32:18         930.0            NaN  OTHERINCOME   \n",
       "96240  2022-06-30 21:32:18         930.0            NaN  OTHERINCOME   \n",
       "96241  2022-06-30 21:32:18         930.0            NaN  OTHERINCOME   \n",
       "96242  2022-06-30 21:32:18         930.0            NaN  OTHERINCOME   \n",
       "96243  2022-06-30 21:32:18         930.0            NaN  OTHERINCOME   \n",
       "96244  2022-06-30 21:32:18         930.0            NaN  OTHERINCOME   \n",
       "\n",
       "       company_enter_month employment_type houseown_type  desired_amount  \\\n",
       "96239                  0.0              기타        기타가족소유       6000000.0   \n",
       "96240                  0.0              기타        기타가족소유       6000000.0   \n",
       "96241                  0.0              기타        기타가족소유       6000000.0   \n",
       "96242                  0.0              기타        기타가족소유       6000000.0   \n",
       "96243                  0.0              기타        기타가족소유       6000000.0   \n",
       "96244                  0.0              기타        기타가족소유       6000000.0   \n",
       "\n",
       "        purpose personal_rehabilitation_yn  \\\n",
       "96239  BUSINESS                        0.0   \n",
       "96240  BUSINESS                        0.0   \n",
       "96241  BUSINESS                        0.0   \n",
       "96242  BUSINESS                        0.0   \n",
       "96243  BUSINESS                        0.0   \n",
       "96244  BUSINESS                        0.0   \n",
       "\n",
       "      personal_rehabilitation_complete_yn  existing_loan_cnt  \\\n",
       "96239                   no_rehabilitation                1.0   \n",
       "96240                   no_rehabilitation                1.0   \n",
       "96241                   no_rehabilitation                1.0   \n",
       "96242                   no_rehabilitation                1.0   \n",
       "96243                   no_rehabilitation                1.0   \n",
       "96244                   no_rehabilitation                1.0   \n",
       "\n",
       "       existing_loan_amt isna  isjob  \n",
       "96239          3000000.0   Na      0  \n",
       "96240          3000000.0   Na      0  \n",
       "96241          3000000.0   Na      0  \n",
       "96242          3000000.0   Na      0  \n",
       "96243          3000000.0   Na      0  \n",
       "96244          3000000.0   Na      0  "
      ]
     },
     "execution_count": 57,
     "metadata": {},
     "output_type": "execute_result"
    }
   ],
   "source": [
    "print(train2[\"yearly_income\"].isna().sum())\n",
    "print(test2[\"yearly_income\"].isna().sum())\n",
    "\n",
    "pd.set_option(\"display.max_columns\",None)\n",
    "test2.loc[test2.yearly_income.isna()] #0명"
   ]
  },
  {
   "cell_type": "code",
   "execution_count": 58,
   "metadata": {},
   "outputs": [
    {
     "name": "stdout",
     "output_type": "stream",
     "text": [
      "application_id                               0\n",
      "loanapply_insert_time                        0\n",
      "bank_id                                      0\n",
      "product_id                                   0\n",
      "loan_limit                                   0\n",
      "loan_rate                                    0\n",
      "is_applied                                   0\n",
      "user_id                                      0\n",
      "birth_year                                   0\n",
      "gender                                       0\n",
      "insert_time                                  0\n",
      "credit_score                           1111041\n",
      "yearly_income                                0\n",
      "income_type                                  0\n",
      "company_enter_month                          0\n",
      "employment_type                              0\n",
      "houseown_type                                0\n",
      "desired_amount                               0\n",
      "purpose                                      0\n",
      "personal_rehabilitation_yn                   0\n",
      "personal_rehabilitation_complete_yn          0\n",
      "existing_loan_cnt                            0\n",
      "existing_loan_amt                            0\n",
      "isna                                         0\n",
      "isjob                                        0\n",
      "dtype: int64\n",
      "\n",
      "\n",
      "application_id                               0\n",
      "loanapply_insert_time                        0\n",
      "bank_id                                      0\n",
      "product_id                                   0\n",
      "loan_limit                                   0\n",
      "loan_rate                                    0\n",
      "is_applied                             3255482\n",
      "user_id                                      0\n",
      "birth_year                                   0\n",
      "gender                                       0\n",
      "insert_time                                  0\n",
      "credit_score                            265321\n",
      "yearly_income                                6\n",
      "income_type                                  0\n",
      "company_enter_month                          0\n",
      "employment_type                              0\n",
      "houseown_type                                0\n",
      "desired_amount                               0\n",
      "purpose                                      0\n",
      "personal_rehabilitation_yn                   0\n",
      "personal_rehabilitation_complete_yn          0\n",
      "existing_loan_cnt                            0\n",
      "existing_loan_amt                            0\n",
      "isna                                         0\n",
      "isjob                                        0\n",
      "dtype: int64\n"
     ]
    }
   ],
   "source": [
    "print(train2.isna().sum())\n",
    "print(\"\\n\")\n",
    "print(test2.isna().sum())"
   ]
  },
  {
   "cell_type": "markdown",
   "metadata": {},
   "source": [
    "# purpose "
   ]
  },
  {
   "cell_type": "code",
   "execution_count": 59,
   "metadata": {},
   "outputs": [
    {
     "name": "stdout",
     "output_type": "stream",
     "text": [
      "['LIVING' 'SWITCHLOAN' 'BUYHOUSE' 'HOUSEDEPOSIT' 'ETC' 'BUYCAR' 'INVEST'\n",
      " 'BUSINESS']\n",
      "['LIVING' 'SWITCHLOAN' 'BUYHOUSE' 'HOUSEDEPOSIT' 'ETC' 'BUYCAR' 'INVEST'\n",
      " 'BUSINESS']\n"
     ]
    }
   ],
   "source": [
    "print(train2.purpose.unique())\n",
    "\n",
    "train2 = train2.replace({\"purpose\" : \"생활비\"}, \"LIVING\") \n",
    "train2 = train2.replace({\"purpose\" : \"대환대출\"}, \"SWITCHLOAN\") \n",
    "train2 = train2.replace({\"purpose\" : \"사업자금\"}, \"BUSINESS\") \n",
    "train2 = train2.replace({\"purpose\" : \"기타\"}, \"ETC\") \n",
    "train2 = train2.replace({\"purpose\" : \"자동차구입\"}, \"BUYCAR\") \n",
    "train2 = train2.replace({\"purpose\" : \"전월세보증금\"}, \"HOUSEDEPOSIT\") \n",
    "train2 = train2.replace({\"purpose\" : \"주택구입\"}, \"BUYHOUSE\") \n",
    "train2 = train2.replace({\"purpose\" : \"투자\"}, \"INVEST\") \n",
    "\n",
    "print(train2.purpose.unique())\n"
   ]
  },
  {
   "cell_type": "markdown",
   "metadata": {},
   "source": [
    "# credit_score"
   ]
  },
  {
   "cell_type": "code",
   "execution_count": 60,
   "metadata": {},
   "outputs": [],
   "source": [
    "train_cs = train2.copy()\n",
    "test_cs = test2.copy()"
   ]
  },
  {
   "cell_type": "code",
   "execution_count": 61,
   "metadata": {},
   "outputs": [
    {
     "name": "stdout",
     "output_type": "stream",
     "text": [
      "(10264349, 25)\n",
      "(3255482, 25)\n"
     ]
    }
   ],
   "source": [
    "print(train_cs.shape)\n",
    "print(test_cs.shape)"
   ]
  },
  {
   "cell_type": "code",
   "execution_count": 62,
   "metadata": {},
   "outputs": [
    {
     "name": "stdout",
     "output_type": "stream",
     "text": [
      "1111041\n",
      "265321\n"
     ]
    }
   ],
   "source": [
    "print(train_cs[\"credit_score\"].isna().sum()) #1111041\n",
    "print(test_cs[\"credit_score\"].isna().sum()) #265321"
   ]
  },
  {
   "cell_type": "code",
   "execution_count": 63,
   "metadata": {},
   "outputs": [],
   "source": [
    "test_cs[\"personal_rehabilitation_yn\"] = test_cs[\"personal_rehabilitation_yn\"].astype('str')"
   ]
  },
  {
   "cell_type": "code",
   "execution_count": 64,
   "metadata": {},
   "outputs": [
    {
     "name": "stdout",
     "output_type": "stream",
     "text": [
      "no_response    5870410\n",
      "0.0            4370919\n",
      "1.0              23020\n",
      "Name: personal_rehabilitation_yn, dtype: int64\n",
      "0.0            3221862\n",
      "1.0              18157\n",
      "no_response      15463\n",
      "Name: personal_rehabilitation_yn, dtype: int64\n",
      "no_response          5870410\n",
      "no_rehabilitation    4370919\n",
      "0.0                    18926\n",
      "1.0                     4094\n",
      "Name: personal_rehabilitation_complete_yn, dtype: int64\n",
      "no_rehabilitation    3221862\n",
      "0.0                    15624\n",
      "no_response            15463\n",
      "1.0                     2533\n",
      "Name: personal_rehabilitation_complete_yn, dtype: int64\n"
     ]
    }
   ],
   "source": [
    "print(train_cs[\"personal_rehabilitation_yn\"].value_counts())\n",
    "print(test_cs[\"personal_rehabilitation_yn\"].value_counts())\n",
    "\n",
    "print(train_cs[\"personal_rehabilitation_complete_yn\"].value_counts())\n",
    "print(test_cs[\"personal_rehabilitation_complete_yn\"].value_counts())"
   ]
  },
  {
   "cell_type": "markdown",
   "metadata": {},
   "source": [
    "## user_id 별 credit_score 평균값"
   ]
  },
  {
   "cell_type": "code",
   "execution_count": 65,
   "metadata": {},
   "outputs": [
    {
     "data": {
      "text/html": [
       "<div>\n",
       "<style scoped>\n",
       "    .dataframe tbody tr th:only-of-type {\n",
       "        vertical-align: middle;\n",
       "    }\n",
       "\n",
       "    .dataframe tbody tr th {\n",
       "        vertical-align: top;\n",
       "    }\n",
       "\n",
       "    .dataframe thead th {\n",
       "        text-align: right;\n",
       "    }\n",
       "</style>\n",
       "<table border=\"1\" class=\"dataframe\">\n",
       "  <thead>\n",
       "    <tr style=\"text-align: right;\">\n",
       "      <th></th>\n",
       "      <th>user_id</th>\n",
       "      <th>credit_score</th>\n",
       "      <th>user_id</th>\n",
       "      <th>credit_score</th>\n",
       "      <th>user_id</th>\n",
       "      <th>credit_score</th>\n",
       "      <th>user_id</th>\n",
       "      <th>credit_score</th>\n",
       "      <th>user_id</th>\n",
       "      <th>credit_score</th>\n",
       "    </tr>\n",
       "  </thead>\n",
       "  <tbody>\n",
       "    <tr>\n",
       "      <th>0</th>\n",
       "      <td>9</td>\n",
       "      <td>810.000000</td>\n",
       "      <td>9</td>\n",
       "      <td>810.0</td>\n",
       "      <td>9</td>\n",
       "      <td>810.0</td>\n",
       "      <td>9</td>\n",
       "      <td>810.0</td>\n",
       "      <td>9</td>\n",
       "      <td>26</td>\n",
       "    </tr>\n",
       "    <tr>\n",
       "      <th>1</th>\n",
       "      <td>11</td>\n",
       "      <td>655.000000</td>\n",
       "      <td>11</td>\n",
       "      <td>670.0</td>\n",
       "      <td>11</td>\n",
       "      <td>640.0</td>\n",
       "      <td>11</td>\n",
       "      <td>655.0</td>\n",
       "      <td>11</td>\n",
       "      <td>50</td>\n",
       "    </tr>\n",
       "    <tr>\n",
       "      <th>2</th>\n",
       "      <td>14</td>\n",
       "      <td>NaN</td>\n",
       "      <td>14</td>\n",
       "      <td>NaN</td>\n",
       "      <td>14</td>\n",
       "      <td>NaN</td>\n",
       "      <td>14</td>\n",
       "      <td>NaN</td>\n",
       "      <td>14</td>\n",
       "      <td>0</td>\n",
       "    </tr>\n",
       "    <tr>\n",
       "      <th>3</th>\n",
       "      <td>17</td>\n",
       "      <td>540.000000</td>\n",
       "      <td>17</td>\n",
       "      <td>540.0</td>\n",
       "      <td>17</td>\n",
       "      <td>540.0</td>\n",
       "      <td>17</td>\n",
       "      <td>540.0</td>\n",
       "      <td>17</td>\n",
       "      <td>5</td>\n",
       "    </tr>\n",
       "    <tr>\n",
       "      <th>4</th>\n",
       "      <td>19</td>\n",
       "      <td>NaN</td>\n",
       "      <td>19</td>\n",
       "      <td>NaN</td>\n",
       "      <td>19</td>\n",
       "      <td>NaN</td>\n",
       "      <td>19</td>\n",
       "      <td>NaN</td>\n",
       "      <td>19</td>\n",
       "      <td>0</td>\n",
       "    </tr>\n",
       "    <tr>\n",
       "      <th>5</th>\n",
       "      <td>20</td>\n",
       "      <td>660.000000</td>\n",
       "      <td>20</td>\n",
       "      <td>660.0</td>\n",
       "      <td>20</td>\n",
       "      <td>660.0</td>\n",
       "      <td>20</td>\n",
       "      <td>660.0</td>\n",
       "      <td>20</td>\n",
       "      <td>67</td>\n",
       "    </tr>\n",
       "    <tr>\n",
       "      <th>6</th>\n",
       "      <td>24</td>\n",
       "      <td>640.000000</td>\n",
       "      <td>24</td>\n",
       "      <td>640.0</td>\n",
       "      <td>24</td>\n",
       "      <td>640.0</td>\n",
       "      <td>24</td>\n",
       "      <td>640.0</td>\n",
       "      <td>24</td>\n",
       "      <td>14</td>\n",
       "    </tr>\n",
       "    <tr>\n",
       "      <th>7</th>\n",
       "      <td>27</td>\n",
       "      <td>590.000000</td>\n",
       "      <td>27</td>\n",
       "      <td>590.0</td>\n",
       "      <td>27</td>\n",
       "      <td>590.0</td>\n",
       "      <td>27</td>\n",
       "      <td>590.0</td>\n",
       "      <td>27</td>\n",
       "      <td>21</td>\n",
       "    </tr>\n",
       "    <tr>\n",
       "      <th>8</th>\n",
       "      <td>31</td>\n",
       "      <td>730.000000</td>\n",
       "      <td>31</td>\n",
       "      <td>730.0</td>\n",
       "      <td>31</td>\n",
       "      <td>730.0</td>\n",
       "      <td>31</td>\n",
       "      <td>730.0</td>\n",
       "      <td>31</td>\n",
       "      <td>54</td>\n",
       "    </tr>\n",
       "    <tr>\n",
       "      <th>9</th>\n",
       "      <td>33</td>\n",
       "      <td>800.000000</td>\n",
       "      <td>33</td>\n",
       "      <td>800.0</td>\n",
       "      <td>33</td>\n",
       "      <td>800.0</td>\n",
       "      <td>33</td>\n",
       "      <td>800.0</td>\n",
       "      <td>33</td>\n",
       "      <td>37</td>\n",
       "    </tr>\n",
       "    <tr>\n",
       "      <th>10</th>\n",
       "      <td>34</td>\n",
       "      <td>580.000000</td>\n",
       "      <td>34</td>\n",
       "      <td>580.0</td>\n",
       "      <td>34</td>\n",
       "      <td>580.0</td>\n",
       "      <td>34</td>\n",
       "      <td>580.0</td>\n",
       "      <td>34</td>\n",
       "      <td>12</td>\n",
       "    </tr>\n",
       "    <tr>\n",
       "      <th>11</th>\n",
       "      <td>38</td>\n",
       "      <td>690.000000</td>\n",
       "      <td>38</td>\n",
       "      <td>690.0</td>\n",
       "      <td>38</td>\n",
       "      <td>690.0</td>\n",
       "      <td>38</td>\n",
       "      <td>690.0</td>\n",
       "      <td>38</td>\n",
       "      <td>37</td>\n",
       "    </tr>\n",
       "    <tr>\n",
       "      <th>12</th>\n",
       "      <td>41</td>\n",
       "      <td>NaN</td>\n",
       "      <td>41</td>\n",
       "      <td>NaN</td>\n",
       "      <td>41</td>\n",
       "      <td>NaN</td>\n",
       "      <td>41</td>\n",
       "      <td>NaN</td>\n",
       "      <td>41</td>\n",
       "      <td>0</td>\n",
       "    </tr>\n",
       "    <tr>\n",
       "      <th>13</th>\n",
       "      <td>45</td>\n",
       "      <td>650.000000</td>\n",
       "      <td>45</td>\n",
       "      <td>650.0</td>\n",
       "      <td>45</td>\n",
       "      <td>650.0</td>\n",
       "      <td>45</td>\n",
       "      <td>650.0</td>\n",
       "      <td>45</td>\n",
       "      <td>4</td>\n",
       "    </tr>\n",
       "    <tr>\n",
       "      <th>14</th>\n",
       "      <td>48</td>\n",
       "      <td>620.000000</td>\n",
       "      <td>48</td>\n",
       "      <td>620.0</td>\n",
       "      <td>48</td>\n",
       "      <td>620.0</td>\n",
       "      <td>48</td>\n",
       "      <td>620.0</td>\n",
       "      <td>48</td>\n",
       "      <td>9</td>\n",
       "    </tr>\n",
       "    <tr>\n",
       "      <th>15</th>\n",
       "      <td>51</td>\n",
       "      <td>480.000000</td>\n",
       "      <td>51</td>\n",
       "      <td>480.0</td>\n",
       "      <td>51</td>\n",
       "      <td>480.0</td>\n",
       "      <td>51</td>\n",
       "      <td>480.0</td>\n",
       "      <td>51</td>\n",
       "      <td>2</td>\n",
       "    </tr>\n",
       "    <tr>\n",
       "      <th>16</th>\n",
       "      <td>52</td>\n",
       "      <td>700.000000</td>\n",
       "      <td>52</td>\n",
       "      <td>740.0</td>\n",
       "      <td>52</td>\n",
       "      <td>660.0</td>\n",
       "      <td>52</td>\n",
       "      <td>700.0</td>\n",
       "      <td>52</td>\n",
       "      <td>60</td>\n",
       "    </tr>\n",
       "    <tr>\n",
       "      <th>17</th>\n",
       "      <td>54</td>\n",
       "      <td>720.000000</td>\n",
       "      <td>54</td>\n",
       "      <td>800.0</td>\n",
       "      <td>54</td>\n",
       "      <td>600.0</td>\n",
       "      <td>54</td>\n",
       "      <td>800.0</td>\n",
       "      <td>54</td>\n",
       "      <td>5</td>\n",
       "    </tr>\n",
       "    <tr>\n",
       "      <th>18</th>\n",
       "      <td>59</td>\n",
       "      <td>640.000000</td>\n",
       "      <td>59</td>\n",
       "      <td>640.0</td>\n",
       "      <td>59</td>\n",
       "      <td>640.0</td>\n",
       "      <td>59</td>\n",
       "      <td>640.0</td>\n",
       "      <td>59</td>\n",
       "      <td>34</td>\n",
       "    </tr>\n",
       "    <tr>\n",
       "      <th>19</th>\n",
       "      <td>63</td>\n",
       "      <td>910.000000</td>\n",
       "      <td>63</td>\n",
       "      <td>910.0</td>\n",
       "      <td>63</td>\n",
       "      <td>910.0</td>\n",
       "      <td>63</td>\n",
       "      <td>910.0</td>\n",
       "      <td>63</td>\n",
       "      <td>41</td>\n",
       "    </tr>\n",
       "    <tr>\n",
       "      <th>20</th>\n",
       "      <td>64</td>\n",
       "      <td>610.000000</td>\n",
       "      <td>64</td>\n",
       "      <td>610.0</td>\n",
       "      <td>64</td>\n",
       "      <td>610.0</td>\n",
       "      <td>64</td>\n",
       "      <td>610.0</td>\n",
       "      <td>64</td>\n",
       "      <td>17</td>\n",
       "    </tr>\n",
       "    <tr>\n",
       "      <th>21</th>\n",
       "      <td>65</td>\n",
       "      <td>640.000000</td>\n",
       "      <td>65</td>\n",
       "      <td>640.0</td>\n",
       "      <td>65</td>\n",
       "      <td>640.0</td>\n",
       "      <td>65</td>\n",
       "      <td>640.0</td>\n",
       "      <td>65</td>\n",
       "      <td>12</td>\n",
       "    </tr>\n",
       "    <tr>\n",
       "      <th>22</th>\n",
       "      <td>67</td>\n",
       "      <td>682.517986</td>\n",
       "      <td>67</td>\n",
       "      <td>690.0</td>\n",
       "      <td>67</td>\n",
       "      <td>680.0</td>\n",
       "      <td>67</td>\n",
       "      <td>680.0</td>\n",
       "      <td>67</td>\n",
       "      <td>139</td>\n",
       "    </tr>\n",
       "    <tr>\n",
       "      <th>23</th>\n",
       "      <td>68</td>\n",
       "      <td>730.000000</td>\n",
       "      <td>68</td>\n",
       "      <td>730.0</td>\n",
       "      <td>68</td>\n",
       "      <td>730.0</td>\n",
       "      <td>68</td>\n",
       "      <td>730.0</td>\n",
       "      <td>68</td>\n",
       "      <td>52</td>\n",
       "    </tr>\n",
       "    <tr>\n",
       "      <th>24</th>\n",
       "      <td>69</td>\n",
       "      <td>740.000000</td>\n",
       "      <td>69</td>\n",
       "      <td>740.0</td>\n",
       "      <td>69</td>\n",
       "      <td>740.0</td>\n",
       "      <td>69</td>\n",
       "      <td>740.0</td>\n",
       "      <td>69</td>\n",
       "      <td>1</td>\n",
       "    </tr>\n",
       "    <tr>\n",
       "      <th>25</th>\n",
       "      <td>70</td>\n",
       "      <td>650.000000</td>\n",
       "      <td>70</td>\n",
       "      <td>650.0</td>\n",
       "      <td>70</td>\n",
       "      <td>650.0</td>\n",
       "      <td>70</td>\n",
       "      <td>650.0</td>\n",
       "      <td>70</td>\n",
       "      <td>21</td>\n",
       "    </tr>\n",
       "    <tr>\n",
       "      <th>26</th>\n",
       "      <td>71</td>\n",
       "      <td>970.000000</td>\n",
       "      <td>71</td>\n",
       "      <td>970.0</td>\n",
       "      <td>71</td>\n",
       "      <td>970.0</td>\n",
       "      <td>71</td>\n",
       "      <td>970.0</td>\n",
       "      <td>71</td>\n",
       "      <td>180</td>\n",
       "    </tr>\n",
       "    <tr>\n",
       "      <th>27</th>\n",
       "      <td>74</td>\n",
       "      <td>NaN</td>\n",
       "      <td>74</td>\n",
       "      <td>NaN</td>\n",
       "      <td>74</td>\n",
       "      <td>NaN</td>\n",
       "      <td>74</td>\n",
       "      <td>NaN</td>\n",
       "      <td>74</td>\n",
       "      <td>0</td>\n",
       "    </tr>\n",
       "    <tr>\n",
       "      <th>28</th>\n",
       "      <td>75</td>\n",
       "      <td>NaN</td>\n",
       "      <td>75</td>\n",
       "      <td>NaN</td>\n",
       "      <td>75</td>\n",
       "      <td>NaN</td>\n",
       "      <td>75</td>\n",
       "      <td>NaN</td>\n",
       "      <td>75</td>\n",
       "      <td>0</td>\n",
       "    </tr>\n",
       "    <tr>\n",
       "      <th>29</th>\n",
       "      <td>81</td>\n",
       "      <td>581.111111</td>\n",
       "      <td>81</td>\n",
       "      <td>590.0</td>\n",
       "      <td>81</td>\n",
       "      <td>570.0</td>\n",
       "      <td>81</td>\n",
       "      <td>590.0</td>\n",
       "      <td>81</td>\n",
       "      <td>9</td>\n",
       "    </tr>\n",
       "  </tbody>\n",
       "</table>\n",
       "</div>"
      ],
      "text/plain": [
       "    user_id  credit_score  user_id  credit_score  user_id  credit_score  \\\n",
       "0         9    810.000000        9         810.0        9         810.0   \n",
       "1        11    655.000000       11         670.0       11         640.0   \n",
       "2        14           NaN       14           NaN       14           NaN   \n",
       "3        17    540.000000       17         540.0       17         540.0   \n",
       "4        19           NaN       19           NaN       19           NaN   \n",
       "5        20    660.000000       20         660.0       20         660.0   \n",
       "6        24    640.000000       24         640.0       24         640.0   \n",
       "7        27    590.000000       27         590.0       27         590.0   \n",
       "8        31    730.000000       31         730.0       31         730.0   \n",
       "9        33    800.000000       33         800.0       33         800.0   \n",
       "10       34    580.000000       34         580.0       34         580.0   \n",
       "11       38    690.000000       38         690.0       38         690.0   \n",
       "12       41           NaN       41           NaN       41           NaN   \n",
       "13       45    650.000000       45         650.0       45         650.0   \n",
       "14       48    620.000000       48         620.0       48         620.0   \n",
       "15       51    480.000000       51         480.0       51         480.0   \n",
       "16       52    700.000000       52         740.0       52         660.0   \n",
       "17       54    720.000000       54         800.0       54         600.0   \n",
       "18       59    640.000000       59         640.0       59         640.0   \n",
       "19       63    910.000000       63         910.0       63         910.0   \n",
       "20       64    610.000000       64         610.0       64         610.0   \n",
       "21       65    640.000000       65         640.0       65         640.0   \n",
       "22       67    682.517986       67         690.0       67         680.0   \n",
       "23       68    730.000000       68         730.0       68         730.0   \n",
       "24       69    740.000000       69         740.0       69         740.0   \n",
       "25       70    650.000000       70         650.0       70         650.0   \n",
       "26       71    970.000000       71         970.0       71         970.0   \n",
       "27       74           NaN       74           NaN       74           NaN   \n",
       "28       75           NaN       75           NaN       75           NaN   \n",
       "29       81    581.111111       81         590.0       81         570.0   \n",
       "\n",
       "    user_id  credit_score  user_id  credit_score  \n",
       "0         9         810.0        9            26  \n",
       "1        11         655.0       11            50  \n",
       "2        14           NaN       14             0  \n",
       "3        17         540.0       17             5  \n",
       "4        19           NaN       19             0  \n",
       "5        20         660.0       20            67  \n",
       "6        24         640.0       24            14  \n",
       "7        27         590.0       27            21  \n",
       "8        31         730.0       31            54  \n",
       "9        33         800.0       33            37  \n",
       "10       34         580.0       34            12  \n",
       "11       38         690.0       38            37  \n",
       "12       41           NaN       41             0  \n",
       "13       45         650.0       45             4  \n",
       "14       48         620.0       48             9  \n",
       "15       51         480.0       51             2  \n",
       "16       52         700.0       52            60  \n",
       "17       54         800.0       54             5  \n",
       "18       59         640.0       59            34  \n",
       "19       63         910.0       63            41  \n",
       "20       64         610.0       64            17  \n",
       "21       65         640.0       65            12  \n",
       "22       67         680.0       67           139  \n",
       "23       68         730.0       68            52  \n",
       "24       69         740.0       69             1  \n",
       "25       70         650.0       70            21  \n",
       "26       71         970.0       71           180  \n",
       "27       74           NaN       74             0  \n",
       "28       75           NaN       75             0  \n",
       "29       81         590.0       81             9  "
      ]
     },
     "execution_count": 65,
     "metadata": {},
     "output_type": "execute_result"
    }
   ],
   "source": [
    "cd_mean=pd.DataFrame(train_cs.groupby(\"user_id\")[\"credit_score\"].mean()).reset_index()\n",
    "cd_max=pd.DataFrame(train_cs.groupby(\"user_id\")[\"credit_score\"].max()).reset_index()\n",
    "cd_min=pd.DataFrame(train_cs.groupby(\"user_id\")[\"credit_score\"].min()).reset_index()\n",
    "cd_median=pd.DataFrame(train_cs.groupby(\"user_id\")[\"credit_score\"].median()).reset_index()\n",
    "cd_n=pd.DataFrame(train_cs.groupby(\"user_id\")[\"credit_score\"].count()).reset_index()\n",
    "\n",
    "f=pd.concat([cd_mean,cd_max,cd_min,cd_median,cd_n],axis=1)\n",
    "\n",
    "f.head(30)\n",
    "#같은 user id 면 credit score 변화가 크지 않다 "
   ]
  },
  {
   "cell_type": "code",
   "execution_count": 66,
   "metadata": {},
   "outputs": [
    {
     "name": "stdout",
     "output_type": "stream",
     "text": [
      "application_id                               0\n",
      "loanapply_insert_time                        0\n",
      "bank_id                                      0\n",
      "product_id                                   0\n",
      "loan_limit                                   0\n",
      "loan_rate                                    0\n",
      "is_applied                                   0\n",
      "user_id                                      0\n",
      "birth_year                                   0\n",
      "gender                                       0\n",
      "insert_time                                  0\n",
      "credit_score_x                         1111041\n",
      "yearly_income                                0\n",
      "income_type                                  0\n",
      "company_enter_month                          0\n",
      "employment_type                              0\n",
      "houseown_type                                0\n",
      "desired_amount                               0\n",
      "purpose                                      0\n",
      "personal_rehabilitation_yn                   0\n",
      "personal_rehabilitation_complete_yn          0\n",
      "existing_loan_cnt                            0\n",
      "existing_loan_amt                            0\n",
      "isna                                         0\n",
      "isjob                                        0\n",
      "credit_score_y                         1111041\n",
      "dtype: int64\n",
      "application_id                               0\n",
      "loanapply_insert_time                        0\n",
      "bank_id                                      0\n",
      "product_id                                   0\n",
      "loan_limit                                   0\n",
      "loan_rate                                    0\n",
      "is_applied                             3255482\n",
      "user_id                                      0\n",
      "birth_year                                   0\n",
      "gender                                       0\n",
      "insert_time                                  0\n",
      "credit_score_x                          265321\n",
      "yearly_income                                6\n",
      "income_type                                  0\n",
      "company_enter_month                          0\n",
      "employment_type                              0\n",
      "houseown_type                                0\n",
      "desired_amount                               0\n",
      "purpose                                      0\n",
      "personal_rehabilitation_yn                   0\n",
      "personal_rehabilitation_complete_yn          0\n",
      "existing_loan_cnt                            0\n",
      "existing_loan_amt                            0\n",
      "isna                                         0\n",
      "isjob                                        0\n",
      "credit_score_y                         1565068\n",
      "dtype: int64\n",
      "(10264349, 26)\n",
      "(3255482, 26)\n"
     ]
    }
   ],
   "source": [
    "train3_fillna = pd.merge(train_cs, cd_mean, how=\"left\", on=\"user_id\")\n",
    "test3_fillna = pd.merge(test_cs, cd_mean, how=\"left\", on=\"user_id\")\n",
    "print(train3_fillna.isna().sum()) #\n",
    "print(test3_fillna.isna().sum()) #\n",
    "\n",
    "print(train3_fillna.shape)\n",
    "print(test3_fillna.shape)"
   ]
  },
  {
   "cell_type": "code",
   "execution_count": 67,
   "metadata": {},
   "outputs": [
    {
     "name": "stdout",
     "output_type": "stream",
     "text": [
      "(10264349, 25)\n",
      "(3255482, 25)\n",
      "application_id                               0\n",
      "loanapply_insert_time                        0\n",
      "bank_id                                      0\n",
      "product_id                                   0\n",
      "loan_limit                                   0\n",
      "loan_rate                                    0\n",
      "is_applied                                   0\n",
      "user_id                                      0\n",
      "birth_year                                   0\n",
      "gender                                       0\n",
      "insert_time                                  0\n",
      "credit_score                           1111041\n",
      "yearly_income                                0\n",
      "income_type                                  0\n",
      "company_enter_month                          0\n",
      "employment_type                              0\n",
      "houseown_type                                0\n",
      "desired_amount                               0\n",
      "purpose                                      0\n",
      "personal_rehabilitation_yn                   0\n",
      "personal_rehabilitation_complete_yn          0\n",
      "existing_loan_cnt                            0\n",
      "existing_loan_amt                            0\n",
      "isna                                         0\n",
      "isjob                                        0\n",
      "dtype: int64\n",
      "application_id                               0\n",
      "loanapply_insert_time                        0\n",
      "bank_id                                      0\n",
      "product_id                                   0\n",
      "loan_limit                                   0\n",
      "loan_rate                                    0\n",
      "is_applied                             3255482\n",
      "user_id                                      0\n",
      "birth_year                                   0\n",
      "gender                                       0\n",
      "insert_time                                  0\n",
      "credit_score                            265321\n",
      "yearly_income                                6\n",
      "income_type                                  0\n",
      "company_enter_month                          0\n",
      "employment_type                              0\n",
      "houseown_type                                0\n",
      "desired_amount                               0\n",
      "purpose                                      0\n",
      "personal_rehabilitation_yn                   0\n",
      "personal_rehabilitation_complete_yn          0\n",
      "existing_loan_cnt                            0\n",
      "existing_loan_amt                            0\n",
      "isna                                         0\n",
      "isjob                                        0\n",
      "dtype: int64\n"
     ]
    }
   ],
   "source": [
    "train3_fillna.credit_score_x.fillna(train3_fillna.credit_score_y, inplace=True)\n",
    "test3_fillna.credit_score_x.fillna(test3_fillna.credit_score_y, inplace=True)\n",
    "\n",
    "\n",
    "#credit_score_y 삭제 credit_score_x -> credit_score\n",
    "del train3_fillna[\"credit_score_y\"]\n",
    "del test3_fillna[\"credit_score_y\"]\n",
    "\n",
    "train3_fillna.rename(columns={\"credit_score_x\":\"credit_score\"}, inplace=True)\n",
    "test3_fillna.rename(columns={\"credit_score_x\":\"credit_score\"}, inplace=True)\n",
    "\n",
    "print(train3_fillna.shape)\n",
    "print(test3_fillna.shape)\n",
    "print(train3_fillna.isna().sum()) #1111041- 평균으로 채우고 그래도 credit_Score NA인 경우\n",
    "print(test3_fillna.isna().sum()) #265321"
   ]
  },
  {
   "cell_type": "markdown",
   "metadata": {},
   "source": [
    "## modeling 해서 남은 거 채우기"
   ]
  },
  {
   "cell_type": "code",
   "execution_count": 68,
   "metadata": {},
   "outputs": [
    {
     "name": "stdout",
     "output_type": "stream",
     "text": [
      "(10264349, 17)\n",
      "(3255482, 17)\n"
     ]
    }
   ],
   "source": [
    "\n",
    "import warnings\n",
    "warnings.filterwarnings('ignore')\n",
    "\n",
    "train2=train3_fillna.copy()\n",
    "test2=test3_fillna.copy()\n",
    "\n",
    "\n",
    "\n",
    "\n",
    "train3=train2[[\"loan_limit\",\"loan_rate\",\"birth_year\",\"gender\",\"yearly_income\",\n",
    "                  \"income_type\",\"company_enter_month\",\"employment_type\",\"houseown_type\",\n",
    "                  \"desired_amount\",\"purpose\",\"existing_loan_cnt\",\"existing_loan_amt\",\"isjob\",\n",
    "               'personal_rehabilitation_yn','personal_rehabilitation_complete_yn','credit_score']]\n",
    "\n",
    "test3 = test2[[\"loan_limit\",\"loan_rate\",\"birth_year\",\"gender\",\"yearly_income\",\n",
    "                  \"income_type\",\"company_enter_month\",\"employment_type\",\"houseown_type\",\n",
    "                  \"desired_amount\",\"purpose\",\"existing_loan_cnt\",\"existing_loan_amt\",\"isjob\",\n",
    "               'personal_rehabilitation_yn','personal_rehabilitation_complete_yn','credit_score']]\n",
    "\n",
    "\n",
    "\n",
    "train3[\"gender\"]=train3[\"gender\"].astype(\"string\").astype(\"category\")\n",
    "train3[\"income_type\"]=train3[\"income_type\"].astype(\"string\").astype(\"category\")\n",
    "train3[\"employment_type\"]=train3[\"employment_type\"].astype(\"string\").astype(\"category\")\n",
    "train3[\"houseown_type\"]=train3[\"houseown_type\"].astype(\"string\").astype(\"category\")\n",
    "train3[\"purpose\"]=train3[\"purpose\"].astype(\"string\").astype(\"category\")\n",
    "train3[\"personal_rehabilitation_yn\"]=train3[\"personal_rehabilitation_yn\"].astype(\"string\").astype(\"category\")\n",
    "train3[\"personal_rehabilitation_complete_yn\"]=train3[\"personal_rehabilitation_complete_yn\"].astype(\"string\").astype(\"category\")\n",
    "\n",
    "\n",
    "test3[\"gender\"]=test3[\"gender\"].astype(\"string\").astype(\"category\")\n",
    "test3[\"income_type\"]=test3[\"income_type\"].astype(\"string\").astype(\"category\")\n",
    "test3[\"employment_type\"]=test3[\"employment_type\"].astype(\"string\").astype(\"category\")\n",
    "test3[\"houseown_type\"]=test3[\"houseown_type\"].astype(\"string\").astype(\"category\")\n",
    "test3[\"purpose\"]=test3[\"purpose\"].astype(\"string\").astype(\"category\")\n",
    "test3[\"personal_rehabilitation_yn\"]=test3[\"personal_rehabilitation_yn\"].astype(\"string\").astype(\"category\")\n",
    "test3[\"personal_rehabilitation_complete_yn\"]=test3[\"personal_rehabilitation_complete_yn\"].astype(\"string\").astype(\"category\")\n",
    "\n",
    "print(train3.shape)\n",
    "print(test3.shape)"
   ]
  },
  {
   "cell_type": "code",
   "execution_count": 69,
   "metadata": {},
   "outputs": [
    {
     "name": "stdout",
     "output_type": "stream",
     "text": [
      "0\n",
      "6\n",
      "0\n",
      "6\n",
      "(9153308, 40)\n",
      "(2990161, 40)\n"
     ]
    }
   ],
   "source": [
    "\n",
    "#train3 : credit_score가 NA가 아닌경우만\n",
    "#valid3 : validation값으로 쓸 test data내에 credit score 있는 경우 \n",
    "\n",
    "train4=train3[train3.credit_score.notna()]\n",
    "valid4=test3[test3.credit_score.notna()]\n",
    "print(train4.isna().sum().sum())\n",
    "print(valid4.isna().sum().sum())\n",
    "\n",
    "train_x = pd.get_dummies(train4.drop([\"credit_score\"], axis=1))\n",
    "train_y = train4[\"credit_score\"]\n",
    "valid_x = pd.get_dummies(valid4.drop([\"credit_score\"], axis=1))\n",
    "valid_x = valid4.reindex(columns = train_x.columns, fill_value=0)\n",
    "valid_y = valid4[\"credit_score\"]\n",
    "\n",
    "\n",
    "print(train_x.isna().sum().sum())\n",
    "print(valid_x.isna().sum().sum())\n",
    "print(train_x.shape)\n",
    "print(valid_x.shape)"
   ]
  },
  {
   "cell_type": "markdown",
   "metadata": {},
   "source": [
    "## xgboost"
   ]
  },
  {
   "cell_type": "code",
   "execution_count": 70,
   "metadata": {},
   "outputs": [
    {
     "name": "stdout",
     "output_type": "stream",
     "text": [
      "[22:39:48] WARNING: C:/Users/Administrator/workspace/xgboost-win64_release_1.5.1/src/learner.cc:576: \n",
      "Parameters: { \"silent\" } might not be used.\n",
      "\n",
      "  This could be a false alarm, with some parameters getting used by language bindings but\n",
      "  then being mistakenly passed down to XGBoost core, or some parameter actually being used\n",
      "  but getting flagged wrongly here. Please open an issue if you find any such cases.\n",
      "\n",
      "\n",
      "RMSE':87.71446989796786\n",
      "RMSE':100.93962025121841\n"
     ]
    },
    {
     "data": {
      "image/png": "[encoded data removed]",
      "text/plain": [
       "<Figure size 576x432 with 1 Axes>"
      ]
     },
     "metadata": {
      "needs_background": "light"
     },
     "output_type": "display_data"
    }
   ],
   "source": [
    "import xgboost as xgb\n",
    "from xgboost.sklearn import XGBRegressor\n",
    "\n",
    "from sklearn.ensemble import RandomForestRegressor\n",
    "from sklearn.model_selection import cross_val_score\n",
    "from sklearn.preprocessing import LabelEncoder\n",
    "import pandas as pd\n",
    "import numpy as np\n",
    "from sklearn.model_selection import GridSearchCV\n",
    "from sklearn.model_selection import train_test_split\n",
    "from sklearn.metrics import mean_squared_error\n",
    "import math\n",
    "import warnings\n",
    "warnings.filterwarnings('ignore')\n",
    "\n",
    "xgb1=XGBRegressor(colsample_bytree=0.7, learning_rate=0.07, max_depth=7, min_child_weight=4, \n",
    "                 n_estimators=500, nthread=4, silent=1, subsample=0.7 )\n",
    "xgb1.fit(train_x,train_y)\n",
    "\n",
    "\n",
    "# train rmse\n",
    "train_predict = xgb1.predict(train_x)\n",
    "print(\"RMSE':{}\".format(math.sqrt(mean_squared_error(train_predict, train_y))) )\n",
    " \n",
    "# validation rmse\n",
    "valid_predict = xgb1.predict(valid_x)\n",
    "print(\"RMSE':{}\".format(math.sqrt(mean_squared_error(valid_predict, valid_y))) )\n",
    "\n",
    "#변수중요도 시각화 \n",
    "import matplotlib.pyplot as plt # 득점모델 변수 중요도\n",
    "import seaborn as sns\n",
    "%matplotlib inline\n",
    " \n",
    "\n",
    "ftr_importances_values = xgb1.feature_importances_\n",
    "ftr_importances = pd.Series(ftr_importances_values, index=train_x.columns)\n",
    "ftr_top = ftr_importances.sort_values(ascending=False)[:20]\n",
    " \n",
    "plt.figure(figsize=(8, 6))\n",
    "sns.barplot(x=ftr_top, y=ftr_top.index)\n",
    "plt.show()"
   ]
  },
  {
   "cell_type": "code",
   "execution_count": 71,
   "metadata": {},
   "outputs": [
    {
     "data": {
      "text/plain": [
       "Text(0.5, 1.0, 'credit score prediction by randomforest')"
      ]
     },
     "execution_count": 71,
     "metadata": {},
     "output_type": "execute_result"
    },
    {
     "data": {
      "image/png": "[encoded data removed]",
      "text/plain": [
       "<Figure size 864x288 with 1 Axes>"
      ]
     },
     "metadata": {
      "needs_background": "light"
     },
     "output_type": "display_data"
    }
   ],
   "source": [
    "\n",
    "#visualization\n",
    "fig=plt.figure(figsize=(12,4))\n",
    "graph=fig.add_subplot(1,1,1)\n",
    "graph.plot(valid_y[:100], marker=\"o\", color=\"blue\",label=\"true value\")\n",
    "graph.plot(valid_predict[:100], marker=\"^\", color=\"red\",label=\"prediction value\" )\n",
    "graph.set_title(\"credit score prediction by randomforest\")\n",
    "\n",
    "\n"
   ]
  },
  {
   "cell_type": "code",
   "execution_count": 72,
   "metadata": {},
   "outputs": [
    {
     "data": {
      "text/plain": [
       "Text(0.5, 1.0, 'credit score prediction by randomforest')"
      ]
     },
     "execution_count": 72,
     "metadata": {},
     "output_type": "execute_result"
    },
    {
     "data": {
      "image/png": "[encoded data removed]",
      "text/plain": [
       "<Figure size 864x288 with 1 Axes>"
      ]
     },
     "metadata": {
      "needs_background": "light"
     },
     "output_type": "display_data"
    }
   ],
   "source": [
    "fig=plt.figure(figsize=(12,4))\n",
    "graph=fig.add_subplot(1,1,1)\n",
    "graph.plot(valid_y[:500], marker=\"o\", color=\"blue\",label=\"true value\")\n",
    "graph.plot(valid_predict[:500], marker=\"^\", color=\"red\",label=\"prediction value\" )\n",
    "graph.set_title(\"credit score prediction by randomforest\")\n",
    "\n",
    "\n"
   ]
  },
  {
   "cell_type": "code",
   "execution_count": 73,
   "metadata": {},
   "outputs": [
    {
     "data": {
      "text/plain": [
       "Text(0.5, 1.0, 'credit score prediction by randomforest')"
      ]
     },
     "execution_count": 73,
     "metadata": {},
     "output_type": "execute_result"
    },
    {
     "data": {
      "image/png": "[encoded data removed]",
      "text/plain": [
       "<Figure size 864x288 with 1 Axes>"
      ]
     },
     "metadata": {
      "needs_background": "light"
     },
     "output_type": "display_data"
    }
   ],
   "source": [
    "\n",
    "#visualization\n",
    "fig=plt.figure(figsize=(12,4))\n",
    "graph=fig.add_subplot(1,1,1)\n",
    "graph.plot(valid_y, marker=\"o\", color=\"blue\",label=\"true value\")\n",
    "graph.plot(valid_predict, marker=\"^\", color=\"red\",label=\"prediction value\" )\n",
    "graph.set_title(\"credit score prediction by randomforest\")\n",
    "\n",
    "\n"
   ]
  },
  {
   "cell_type": "code",
   "execution_count": 74,
   "metadata": {},
   "outputs": [
    {
     "name": "stdout",
     "output_type": "stream",
     "text": [
      "1111041\n",
      "3520809\n",
      "(10264349, 25)\n",
      "(3255482, 25)\n",
      "(10264349, 17)\n",
      "(3255482, 17)\n",
      "(10264349, 41)\n",
      "(3255482, 41)\n",
      "1111041\n",
      "265327\n",
      "(10264349, 40)\n",
      "(3255482, 40)\n"
     ]
    }
   ],
   "source": [
    "## 저장\n",
    "#train3 : credit_score가 NA가 아닌경우만\n",
    "#test3 : 이후 predict할때 넣으니까 행 개수가 달라지면 안돼!!\n",
    "\n",
    "print(train3_fillna.isna().sum().sum())\n",
    "print(test3_fillna.isna().sum().sum())\n",
    "print(train3_fillna.shape)\n",
    "print(test3_fillna.shape)\n",
    "\n",
    "print(train3.shape)\n",
    "print(test3.shape)\n",
    "train3 = pd.get_dummies(train3)\n",
    "test3 = pd.get_dummies(test3)\n",
    "test3 = test3.reindex(columns = train3.columns, fill_value=0)\n",
    "\n",
    "print(train3.shape)\n",
    "print(test3.shape)\n",
    "print(train3.isna().sum().sum())\n",
    "print(test3.isna().sum().sum())\n",
    "\n",
    "\n",
    "train_x = train3.drop([\"credit_score\"], axis=1)\n",
    "test_x = test3.drop([\"credit_score\"], axis=1)\n",
    "train_x = pd.get_dummies(train_x)\n",
    "test_x = pd.get_dummies(test_x)\n",
    "\n",
    "\n",
    "print(train_x.shape)\n",
    "print(test_x.shape)\n"
   ]
  },
  {
   "cell_type": "code",
   "execution_count": 75,
   "metadata": {},
   "outputs": [
    {
     "name": "stdout",
     "output_type": "stream",
     "text": [
      "(10264349,)\n",
      "(3255482,)\n"
     ]
    }
   ],
   "source": [
    "\n",
    "#predict\n",
    "train_predict = xgb1.predict(train_x)\n",
    "valid_predict = xgb1.predict(test_x)\n",
    "\n",
    "print(train_predict.shape)\n",
    "print(valid_predict.shape)\n",
    "\n"
   ]
  },
  {
   "cell_type": "code",
   "execution_count": 76,
   "metadata": {},
   "outputs": [
    {
     "name": "stdout",
     "output_type": "stream",
     "text": [
      "(10264349, 25)\n",
      "(3255482, 25)\n"
     ]
    }
   ],
   "source": [
    "\n",
    "\n",
    "train3_fillna[\"credit_score2\"]=pd.DataFrame(train_predict)\n",
    "test3_fillna[\"credit_score2\"]=pd.DataFrame(valid_predict)\n",
    "\n",
    "\n",
    "\n",
    "# 결측치이면 credit_score_y 대체\n",
    "train3_fillna[\"credit_score\"].fillna(train3_fillna[\"credit_score2\"], inplace=True)\n",
    "test3_fillna[\"credit_score\"].fillna(test3_fillna[\"credit_score2\"], inplace=True)\n",
    "\n",
    "# 불필요한 열 삭제 \n",
    "del train3_fillna['credit_score2']\n",
    "del test3_fillna['credit_score2']\n",
    "\n",
    "print(train3_fillna.shape)\n",
    "print(test3_fillna.shape)\n"
   ]
  },
  {
   "cell_type": "code",
   "execution_count": 77,
   "metadata": {},
   "outputs": [
    {
     "name": "stdout",
     "output_type": "stream",
     "text": [
      "application_id                         0\n",
      "loanapply_insert_time                  0\n",
      "bank_id                                0\n",
      "product_id                             0\n",
      "loan_limit                             0\n",
      "loan_rate                              0\n",
      "is_applied                             0\n",
      "user_id                                0\n",
      "birth_year                             0\n",
      "gender                                 0\n",
      "insert_time                            0\n",
      "credit_score                           0\n",
      "yearly_income                          0\n",
      "income_type                            0\n",
      "company_enter_month                    0\n",
      "employment_type                        0\n",
      "houseown_type                          0\n",
      "desired_amount                         0\n",
      "purpose                                0\n",
      "personal_rehabilitation_yn             0\n",
      "personal_rehabilitation_complete_yn    0\n",
      "existing_loan_cnt                      0\n",
      "existing_loan_amt                      0\n",
      "isna                                   0\n",
      "isjob                                  0\n",
      "dtype: int64\n",
      "application_id                               0\n",
      "loanapply_insert_time                        0\n",
      "bank_id                                      0\n",
      "product_id                                   0\n",
      "loan_limit                                   0\n",
      "loan_rate                                    0\n",
      "is_applied                             3255482\n",
      "user_id                                      0\n",
      "birth_year                                   0\n",
      "gender                                       0\n",
      "insert_time                                  0\n",
      "credit_score                                 0\n",
      "yearly_income                                6\n",
      "income_type                                  0\n",
      "company_enter_month                          0\n",
      "employment_type                              0\n",
      "houseown_type                                0\n",
      "desired_amount                               0\n",
      "purpose                                      0\n",
      "personal_rehabilitation_yn                   0\n",
      "personal_rehabilitation_complete_yn          0\n",
      "existing_loan_cnt                            0\n",
      "existing_loan_amt                            0\n",
      "isna                                         0\n",
      "isjob                                        0\n",
      "dtype: int64\n"
     ]
    }
   ],
   "source": [
    "print(train3_fillna.isna().sum())\n",
    "print(test3_fillna.isna().sum())"
   ]
  },
  {
   "cell_type": "markdown",
   "metadata": {},
   "source": [
    "# na/ notna 분리하기"
   ]
  },
  {
   "cell_type": "code",
   "execution_count": 79,
   "metadata": {},
   "outputs": [
    {
     "name": "stdout",
     "output_type": "stream",
     "text": [
      "(2531253, 25)\n",
      "(652345, 25)\n"
     ]
    }
   ],
   "source": [
    "# na_train: (2531253, 25)\n",
    "# na_test: (652345, 25)"
   ]
  },
  {
   "cell_type": "code",
   "execution_count": 80,
   "metadata": {},
   "outputs": [],
   "source": [
    "train_na = train3_fillna.loc[train3_fillna['isna']=='Na']\n",
    "test_na = test3_fillna.loc[test3_fillna['isna']=='Na']"
   ]
  },
  {
   "cell_type": "code",
   "execution_count": 81,
   "metadata": {},
   "outputs": [
    {
     "name": "stdout",
     "output_type": "stream",
     "text": [
      "train: (2531253, 25)\n",
      "test: (652345, 25)\n"
     ]
    }
   ],
   "source": [
    "print('train:', train_na.shape)\n",
    "print('test:', test_na.shape)"
   ]
  },
  {
   "cell_type": "code",
   "execution_count": null,
   "metadata": {},
   "outputs": [],
   "source": [
    "train_na.drop('isna',axis=1)\n",
    "test_na.drop('isna',axis=1)"
   ]
  },
  {
   "cell_type": "markdown",
   "metadata": {
    "id": "a_EVnOGj1rHa"
   },
   "source": [
    "# 저장"
   ]
  },
  {
   "cell_type": "code",
   "execution_count": 83,
   "metadata": {
    "id": "5uD0KUOIrwit"
   },
   "outputs": [],
   "source": [
    "train_na.to_csv(r'C:\\Users\\User\\Desktop\\까마귀\\train_1011_filledna.csv', index=False)\n",
    "test_na.to_csv(r'C:\\Users\\User\\Desktop\\까마귀\\test_1011_filledna.csv', index=False)\n"
   ]
  },
  {
   "cell_type": "code",
   "execution_count": null,
   "metadata": {},
   "outputs": [],
   "source": []
  }
 ],
 "metadata": {
  "colab": {
   "collapsed_sections": [
    "vKftT1Nb331U",
    "SP7CrB9H9d6n",
    "ndBo7kYxACcJ",
    "Dladz8py9svO",
    "Wby7YJdstI3r",
    "ymLDJnIjlMMe",
    "iRWWAFNslOW5",
    "KQXgPwT7qAwH"
   ],
   "provenance": [],
   "toc_visible": true
  },
  "kernelspec": {
   "display_name": "Python 3 (ipykernel)",
   "language": "python",
   "name": "python3"
  },
  "language_info": {
   "codemirror_mode": {
    "name": "ipython",
    "version": 3
   },
   "file_extension": ".py",
   "mimetype": "text/x-python",
   "name": "python",
   "nbconvert_exporter": "python",
   "pygments_lexer": "ipython3",
   "version": "3.9.7"
  }
 },
 "nbformat": 4,
 "nbformat_minor": 1
}
